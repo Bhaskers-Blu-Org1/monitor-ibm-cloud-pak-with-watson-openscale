{
 "cells": [
  {
   "cell_type": "markdown",
   "metadata": {},
   "source": [
    "<img src=\"https://github.com/pmservice/ai-openscale-tutorials/raw/master/notebooks/images/banner.png\" align=\"left\" alt=\"banner\">"
   ]
  },
  {
   "cell_type": "markdown",
   "metadata": {},
   "source": [
    "# Working with Watson Machine Learning"
   ]
  },
  {
   "cell_type": "markdown",
   "metadata": {},
   "source": [
    "The notebook will train, create and deploy a Credit Risk model, configure OpenScale to monitor that deployment, and inject seven days' worth of historical records and measurements for viewing in the OpenScale Insights dashboard."
   ]
  },
  {
   "cell_type": "markdown",
   "metadata": {},
   "source": [
    "### Contents\n",
    "\n",
    "- [Setup](#setup)\n",
    "- [Model building and deployment](#model)\n",
    "- [OpenScale configuration](#openscale)\n",
    "- [Quality monitor and feedback logging](#quality)\n",
    "- [Fairness monitoring and explanations](#fairness)\n",
    "- [Custom monitors and metrics](#custom)\n",
    "- [Payload analytics](#analytics)\n",
    "- [Historical data](#historical)"
   ]
  },
  {
   "cell_type": "markdown",
   "metadata": {},
   "source": [
    "# 1.0 Setup <a name=\"setup\"></a>"
   ]
  },
  {
   "cell_type": "markdown",
   "metadata": {
    "collapsed": true
   },
   "source": [
    "## 1.1 Package installation"
   ]
  },
  {
   "cell_type": "code",
   "execution_count": 1,
   "metadata": {},
   "outputs": [
    {
     "name": "stdout",
     "output_type": "stream",
     "text": [
      "Requirement already satisfied, skipping upgrade: python-dateutil>=2.5.0 in /opt/conda/envs/Python-3.6/lib/python3.6/site-packages (from pandas->ibm-ai-openscale==2.2.1) (2.7.5)\n",
      "Requirement already satisfied, skipping upgrade: setuptools in /opt/conda/envs/Python-3.6/lib/python3.6/site-packages (from protobuf>=3.6.0->tensorboard==1.13.0) (40.8.0)\n",
      "Requirement already up-to-date: JPype1-py3 in /opt/conda/envs/Python-3.6/lib/python3.6/site-packages (0.5.5.4)\n",
      "Requirement already satisfied, skipping upgrade: docutils<0.16,>=0.10 in /opt/conda/envs/Python-3.6/lib/python3.6/site-packages (from ibm-cos-sdk-core>=2.0.0->ibm-cos-sdk->watson-machine-learning-client-V4==1.0.55) (0.14)\n",
      "Requirement already up-to-date: numpy==1.18.3 in /opt/conda/envs/Python-3.6/lib/python3.6/site-packages (1.18.3)\n",
      "Requirement already satisfied, skipping upgrade: numpy>=1.13.3 in /opt/conda/envs/Python-3.6/lib/python3.6/site-packages (from SciPy==1.4.1) (1.18.3)\n",
      "Requirement already satisfied, skipping upgrade: py4j==0.10.6 in /opt/conda/envs/Python-3.6/lib/python3.6/site-packages (from pyspark==2.3) (0.10.6)\n",
      "Requirement already satisfied, skipping upgrade: scipy>=0.13.3 in /opt/conda/envs/Python-3.6/lib/python3.6/site-packages (from scikit-learn==0.20.3) (1.4.1)\n",
      "Requirement already satisfied, skipping upgrade: six>=1.5 in /opt/conda/envs/Python-3.6/lib/python3.6/site-packages (from python-dateutil>=2.5.0->pandas==0.24.2) (1.12.0)\n"
     ]
    }
   ],
   "source": [
    "!rm -rf /home/spark/shared/user-libs/python3.6*\n",
    "\n",
    "!pip install --upgrade ibm-ai-openscale==2.2.1 --no-cache | tail -n 1\n",
    "!pip install --upgrade tensorboard==1.13.0 | tail -n 1\n",
    "!pip install --upgrade JPype1-py3 | tail -n 1\n",
    "!pip install --upgrade watson-machine-learning-client-V4==1.0.55 | tail -n 1\n",
    "!pip install --upgrade numpy==1.18.3 --no-cache | tail -n 1\n",
    "!pip install --upgrade SciPy==1.4.1 --no-cache | tail -n 1\n",
    "!pip install --upgrade pyspark==2.3 | tail -n 1\n",
    "!pip install --upgrade scikit-learn==0.20.3 | tail -n 1\n",
    "!pip install --upgrade pandas==0.24.2 | tail -n 1"
   ]
  },
  {
   "cell_type": "markdown",
   "metadata": {},
   "source": [
    "### Action: restart the kernel!"
   ]
  },
  {
   "cell_type": "markdown",
   "metadata": {},
   "source": [
    "## 1.2 Configure credentials"
   ]
  },
  {
   "cell_type": "markdown",
   "metadata": {
    "scrolled": true
   },
   "source": [
    "- WOS_CREDENTIALS (ICP)\n",
    "- WML_CREDENTIALS (ICP)\n",
    "- DATABASE_CREDENTIALS (DB2 on ICP)\n",
    "- SCHEMA_NAME\n",
    "\n",
    "\n"
   ]
  },
  {
   "cell_type": "markdown",
   "metadata": {},
   "source": [
    "Set the url to that of your IPC cluster. Use your own `username` and `password`."
   ]
  },
  {
   "cell_type": "code",
   "execution_count": null,
   "metadata": {},
   "outputs": [],
   "source": [
    "WOS_CREDENTIALS = {\n",
    "    \"url\": \"*******************\",\n",
    "    \"username\": \"*********\",\n",
    "    \"password\": \"****\"\n",
    "}"
   ]
  },
  {
   "cell_type": "code",
   "execution_count": 3,
   "metadata": {},
   "outputs": [],
   "source": [
    "WML_CREDENTIALS = WOS_CREDENTIALS.copy()\n",
    "WML_CREDENTIALS['instance_id']='openshift'\n",
    "WML_CREDENTIALS['version']='2.5.0'"
   ]
  },
  {
   "cell_type": "markdown",
   "metadata": {},
   "source": [
    "The DATABASE_CREDENTIALS can be obtained by following the steps from the README."
   ]
  },
  {
   "cell_type": "code",
   "execution_count": 4,
   "metadata": {},
   "outputs": [],
   "source": [
    "DATABASE_CREDENTIALS = {\n",
    "\n",
    "}"
   ]
  },
  {
   "cell_type": "markdown",
   "metadata": {},
   "source": [
    "The SCHEMA_NAME can be obtained by following the steps from the README."
   ]
  },
  {
   "cell_type": "code",
   "execution_count": 5,
   "metadata": {},
   "outputs": [],
   "source": [
    "SCHEMA_NAME = ''"
   ]
  },
  {
   "cell_type": "markdown",
   "metadata": {},
   "source": [
    "## Run the notebook\n",
    "\n",
    "At this point, the notebook is ready to run. You can either run the cells one at a time, or click the **Kernel** option above and select **Restart and Run All** to run all the cells."
   ]
  },
  {
   "cell_type": "markdown",
   "metadata": {},
   "source": [
    "# 2.0 Model building and deployment <a name=\"model\"></a>"
   ]
  },
  {
   "cell_type": "markdown",
   "metadata": {},
   "source": [
    "In this section you will learn how to train Spark MLLib model and next deploy it as web-service using Watson Machine Learning service."
   ]
  },
  {
   "cell_type": "markdown",
   "metadata": {},
   "source": [
    "## 2.1 Load the training data "
   ]
  },
  {
   "cell_type": "code",
   "execution_count": 7,
   "metadata": {},
   "outputs": [
    {
     "name": "stdout",
     "output_type": "stream",
     "text": [
      "rm: cannot remove 'german_credit_data_biased_training.csv': No such file or directory\n",
      "--2020-05-08 20:57:17--  https://raw.githubusercontent.com/IBM/monitor-ibm-cloud-pak-with-watson-openscale/master/data/german_credit_data_biased_training.csv\n",
      "Resolving raw.githubusercontent.com (raw.githubusercontent.com)... 151.101.48.133\n",
      "Connecting to raw.githubusercontent.com (raw.githubusercontent.com)|151.101.48.133|:443... connected.\n",
      "HTTP request sent, awaiting response... 200 OK\n",
      "Length: 689622 (673K) [text/plain]\n",
      "Saving to: 'german_credit_data_biased_training.csv'\n",
      "\n",
      "100%[======================================>] 689,622     --.-K/s   in 0.02s   \n",
      "\n",
      "2020-05-08 20:57:18 (29.0 MB/s) - 'german_credit_data_biased_training.csv' saved [689622/689622]\n",
      "\n"
     ]
    }
   ],
   "source": [
    "!rm german_credit_data_biased_training.csv\n",
    "!wget https://raw.githubusercontent.com/IBM/monitor-ibm-cloud-pak-with-watson-openscale/master/data/german_credit_data_biased_training.csv"
   ]
  },
  {
   "cell_type": "code",
   "execution_count": 8,
   "metadata": {},
   "outputs": [
    {
     "data": {
      "text/plain": [
       "Row(CheckingStatus='0_to_200', LoanDuration=31, CreditHistory='credits_paid_to_date', LoanPurpose='other', LoanAmount=1889, ExistingSavings='100_to_500', EmploymentDuration='less_1', InstallmentPercent=3, Sex='female', OthersOnLoan='none', CurrentResidenceDuration=3, OwnsProperty='savings_insurance', Age=32, InstallmentPlans='none', Housing='own', ExistingCreditsCount=1, Job='skilled', Dependents=1, Telephone='none', ForeignWorker='yes', Risk='No Risk')"
      ]
     },
     "execution_count": 8,
     "metadata": {},
     "output_type": "execute_result"
    }
   ],
   "source": [
    "from pyspark.sql import SparkSession\n",
    "import pandas as pd\n",
    "import json\n",
    "\n",
    "spark = SparkSession.builder.getOrCreate()\n",
    "pd_data = pd.read_csv(\"german_credit_data_biased_training.csv\", sep=\",\", header=0)\n",
    "df_data = spark.read.csv(path=\"german_credit_data_biased_training.csv\", sep=\",\", header=True, inferSchema=True)\n",
    "df_data.head()"
   ]
  },
  {
   "cell_type": "markdown",
   "metadata": {},
   "source": [
    "## 2.2 Explore data"
   ]
  },
  {
   "cell_type": "code",
   "execution_count": 9,
   "metadata": {
    "scrolled": true
   },
   "outputs": [
    {
     "name": "stdout",
     "output_type": "stream",
     "text": [
      "root\n",
      " |-- CheckingStatus: string (nullable = true)\n",
      " |-- LoanDuration: integer (nullable = true)\n",
      " |-- CreditHistory: string (nullable = true)\n",
      " |-- LoanPurpose: string (nullable = true)\n",
      " |-- LoanAmount: integer (nullable = true)\n",
      " |-- ExistingSavings: string (nullable = true)\n",
      " |-- EmploymentDuration: string (nullable = true)\n",
      " |-- InstallmentPercent: integer (nullable = true)\n",
      " |-- Sex: string (nullable = true)\n",
      " |-- OthersOnLoan: string (nullable = true)\n",
      " |-- CurrentResidenceDuration: integer (nullable = true)\n",
      " |-- OwnsProperty: string (nullable = true)\n",
      " |-- Age: integer (nullable = true)\n",
      " |-- InstallmentPlans: string (nullable = true)\n",
      " |-- Housing: string (nullable = true)\n",
      " |-- ExistingCreditsCount: integer (nullable = true)\n",
      " |-- Job: string (nullable = true)\n",
      " |-- Dependents: integer (nullable = true)\n",
      " |-- Telephone: string (nullable = true)\n",
      " |-- ForeignWorker: string (nullable = true)\n",
      " |-- Risk: string (nullable = true)\n",
      "\n"
     ]
    }
   ],
   "source": [
    "df_data.printSchema()"
   ]
  },
  {
   "cell_type": "code",
   "execution_count": 10,
   "metadata": {
    "scrolled": true
   },
   "outputs": [
    {
     "name": "stdout",
     "output_type": "stream",
     "text": [
      "Number of records: 5000\n"
     ]
    }
   ],
   "source": [
    "print(\"Number of records: \" + str(df_data.count()))"
   ]
  },
  {
   "cell_type": "markdown",
   "metadata": {},
   "source": [
    "## 2.3 Create a model"
   ]
  },
  {
   "cell_type": "markdown",
   "metadata": {},
   "source": [
    "Give a unique name to `MODEL_NAME` and `DEPLOYMENT_NAME`"
   ]
  },
  {
   "cell_type": "code",
   "execution_count": 11,
   "metadata": {},
   "outputs": [],
   "source": [
    "MODEL_NAME = \"samaya Risk Model May 8\"\n",
    "DEPLOYMENT_NAME = \"samaya Deployment May 8\""
   ]
  },
  {
   "cell_type": "code",
   "execution_count": 12,
   "metadata": {
    "scrolled": true
   },
   "outputs": [
    {
     "name": "stdout",
     "output_type": "stream",
     "text": [
      "Number of records for training: 4016\n",
      "Number of records for evaluation: 984\n",
      "root\n",
      " |-- CheckingStatus: string (nullable = true)\n",
      " |-- LoanDuration: integer (nullable = true)\n",
      " |-- CreditHistory: string (nullable = true)\n",
      " |-- LoanPurpose: string (nullable = true)\n",
      " |-- LoanAmount: integer (nullable = true)\n",
      " |-- ExistingSavings: string (nullable = true)\n",
      " |-- EmploymentDuration: string (nullable = true)\n",
      " |-- InstallmentPercent: integer (nullable = true)\n",
      " |-- Sex: string (nullable = true)\n",
      " |-- OthersOnLoan: string (nullable = true)\n",
      " |-- CurrentResidenceDuration: integer (nullable = true)\n",
      " |-- OwnsProperty: string (nullable = true)\n",
      " |-- Age: integer (nullable = true)\n",
      " |-- InstallmentPlans: string (nullable = true)\n",
      " |-- Housing: string (nullable = true)\n",
      " |-- ExistingCreditsCount: integer (nullable = true)\n",
      " |-- Job: string (nullable = true)\n",
      " |-- Dependents: integer (nullable = true)\n",
      " |-- Telephone: string (nullable = true)\n",
      " |-- ForeignWorker: string (nullable = true)\n",
      " |-- Risk: string (nullable = true)\n",
      "\n"
     ]
    }
   ],
   "source": [
    "spark_df = df_data\n",
    "(train_data, test_data) = spark_df.randomSplit([0.8, 0.2], 24)\n",
    "\n",
    "print(\"Number of records for training: \" + str(train_data.count()))\n",
    "print(\"Number of records for evaluation: \" + str(test_data.count()))\n",
    "\n",
    "spark_df.printSchema()"
   ]
  },
  {
   "cell_type": "markdown",
   "metadata": {},
   "source": [
    "The code below creates a Random Forest Classifier with Spark, setting up string indexers for the categorical features and the label column. Finally, this notebook creates a pipeline including the indexers and the model, and does an initial Area Under ROC evaluation of the model."
   ]
  },
  {
   "cell_type": "code",
   "execution_count": 13,
   "metadata": {
    "scrolled": true
   },
   "outputs": [],
   "source": [
    "from pyspark.ml.feature import OneHotEncoder, StringIndexer, IndexToString, VectorAssembler\n",
    "from pyspark.ml.evaluation import BinaryClassificationEvaluator\n",
    "from pyspark.ml import Pipeline, Model\n",
    "\n",
    "si_CheckingStatus = StringIndexer(inputCol = 'CheckingStatus', outputCol = 'CheckingStatus_IX')\n",
    "si_CreditHistory = StringIndexer(inputCol = 'CreditHistory', outputCol = 'CreditHistory_IX')\n",
    "si_LoanPurpose = StringIndexer(inputCol = 'LoanPurpose', outputCol = 'LoanPurpose_IX')\n",
    "si_ExistingSavings = StringIndexer(inputCol = 'ExistingSavings', outputCol = 'ExistingSavings_IX')\n",
    "si_EmploymentDuration = StringIndexer(inputCol = 'EmploymentDuration', outputCol = 'EmploymentDuration_IX')\n",
    "si_Sex = StringIndexer(inputCol = 'Sex', outputCol = 'Sex_IX')\n",
    "si_OthersOnLoan = StringIndexer(inputCol = 'OthersOnLoan', outputCol = 'OthersOnLoan_IX')\n",
    "si_OwnsProperty = StringIndexer(inputCol = 'OwnsProperty', outputCol = 'OwnsProperty_IX')\n",
    "si_InstallmentPlans = StringIndexer(inputCol = 'InstallmentPlans', outputCol = 'InstallmentPlans_IX')\n",
    "si_Housing = StringIndexer(inputCol = 'Housing', outputCol = 'Housing_IX')\n",
    "si_Job = StringIndexer(inputCol = 'Job', outputCol = 'Job_IX')\n",
    "si_Telephone = StringIndexer(inputCol = 'Telephone', outputCol = 'Telephone_IX')\n",
    "si_ForeignWorker = StringIndexer(inputCol = 'ForeignWorker', outputCol = 'ForeignWorker_IX')"
   ]
  },
  {
   "cell_type": "code",
   "execution_count": 14,
   "metadata": {
    "scrolled": true
   },
   "outputs": [],
   "source": [
    "si_Label = StringIndexer(inputCol=\"Risk\", outputCol=\"label\").fit(spark_df)\n",
    "label_converter = IndexToString(inputCol=\"prediction\", outputCol=\"predictedLabel\", labels=si_Label.labels)"
   ]
  },
  {
   "cell_type": "code",
   "execution_count": 15,
   "metadata": {
    "scrolled": true
   },
   "outputs": [],
   "source": [
    "va_features = VectorAssembler(inputCols=[\"CheckingStatus_IX\", \"CreditHistory_IX\", \"LoanPurpose_IX\", \"ExistingSavings_IX\", \"EmploymentDuration_IX\", \"Sex_IX\", \\\n",
    "                                         \"OthersOnLoan_IX\", \"OwnsProperty_IX\", \"InstallmentPlans_IX\", \"Housing_IX\", \"Job_IX\", \"Telephone_IX\", \"ForeignWorker_IX\", \\\n",
    "                                         \"LoanDuration\", \"LoanAmount\", \"InstallmentPercent\", \"CurrentResidenceDuration\", \"LoanDuration\", \"Age\", \"ExistingCreditsCount\", \\\n",
    "                                         \"Dependents\"], outputCol=\"features\")"
   ]
  },
  {
   "cell_type": "code",
   "execution_count": 16,
   "metadata": {
    "scrolled": true
   },
   "outputs": [],
   "source": [
    "from pyspark.ml.classification import RandomForestClassifier\n",
    "classifier = RandomForestClassifier(featuresCol=\"features\")\n",
    "\n",
    "pipeline = Pipeline(stages=[si_CheckingStatus, si_CreditHistory, si_EmploymentDuration, si_ExistingSavings, si_ForeignWorker, si_Housing, si_InstallmentPlans, si_Job, si_LoanPurpose, si_OthersOnLoan,\\\n",
    "                               si_OwnsProperty, si_Sex, si_Telephone, si_Label, va_features, classifier, label_converter])\n",
    "model = pipeline.fit(train_data)"
   ]
  },
  {
   "cell_type": "code",
   "execution_count": 17,
   "metadata": {
    "scrolled": true
   },
   "outputs": [
    {
     "name": "stdout",
     "output_type": "stream",
     "text": [
      "areaUnderROC = 0.696731 areaUnderPR = 0.606763\n"
     ]
    }
   ],
   "source": [
    "predictions = model.transform(test_data)\n",
    "evaluatorDT = BinaryClassificationEvaluator(rawPredictionCol=\"prediction\",  metricName='areaUnderROC')\n",
    "area_under_curve = evaluatorDT.evaluate(predictions)\n",
    "\n",
    "evaluatorDT = BinaryClassificationEvaluator(rawPredictionCol=\"prediction\",  metricName='areaUnderPR')\n",
    "area_under_PR = evaluatorDT.evaluate(predictions)\n",
    "#default evaluation is areaUnderROC\n",
    "print(\"areaUnderROC = %g\" % area_under_curve, \"areaUnderPR = %g\" % area_under_PR)"
   ]
  },
  {
   "cell_type": "markdown",
   "metadata": {},
   "source": [
    "## 2.4 evaluate more metrics by exporting them into pandas and numpy"
   ]
  },
  {
   "cell_type": "code",
   "execution_count": 18,
   "metadata": {},
   "outputs": [
    {
     "name": "stdout",
     "output_type": "stream",
     "text": [
      "              precision    recall  f1-score   support\n",
      "\n",
      "        Risk       0.78      0.89      0.83       657\n",
      "     No Risk       0.70      0.50      0.58       327\n",
      "\n",
      "   micro avg       0.76      0.76      0.76       984\n",
      "   macro avg       0.74      0.70      0.71       984\n",
      "weighted avg       0.75      0.76      0.75       984\n",
      "\n"
     ]
    }
   ],
   "source": [
    "from sklearn.metrics import classification_report\n",
    "y_pred = predictions.toPandas()['prediction']\n",
    "y_pred = ['Risk' if pred == 1.0 else 'No Risk' for pred in y_pred]\n",
    "y_test = test_data.toPandas()['Risk']\n",
    "print(classification_report(y_test, y_pred, target_names=['Risk', 'No Risk']))"
   ]
  },
  {
   "cell_type": "markdown",
   "metadata": {},
   "source": [
    "## 2.5 Publish the model"
   ]
  },
  {
   "cell_type": "markdown",
   "metadata": {},
   "source": [
    "In this section, the notebook uses Watson Machine Learning to save the model (including the pipeline) to the WML instance. Previous versions of the model are removed so that the notebook can be run again, resetting all data for another demo."
   ]
  },
  {
   "cell_type": "code",
   "execution_count": 19,
   "metadata": {
    "scrolled": true
   },
   "outputs": [],
   "source": [
    "from watson_machine_learning_client import WatsonMachineLearningAPIClient\n",
    "import json\n",
    "\n",
    "wml_client = WatsonMachineLearningAPIClient(WML_CREDENTIALS)"
   ]
  },
  {
   "cell_type": "markdown",
   "metadata": {},
   "source": [
    "### 2.5.1 Set default space"
   ]
  },
  {
   "cell_type": "markdown",
   "metadata": {},
   "source": [
    "This is a new feature in CP4D, in order to deploy a model, you would have to create different\n",
    " deployment spaces and deploy your models there. You can list all the spaces using the .list()\n",
    " function, or you can create new spaces by going to CP4D menu on top left corner --> analyze -->\n",
    " analytics deployments --> New Deployment Space. Once you know which space you want to deploy\n",
    " in, simply use the GUID of the space as argument for .set.default_space() function below"
   ]
  },
  {
   "cell_type": "code",
   "execution_count": 20,
   "metadata": {},
   "outputs": [
    {
     "name": "stdout",
     "output_type": "stream",
     "text": [
      "------------------------------------  ---------------------------  ------------------------\n",
      "GUID                                  NAME                         CREATED\n",
      "7ae746fa-5d79-4386-abf9-200163f09a39  Samaya Deploment space 4-16  2020-04-16T14:46:56.437Z\n",
      "------------------------------------  ---------------------------  ------------------------\n"
     ]
    }
   ],
   "source": [
    "wml_client.spaces.list()"
   ]
  },
  {
   "cell_type": "markdown",
   "metadata": {},
   "source": [
    "We'll use the `GUID` for your Deployment space as listed for  the `default_space` in the method below:"
   ]
  },
  {
   "cell_type": "code",
   "execution_count": 21,
   "metadata": {},
   "outputs": [
    {
     "data": {
      "text/plain": [
       "'SUCCESS'"
      ]
     },
     "execution_count": 21,
     "metadata": {},
     "output_type": "execute_result"
    }
   ],
   "source": [
    "wml_client.set.default_space('7ae746fa-5d79-4386-abf9-200163f09a39')"
   ]
  },
  {
   "cell_type": "markdown",
   "metadata": {},
   "source": [
    "Alternately, set `space_name` below and use the following cell to create a space with that name"
   ]
  },
  {
   "cell_type": "code",
   "execution_count": 22,
   "metadata": {},
   "outputs": [],
   "source": [
    "# space_name = \"my_space_name\"\n",
    "# spaces = wml_client.spaces.get_details()['resources']\n",
    "# space_id = None\n",
    "# for space in spaces:\n",
    "#     if space['entity']['name'] == space_name:\n",
    "#         space_id = space[\"metadata\"][\"guid\"]\n",
    "# if space_id is None:\n",
    "#    space_id = wml_client.spaces.store(\n",
    "#        meta_props={wml_client.spaces.ConfigurationMetaNames.NAME: space_name})[\"metadata\"][\"guid\"]\n",
    "#wml_client.set.default_space(space_id)"
   ]
  },
  {
   "cell_type": "markdown",
   "metadata": {},
   "source": [
    "### 2.5.2 Remove existing model and deployment"
   ]
  },
  {
   "cell_type": "code",
   "execution_count": 24,
   "metadata": {
    "scrolled": true
   },
   "outputs": [
    {
     "name": "stdout",
     "output_type": "stream",
     "text": [
      "------------------------------------  --------------------  ------------------------  ---------\n",
      "GUID                                  NAME                  CREATED                   TYPE\n",
      "5bb357f7-0ac6-43f4-b8c1-798f7eaac787  samaya Risk Model     2020-05-06T19:00:20.002Z  mllib_2.3\n",
      "14126c55-6bf9-42df-a45c-ee8836bacf4b  test model by samaya  2020-04-23T19:21:42.002Z  mllib_2.3\n",
      "------------------------------------  --------------------  ------------------------  ---------\n"
     ]
    }
   ],
   "source": [
    "deployment_details = wml_client.deployments.get_details()\n",
    "for deployment in deployment_details['resources']:\n",
    "    deployment_id = deployment['metadata']['guid']\n",
    "    model_id = deployment['entity']['asset']['href'].split('/')[3].split('?')[0]\n",
    "    if deployment['entity']['name'] == DEPLOYMENT_NAME:\n",
    "        print('Deleting deployment id', deployment_id)\n",
    "        wml_client.deployments.delete(deployment_id)\n",
    "        print('Deleting model id', model_id)\n",
    "        wml_client.repository.delete(model_id)\n",
    "wml_client.repository.list_models()"
   ]
  },
  {
   "cell_type": "markdown",
   "metadata": {},
   "source": [
    "### 2.5.3 Set `training_data_reference`"
   ]
  },
  {
   "cell_type": "code",
   "execution_count": 25,
   "metadata": {},
   "outputs": [],
   "source": [
    "training_data_reference = {                                                             \n",
    "    \"name\": \"Credit Risk feedback\",\n",
    "    \"connection\": DATABASE_CREDENTIALS,\n",
    "    \"source\": {\n",
    "        \"tablename\": \"CREDIT_RISK_TRAINING\",\n",
    "        'schema_name': 'TRAININGDATA',\n",
    "        \"type\": \"db2\"\n",
    "    }\n",
    "}"
   ]
  },
  {
   "cell_type": "markdown",
   "metadata": {},
   "source": [
    "### 2.5.4 Store the model in Watson Machine Learning on CP4D"
   ]
  },
  {
   "cell_type": "code",
   "execution_count": 26,
   "metadata": {},
   "outputs": [
    {
     "name": "stdout",
     "output_type": "stream",
     "text": [
      "Storing model ...\n",
      "Done\n"
     ]
    }
   ],
   "source": [
    "wml_models = wml_client.repository.get_model_details()\n",
    "model_uid = None\n",
    "\n",
    "for model_in in wml_models['resources']:\n",
    "    if MODEL_NAME == model_in['entity']['name']:\n",
    "        model_uid = model_in['metadata']['guid']\n",
    "        break\n",
    "\n",
    "if model_uid is None:\n",
    "    print(\"Storing model ...\")\n",
    "    metadata = {\n",
    "        wml_client.repository.ModelMetaNames.NAME: MODEL_NAME,\n",
    "        wml_client.repository.ModelMetaNames.TYPE: 'mllib_2.3',\n",
    "        wml_client.repository.ModelMetaNames.RUNTIME_UID: 'spark-mllib_2.3',\n",
    "    }\n",
    "\n",
    "    published_model_details = wml_client.repository.store_model(model, metadata, training_data=df_data,  pipeline=pipeline)\n",
    "    model_uid = wml_client.repository.get_model_uid(published_model_details)\n",
    "    print(\"Done\")"
   ]
  },
  {
   "cell_type": "code",
   "execution_count": 27,
   "metadata": {},
   "outputs": [
    {
     "data": {
      "text/plain": [
       "'c266d3bd-fea0-49af-87f0-77b4c07a5d30'"
      ]
     },
     "execution_count": 27,
     "metadata": {},
     "output_type": "execute_result"
    }
   ],
   "source": [
    "model_uid"
   ]
  },
  {
   "cell_type": "markdown",
   "metadata": {},
   "source": [
    "## 2.6 Deploy the model"
   ]
  },
  {
   "cell_type": "markdown",
   "metadata": {},
   "source": [
    "The next section of the notebook deploys the model as a RESTful web service in Watson Machine Learning. The deployed model will have a scoring URL you can use to send data to the model for predictions."
   ]
  },
  {
   "cell_type": "code",
   "execution_count": 29,
   "metadata": {
    "scrolled": true
   },
   "outputs": [
    {
     "name": "stdout",
     "output_type": "stream",
     "text": [
      "Deploying model...\n",
      "\n",
      "\n",
      "#######################################################################################\n",
      "\n",
      "Synchronous deployment creation for uid: 'c266d3bd-fea0-49af-87f0-77b4c07a5d30' started\n",
      "\n",
      "#######################################################################################\n",
      "\n",
      "\n",
      "initializing.\n",
      "ready\n",
      "\n",
      "\n",
      "------------------------------------------------------------------------------------------------\n",
      "Successfully finished deployment creation, deployment_uid='6c6c2989-c171-4ac7-8160-37a4f372ffa9'\n",
      "------------------------------------------------------------------------------------------------\n",
      "\n",
      "\n",
      "Model id: c266d3bd-fea0-49af-87f0-77b4c07a5d30\n",
      "Deployment id: 6c6c2989-c171-4ac7-8160-37a4f372ffa9\n"
     ]
    }
   ],
   "source": [
    "wml_deployments = wml_client.deployments.get_details()\n",
    "deployment_uid = None\n",
    "for deployment in wml_deployments['resources']:\n",
    "    if DEPLOYMENT_NAME == deployment['entity']['name']:\n",
    "        deployment_uid = deployment['metadata']['guid']\n",
    "        break\n",
    "\n",
    "if deployment_uid is None:\n",
    "    print(\"Deploying model...\")\n",
    "    meta_props = {\n",
    "        wml_client.deployments.ConfigurationMetaNames.NAME: DEPLOYMENT_NAME,\n",
    "        wml_client.deployments.ConfigurationMetaNames.ONLINE: {}\n",
    "    }\n",
    "    deployment = wml_client.deployments.create(artifact_uid=model_uid, meta_props=meta_props)\n",
    "    deployment_uid = wml_client.deployments.get_uid(deployment)\n",
    "    \n",
    "print(\"Model id: {}\".format(model_uid))\n",
    "print(\"Deployment id: {}\".format(deployment_uid))"
   ]
  },
  {
   "cell_type": "markdown",
   "metadata": {},
   "source": [
    "# 3.0 Configure OpenScale <a name=\"openscale\"></a>"
   ]
  },
  {
   "cell_type": "markdown",
   "metadata": {},
   "source": [
    "The notebook will now import the necessary libraries and set up a Python OpenScale client."
   ]
  },
  {
   "cell_type": "code",
   "execution_count": 30,
   "metadata": {
    "scrolled": true
   },
   "outputs": [],
   "source": [
    "from ibm_ai_openscale import APIClient4ICP\n",
    "from ibm_ai_openscale.engines import *\n",
    "from ibm_ai_openscale.utils import *\n",
    "from ibm_ai_openscale.supporting_classes import PayloadRecord, Feature\n",
    "from ibm_ai_openscale.supporting_classes.enums import *"
   ]
  },
  {
   "cell_type": "code",
   "execution_count": 31,
   "metadata": {
    "scrolled": true
   },
   "outputs": [
    {
     "data": {
      "text/plain": [
       "'2.2.1'"
      ]
     },
     "execution_count": 31,
     "metadata": {},
     "output_type": "execute_result"
    }
   ],
   "source": [
    "ai_client = APIClient4ICP(WOS_CREDENTIALS)\n",
    "ai_client.version"
   ]
  },
  {
   "cell_type": "markdown",
   "metadata": {},
   "source": [
    "## 3.1 Create datamart"
   ]
  },
  {
   "cell_type": "markdown",
   "metadata": {},
   "source": [
    "### 3.1.1 Set up datamart"
   ]
  },
  {
   "cell_type": "markdown",
   "metadata": {},
   "source": [
    "Watson OpenScale uses a database to store payload logs and calculated metrics. If an OpenScale datamart already exists, the existing datamart will be used and no data will be overwritten.\n",
    "\n",
    "Prior instances of the Credit model will be removed from OpenScale monitoring."
   ]
  },
  {
   "cell_type": "code",
   "execution_count": 32,
   "metadata": {},
   "outputs": [
    {
     "name": "stdout",
     "output_type": "stream",
     "text": [
      "Using existing external datamart\n"
     ]
    }
   ],
   "source": [
    "try:\n",
    "    data_mart_details = ai_client.data_mart.get_details()\n",
    "    print('Using existing external datamart')\n",
    "except:\n",
    "    print('Setting up external datamart')\n",
    "    ai_client.data_mart.setup(db_credentials=DATABASE_CREDENTIALS, schema=SCHEMA_NAME)\n"
   ]
  },
  {
   "cell_type": "markdown",
   "metadata": {
    "scrolled": true
   },
   "source": [
    "data_mart_details"
   ]
  },
  {
   "cell_type": "markdown",
   "metadata": {},
   "source": [
    "## 3.2 Bind machine learning engines"
   ]
  },
  {
   "cell_type": "markdown",
   "metadata": {},
   "source": [
    "Watson OpenScale needs to be bound to the Watson Machine Learning instance to capture payload data into and out of the model. If this binding already exists, this code will output a warning message and use the existing binding."
   ]
  },
  {
   "cell_type": "code",
   "execution_count": 34,
   "metadata": {
    "scrolled": false
   },
   "outputs": [
    {
     "name": "stdout",
     "output_type": "stream",
     "text": [
      "Warning during bind instance.\n",
      "Status code: 409, body: {\"errors\":[{\"code\":\"AIQCS0010W\",\"message\":\"Service Binding with this id is already defined\"}],\"trace\":\"MTQyNWY1OTUtZmY5ZC00ZjBkLWJlNGUtZjM3ZDQ1OWQyYmY1\"}\n"
     ]
    }
   ],
   "source": [
    "binding_uid = ai_client.data_mart.bindings.add('WML instance', WatsonMachineLearningInstance4ICP(wml_credentials=WML_CREDENTIALS))\n",
    "if binding_uid is None:\n",
    "    binding_uid = ai_client.data_mart.bindings.get_details()['service_bindings'][0]['metadata']['guid']\n",
    "bindings_details = ai_client.data_mart.bindings.get_details()"
   ]
  },
  {
   "cell_type": "code",
   "execution_count": 35,
   "metadata": {
    "scrolled": true
   },
   "outputs": [
    {
     "data": {
      "text/plain": [
       "'999'"
      ]
     },
     "execution_count": 35,
     "metadata": {},
     "output_type": "execute_result"
    }
   ],
   "source": [
    "binding_uid"
   ]
  },
  {
   "cell_type": "code",
   "execution_count": 36,
   "metadata": {},
   "outputs": [
    {
     "data": {
      "text/html": [
       "<HTML>\n",
       "        <body>\n",
       "            <h3>Service bindings</h3>\n",
       "            <table style='border: 1px solid #dddddd; font-family: Courier'>\n",
       "                <th style='border: 1px solid #dddddd'>uid</th><th style='border: 1px solid #dddddd'>name</th><th style='border: 1px solid #dddddd'>service_type</th><th style='border: 1px solid #dddddd'>created</th>\n",
       "                <tr><td style='border: 1px solid #dddddd'>999</td><td style='border: 1px solid #dddddd'>ICP WML Instance</td><td style='border: 1px solid #dddddd'>watson_machine_learning</td><td style='border: 1px solid #dddddd'>2020-04-14T20:32:36.897Z</td></tr>\n",
       "            </table>\n",
       "        </body>\n",
       "        </HTML>"
      ],
      "text/plain": [
       "<IPython.core.display.HTML object>"
      ]
     },
     "metadata": {},
     "output_type": "display_data"
    }
   ],
   "source": [
    "ai_client.data_mart.bindings.list()"
   ]
  },
  {
   "cell_type": "code",
   "execution_count": 37,
   "metadata": {
    "scrolled": false
   },
   "outputs": [
    {
     "data": {
      "text/html": [
       "<HTML>\n",
       "        <body>\n",
       "            <h3>Available assets</h3>\n",
       "            <table style='border: 1px solid #dddddd; font-family: Courier'>\n",
       "                <th style='border: 1px solid #dddddd'>source_uid</th><th style='border: 1px solid #dddddd'>name</th><th style='border: 1px solid #dddddd'>created</th><th style='border: 1px solid #dddddd'>type</th><th style='border: 1px solid #dddddd'>frameworks</th><th style='border: 1px solid #dddddd'>binding_uid</th><th style='border: 1px solid #dddddd'>is_subscribed</th>\n",
       "                <tr><td style='border: 1px solid #dddddd'>c266d3bd-fea0-49af-87f0-77b4c07a5d30</td><td style='border: 1px solid #dddddd'>samaya Risk Model May 8</td><td style='border: 1px solid #dddddd'>2020-05-08T20:59:50.002Z</td><td style='border: 1px solid #dddddd'>model</td><td style='border: 1px solid #dddddd'>mllib_2.3</td><td style='border: 1px solid #dddddd'>999</td><td style='border: 1px solid #dddddd'>False</td></tr><tr><td style='border: 1px solid #dddddd'>5bb357f7-0ac6-43f4-b8c1-798f7eaac787</td><td style='border: 1px solid #dddddd'>samaya Risk Model</td><td style='border: 1px solid #dddddd'>2020-05-06T19:00:20.002Z</td><td style='border: 1px solid #dddddd'>model</td><td style='border: 1px solid #dddddd'>mllib_2.3</td><td style='border: 1px solid #dddddd'>999</td><td style='border: 1px solid #dddddd'>True</td></tr><tr><td style='border: 1px solid #dddddd'>62510199-edb8-4789-b28c-d9f92eb6ddfa</td><td style='border: 1px solid #dddddd'>scottda model 5-6-2020</td><td style='border: 1px solid #dddddd'>2020-05-06T15:49:51.002Z</td><td style='border: 1px solid #dddddd'>model</td><td style='border: 1px solid #dddddd'>mllib_2.3</td><td style='border: 1px solid #dddddd'>999</td><td style='border: 1px solid #dddddd'>True</td></tr><tr><td style='border: 1px solid #dddddd'>1b78e386-c90e-4d3c-8d6b-a3b57b1468f9</td><td style='border: 1px solid #dddddd'>scottda model 5-3-2020</td><td style='border: 1px solid #dddddd'>2020-05-04T17:39:21.002Z</td><td style='border: 1px solid #dddddd'>model</td><td style='border: 1px solid #dddddd'>mllib_2.3</td><td style='border: 1px solid #dddddd'>999</td><td style='border: 1px solid #dddddd'>True</td></tr><tr><td style='border: 1px solid #dddddd'>59af0b20-f90b-474b-b576-39c34baf23a8</td><td style='border: 1px solid #dddddd'>JRTChurnSpark423v1</td><td style='border: 1px solid #dddddd'>2020-04-24T01:58:22.002Z</td><td style='border: 1px solid #dddddd'>model</td><td style='border: 1px solid #dddddd'>mllib_2.3</td><td style='border: 1px solid #dddddd'>999</td><td style='border: 1px solid #dddddd'>False</td></tr><tr><td style='border: 1px solid #dddddd'>14126c55-6bf9-42df-a45c-ee8836bacf4b</td><td style='border: 1px solid #dddddd'>test model by samaya </td><td style='border: 1px solid #dddddd'>2020-04-23T19:21:42.002Z</td><td style='border: 1px solid #dddddd'>model</td><td style='border: 1px solid #dddddd'>mllib_2.3</td><td style='border: 1px solid #dddddd'>999</td><td style='border: 1px solid #dddddd'>False</td></tr><tr><td style='border: 1px solid #dddddd'>5a204c53-22f3-4fdb-ba0c-52ff1f4b9c71</td><td style='border: 1px solid #dddddd'>Telco Customer Churn Analysis - P4 XGBClassifierEstimator</td><td style='border: 1px solid #dddddd'>2020-04-17T16:11:59.002Z</td><td style='border: 1px solid #dddddd'>model</td><td style='border: 1px solid #dddddd'>wml-hybrid_0.1</td><td style='border: 1px solid #dddddd'>999</td><td style='border: 1px solid #dddddd'>False</td></tr><tr><td style='border: 1px solid #dddddd'>6f85ceb3-2405-4866-87dc-c26e8319a124</td><td style='border: 1px solid #dddddd'>ChurnAutoAIExp04172020v1 - P4 XGBClassifierEstimator</td><td style='border: 1px solid #dddddd'>2020-04-16T23:40:30.002Z</td><td style='border: 1px solid #dddddd'>model</td><td style='border: 1px solid #dddddd'>wml-hybrid_0.1</td><td style='border: 1px solid #dddddd'>999</td><td style='border: 1px solid #dddddd'>False</td></tr><tr><td style='border: 1px solid #dddddd'>e4bcd60c-7c01-4329-a800-46790ac8bed0</td><td style='border: 1px solid #dddddd'>JRTChurnModel04172020v3</td><td style='border: 1px solid #dddddd'>2020-04-16T23:16:06.002Z</td><td style='border: 1px solid #dddddd'>model</td><td style='border: 1px solid #dddddd'>mllib_2.3</td><td style='border: 1px solid #dddddd'>999</td><td style='border: 1px solid #dddddd'>False</td></tr><tr><td style='border: 1px solid #dddddd'>bb54dc8e-01dc-46bd-bf1a-e09b74fdd1d6</td><td style='border: 1px solid #dddddd'>sda model 4-16-2020</td><td style='border: 1px solid #dddddd'>2020-04-16T22:13:50.002Z</td><td style='border: 1px solid #dddddd'>model</td><td style='border: 1px solid #dddddd'>mllib_2.3</td><td style='border: 1px solid #dddddd'>999</td><td style='border: 1px solid #dddddd'>True</td></tr><tr><td style='border: 1px solid #dddddd'>67158df7-b383-4353-a5be-cd5980276c04</td><td style='border: 1px solid #dddddd'>GermanCreditRiskModelICP</td><td style='border: 1px solid #dddddd'>2020-04-14T20:32:38.002Z</td><td style='border: 1px solid #dddddd'>model</td><td style='border: 1px solid #dddddd'>mllib_2.3</td><td style='border: 1px solid #dddddd'>999</td><td style='border: 1px solid #dddddd'>True</td></tr>\n",
       "            </table>\n",
       "        </body>\n",
       "        </HTML>"
      ],
      "text/plain": [
       "<IPython.core.display.HTML object>"
      ]
     },
     "metadata": {},
     "output_type": "display_data"
    }
   ],
   "source": [
    "ai_client.data_mart.bindings.list_assets()"
   ]
  },
  {
   "cell_type": "code",
   "execution_count": 38,
   "metadata": {},
   "outputs": [
    {
     "data": {
      "text/plain": [
       "{'entity': {'credentials': {},\n",
       "  'instance_id': '999',\n",
       "  'name': 'ICP WML Instance',\n",
       "  'service_type': 'watson_machine_learning',\n",
       "  'status': {'state': 'active'}},\n",
       " 'metadata': {'guid': '999',\n",
       "  'url': '/v1/data_marts/00000000-0000-0000-0000-000000000000/service_bindings/999',\n",
       "  'created_at': '2020-04-14T20:32:36.897Z'}}"
      ]
     },
     "execution_count": 38,
     "metadata": {},
     "output_type": "execute_result"
    }
   ],
   "source": [
    "ai_client.data_mart.bindings.get_details(binding_uid)"
   ]
  },
  {
   "cell_type": "markdown",
   "metadata": {},
   "source": [
    "## 3.3 Subscriptions"
   ]
  },
  {
   "cell_type": "markdown",
   "metadata": {},
   "source": [
    "### 3.3.1 Remove existing credit risk subscriptions"
   ]
  },
  {
   "cell_type": "markdown",
   "metadata": {},
   "source": [
    "This code removes previous subscriptions to the Credit model to refresh the monitors with the new model and new data."
   ]
  },
  {
   "cell_type": "code",
   "execution_count": 39,
   "metadata": {
    "scrolled": true
   },
   "outputs": [],
   "source": [
    "subscriptions_uids = ai_client.data_mart.subscriptions.get_uids()\n",
    "for subscription in subscriptions_uids:\n",
    "    sub_name = ai_client.data_mart.subscriptions.get_details(subscription)['entity']['asset']['name']\n",
    "    if sub_name == MODEL_NAME:\n",
    "        ai_client.data_mart.subscriptions.delete(subscription)\n",
    "        print('Deleted existing subscription for', MODEL_NAME)"
   ]
  },
  {
   "cell_type": "markdown",
   "metadata": {},
   "source": [
    "This code creates the model subscription in OpenScale using the Python client API. Note that we need to provide the model unique identifier, and some information about the model itself."
   ]
  },
  {
   "cell_type": "code",
   "execution_count": 40,
   "metadata": {
    "scrolled": false
   },
   "outputs": [],
   "source": [
    "subscription = ai_client.data_mart.subscriptions.add(WatsonMachineLearningAsset(\n",
    "    model_uid,\n",
    "    problem_type=ProblemType.BINARY_CLASSIFICATION,\n",
    "    input_data_type=InputDataType.STRUCTURED,\n",
    "    label_column='Risk',\n",
    "    prediction_column='predictedLabel',\n",
    "    probability_column='probability',\n",
    "    feature_columns = [\"CheckingStatus\",\"LoanDuration\",\"CreditHistory\",\"LoanPurpose\",\"LoanAmount\",\"ExistingSavings\",\"EmploymentDuration\",\"InstallmentPercent\",\"Sex\",\"OthersOnLoan\",\"CurrentResidenceDuration\",\"OwnsProperty\",\"Age\",\"InstallmentPlans\",\"Housing\",\"ExistingCreditsCount\",\"Job\",\"Dependents\",\"Telephone\",\"ForeignWorker\"],\n",
    "    categorical_columns = [\"CheckingStatus\",\"CreditHistory\",\"LoanPurpose\",\"ExistingSavings\",\"EmploymentDuration\",\"Sex\",\"OthersOnLoan\",\"OwnsProperty\",\"InstallmentPlans\",\"Housing\",\"Job\",\"Telephone\",\"ForeignWorker\"]\n",
    "))\n",
    "\n",
    "if subscription is None:\n",
    "    print('Subscription already exists; get the existing one')\n",
    "    subscriptions_uids = ai_client.data_mart.subscriptions.get_uids()\n",
    "    for sub in subscriptions_uids:\n",
    "        if ai_client.data_mart.subscriptions.get_details(sub)['entity']['asset']['name'] == MODEL_NAME:\n",
    "            subscription = ai_client.data_mart.subscriptions.get(sub)"
   ]
  },
  {
   "cell_type": "markdown",
   "metadata": {},
   "source": [
    "Get subscription list"
   ]
  },
  {
   "cell_type": "code",
   "execution_count": 41,
   "metadata": {
    "scrolled": true
   },
   "outputs": [
    {
     "data": {
      "text/html": [
       "<HTML>\n",
       "        <body>\n",
       "            <h3>Subscriptions</h3>\n",
       "            <table style='border: 1px solid #dddddd; font-family: Courier'>\n",
       "                <th style='border: 1px solid #dddddd'>uid</th><th style='border: 1px solid #dddddd'>name</th><th style='border: 1px solid #dddddd'>type</th><th style='border: 1px solid #dddddd'>binding_uid</th><th style='border: 1px solid #dddddd'>created</th>\n",
       "                <tr><td style='border: 1px solid #dddddd'>bfcf3a77-1835-47bc-a153-fe5ee16c368e</td><td style='border: 1px solid #dddddd'>samaya Risk Model May 8</td><td style='border: 1px solid #dddddd'>model</td><td style='border: 1px solid #dddddd'>999</td><td style='border: 1px solid #dddddd'>2020-05-08T21:02:50.670Z</td></tr><tr><td style='border: 1px solid #dddddd'>fe732c07-f552-4156-9ca3-519ac7e51b98</td><td style='border: 1px solid #dddddd'>samaya Risk Model</td><td style='border: 1px solid #dddddd'>model</td><td style='border: 1px solid #dddddd'>999</td><td style='border: 1px solid #dddddd'>2020-05-06T19:55:08.500Z</td></tr><tr><td style='border: 1px solid #dddddd'>b26435ea-dc27-4a71-ae79-3f79846f6725</td><td style='border: 1px solid #dddddd'>scottda model 5-6-2020</td><td style='border: 1px solid #dddddd'>model</td><td style='border: 1px solid #dddddd'>999</td><td style='border: 1px solid #dddddd'>2020-05-06T15:50:21.759Z</td></tr><tr><td style='border: 1px solid #dddddd'>d837def0-df65-47b9-aead-a4c0f829966b</td><td style='border: 1px solid #dddddd'>scottda model 5-3-2020</td><td style='border: 1px solid #dddddd'>model</td><td style='border: 1px solid #dddddd'>999</td><td style='border: 1px solid #dddddd'>2020-05-04T17:44:27.849Z</td></tr><tr><td style='border: 1px solid #dddddd'>efd50220-c9be-4e70-a090-07a31acce143</td><td style='border: 1px solid #dddddd'>sda model 4-16-2020</td><td style='border: 1px solid #dddddd'>model</td><td style='border: 1px solid #dddddd'>999</td><td style='border: 1px solid #dddddd'>2020-04-16T22:18:20.683Z</td></tr><tr><td style='border: 1px solid #dddddd'>65576d9d-ad82-47a4-9f80-be727f611c05</td><td style='border: 1px solid #dddddd'>GermanCreditRiskModelICP</td><td style='border: 1px solid #dddddd'>model</td><td style='border: 1px solid #dddddd'>999</td><td style='border: 1px solid #dddddd'>2020-04-14T20:34:31.556Z</td></tr>\n",
       "            </table>\n",
       "        </body>\n",
       "        </HTML>"
      ],
      "text/plain": [
       "<IPython.core.display.HTML object>"
      ]
     },
     "metadata": {},
     "output_type": "display_data"
    }
   ],
   "source": [
    "subscriptions_uids = ai_client.data_mart.subscriptions.get_uids()\n",
    "ai_client.data_mart.subscriptions.list()"
   ]
  },
  {
   "cell_type": "code",
   "execution_count": 42,
   "metadata": {
    "scrolled": false
   },
   "outputs": [],
   "source": [
    "subscription_details = subscription.get_details()"
   ]
  },
  {
   "cell_type": "markdown",
   "metadata": {},
   "source": [
    "### 3.3.2 Score the model so we can configure monitors"
   ]
  },
  {
   "cell_type": "markdown",
   "metadata": {},
   "source": [
    "Now that the WML service has been bound and the subscription has been created, we need to send a request to the model before we configure OpenScale. This allows OpenScale to create a payload log in the datamart with the correct schema, so it can capture data coming into and out of the model. First, the code gets the model deployment's endpoint URL, and then sends a few records for predictions."
   ]
  },
  {
   "cell_type": "code",
   "execution_count": 44,
   "metadata": {
    "scrolled": true
   },
   "outputs": [
    {
     "name": "stdout",
     "output_type": "stream",
     "text": [
      "6c6c2989-c171-4ac7-8160-37a4f372ffa9\n",
      "https://zen-cpd-zen.omid-cp4d-v5-2bef1f4b4097001da9502000c44fc2b2-0001.us-south.containers.appdomain.cloud/v4/deployments/6c6c2989-c171-4ac7-8160-37a4f372ffa9/predictions\n"
     ]
    }
   ],
   "source": [
    "credit_risk_scoring_endpoint = None\n",
    "print(deployment_uid)\n",
    "\n",
    "for deployment in wml_client.deployments.get_details()['resources']:\n",
    "    if deployment_uid in deployment['metadata']['guid']:\n",
    "        credit_risk_scoring_endpoint = deployment['entity']['status']['online_url']['url']\n",
    "        \n",
    "print(credit_risk_scoring_endpoint)"
   ]
  },
  {
   "cell_type": "code",
   "execution_count": 45,
   "metadata": {
    "scrolled": true
   },
   "outputs": [
    {
     "name": "stdout",
     "output_type": "stream",
     "text": [
      "Single record scoring result: \n",
      " fields: ['CheckingStatus', 'LoanDuration', 'CreditHistory', 'LoanPurpose', 'LoanAmount', 'ExistingSavings', 'EmploymentDuration', 'InstallmentPercent', 'Sex', 'OthersOnLoan', 'CurrentResidenceDuration', 'OwnsProperty', 'Age', 'InstallmentPlans', 'Housing', 'ExistingCreditsCount', 'Job', 'Dependents', 'Telephone', 'ForeignWorker', 'CheckingStatus_IX', 'CreditHistory_IX', 'EmploymentDuration_IX', 'ExistingSavings_IX', 'ForeignWorker_IX', 'Housing_IX', 'InstallmentPlans_IX', 'Job_IX', 'LoanPurpose_IX', 'OthersOnLoan_IX', 'OwnsProperty_IX', 'Sex_IX', 'Telephone_IX', 'features', 'rawPrediction', 'probability', 'prediction', 'predictedLabel'] \n",
      " values:  ['no_checking', 13, 'credits_paid_to_date', 'car_new', 1343, '100_to_500', '1_to_4', 2, 'female', 'none', 3, 'savings_insurance', 46, 'none', 'own', 2, 'skilled', 1, 'none', 'yes', 0.0, 1.0, 0.0, 1.0, 0.0, 0.0, 0.0, 0.0, 0.0, 0.0, 0.0, 1.0, 0.0, [21, [1, 3, 5, 13, 14, 15, 16, 17, 18, 19, 20], [1.0, 1.0, 1.0, 13.0, 1343.0, 2.0, 3.0, 13.0, 46.0, 2.0, 1.0]], [12.697172852832583, 7.302827147167416], [0.6348586426416292, 0.3651413573583708], 0.0, 'No Risk']\n"
     ]
    }
   ],
   "source": [
    "fields = [\"CheckingStatus\",\"LoanDuration\",\"CreditHistory\",\"LoanPurpose\",\"LoanAmount\",\"ExistingSavings\",\"EmploymentDuration\",\"InstallmentPercent\",\"Sex\",\"OthersOnLoan\",\"CurrentResidenceDuration\",\"OwnsProperty\",\"Age\",\"InstallmentPlans\",\"Housing\",\"ExistingCreditsCount\",\"Job\",\"Dependents\",\"Telephone\",\"ForeignWorker\"]\n",
    "values = [\n",
    "  [\"no_checking\",13,\"credits_paid_to_date\",\"car_new\",1343,\"100_to_500\",\"1_to_4\",2,\"female\",\"none\",3,\"savings_insurance\",46,\"none\",\"own\",2,\"skilled\",1,\"none\",\"yes\"],\n",
    "  [\"no_checking\",24,\"prior_payments_delayed\",\"furniture\",4567,\"500_to_1000\",\"1_to_4\",4,\"male\",\"none\",4,\"savings_insurance\",36,\"none\",\"free\",2,\"management_self-employed\",1,\"none\",\"yes\"],\n",
    "  [\"0_to_200\",26,\"all_credits_paid_back\",\"car_new\",863,\"less_100\",\"less_1\",2,\"female\",\"co-applicant\",2,\"real_estate\",38,\"none\",\"own\",1,\"skilled\",1,\"none\",\"yes\"],\n",
    "  [\"0_to_200\",14,\"no_credits\",\"car_new\",2368,\"less_100\",\"1_to_4\",3,\"female\",\"none\",3,\"real_estate\",29,\"none\",\"own\",1,\"skilled\",1,\"none\",\"yes\"],\n",
    "  [\"0_to_200\",4,\"no_credits\",\"car_new\",250,\"less_100\",\"unemployed\",2,\"female\",\"none\",3,\"real_estate\",23,\"none\",\"rent\",1,\"management_self-employed\",1,\"none\",\"yes\"],\n",
    "  [\"no_checking\",17,\"credits_paid_to_date\",\"car_new\",832,\"100_to_500\",\"1_to_4\",2,\"male\",\"none\",2,\"real_estate\",42,\"none\",\"own\",1,\"skilled\",1,\"none\",\"yes\"],\n",
    "  [\"no_checking\",33,\"outstanding_credit\",\"appliances\",5696,\"unknown\",\"greater_7\",4,\"male\",\"co-applicant\",4,\"unknown\",54,\"none\",\"free\",2,\"skilled\",1,\"yes\",\"yes\"],\n",
    "  [\"0_to_200\",13,\"prior_payments_delayed\",\"retraining\",1375,\"100_to_500\",\"4_to_7\",3,\"male\",\"none\",3,\"real_estate\",37,\"none\",\"own\",2,\"management_self-employed\",1,\"none\",\"yes\"]\n",
    "]\n",
    "\n",
    "payload_scoring = {\"fields\": fields,\"values\": values}\n",
    "payload = {\n",
    "    wml_client.deployments.ScoringMetaNames.INPUT_DATA: [payload_scoring]\n",
    "}\n",
    "scoring_response = wml_client.deployments.score(deployment_uid, payload)\n",
    "\n",
    "print('Single record scoring result:', '\\n fields:', scoring_response['predictions'][0]['fields'], '\\n values: ', scoring_response['predictions'][0]['values'][0])"
   ]
  },
  {
   "cell_type": "markdown",
   "metadata": {},
   "source": [
    "# 4.0 Quality monitoring and feedback logging <a name=\"quality\"></a>"
   ]
  },
  {
   "cell_type": "markdown",
   "metadata": {},
   "source": [
    "## 4.1 Enable quality monitoring"
   ]
  },
  {
   "cell_type": "markdown",
   "metadata": {},
   "source": [
    "The code below waits ten seconds to allow the payload logging table to be set up before it begins enabling monitors. First, it turns on the quality (accuracy) monitor and sets an alert threshold of 70%. OpenScale will show an alert on the dashboard if the model accuracy measurement (area under the curve, in the case of a binary classifier) falls below this threshold.\n",
    "\n",
    "The second paramater supplied, min_records, specifies the minimum number of feedback records OpenScale needs before it calculates a new measurement. The quality monitor runs hourly, but the accuracy reading in the dashboard will not change until an additional 50 feedback records have been added, via the user interface, the Python client, or the supplied feedback endpoint."
   ]
  },
  {
   "cell_type": "code",
   "execution_count": 46,
   "metadata": {
    "scrolled": true
   },
   "outputs": [],
   "source": [
    "time.sleep(10)\n",
    "subscription.quality_monitoring.enable(threshold=0.7, min_records=50)"
   ]
  },
  {
   "cell_type": "markdown",
   "metadata": {},
   "source": [
    "## 4.2 Feedback logging"
   ]
  },
  {
   "cell_type": "markdown",
   "metadata": {},
   "source": [
    "The code below downloads and stores enough feedback data to meet the minimum threshold so that OpenScale can calculate a new accuracy measurement. It then kicks off the accuracy monitor. The monitors run hourly, or can be initiated via the Python API, the REST API, or the graphical user interface."
   ]
  },
  {
   "cell_type": "code",
   "execution_count": 47,
   "metadata": {},
   "outputs": [
    {
     "name": "stdout",
     "output_type": "stream",
     "text": [
      "rm: cannot remove 'additional_feedback_data.json': No such file or directory\n",
      "--2020-05-08 21:04:21--  https://raw.githubusercontent.com/IBM/monitor-ibm-cloud-pak-with-watson-openscale/master/data/additional_feedback_data.json\n",
      "Resolving raw.githubusercontent.com (raw.githubusercontent.com)... 199.232.8.133\n",
      "Connecting to raw.githubusercontent.com (raw.githubusercontent.com)|199.232.8.133|:443... connected.\n",
      "HTTP request sent, awaiting response... 200 OK\n",
      "Length: 16506 (16K) [text/plain]\n",
      "Saving to: 'additional_feedback_data.json'\n",
      "\n",
      "100%[======================================>] 16,506      --.-K/s   in 0.001s  \n",
      "\n",
      "2020-05-08 21:04:21 (15.4 MB/s) - 'additional_feedback_data.json' saved [16506/16506]\n",
      "\n"
     ]
    }
   ],
   "source": [
    "!rm additional_feedback_data.json\n",
    "!wget https://raw.githubusercontent.com/IBM/monitor-ibm-cloud-pak-with-watson-openscale/master/data/additional_feedback_data.json"
   ]
  },
  {
   "cell_type": "code",
   "execution_count": 48,
   "metadata": {},
   "outputs": [],
   "source": [
    "with open('additional_feedback_data.json') as feedback_file:\n",
    "    additional_feedback_data = json.load(feedback_file)\n",
    "subscription.feedback_logging.store(additional_feedback_data['data'])"
   ]
  },
  {
   "cell_type": "code",
   "execution_count": 49,
   "metadata": {
    "scrolled": true
   },
   "outputs": [
    {
     "data": {
      "text/html": [
       "<HTML>\n",
       "        <body>\n",
       "            <h3>Feedback_bfcf3a77-1835-47bc-a153-fe5ee16c368e (binding_id=999, subscription_id=bfcf3a77-1835-47bc-a153-fe5ee16c368e)</h3>\n",
       "            <table style='border: 1px solid #dddddd; font-family: Courier'>\n",
       "                <th style='border: 1px solid #dddddd'>CheckingStatus</th><th style='border: 1px solid #dddddd'>LoanDuration</th><th style='border: 1px solid #dddddd'>CreditHistory</th><th style='border: 1px solid #dddddd'>LoanPurpose</th><th style='border: 1px solid #dddddd'>LoanAmount</th><th style='border: 1px solid #dddddd'>ExistingSavings</th><th style='border: 1px solid #dddddd'>EmploymentDuration</th><th style='border: 1px solid #dddddd'>InstallmentPercent</th><th style='border: 1px solid #dddddd'>Sex</th><th style='border: 1px solid #dddddd'>OthersOnLoan</th><th style='border: 1px solid #dddddd'>CurrentResidenceDuration</th><th style='border: 1px solid #dddddd'>OwnsProperty</th><th style='border: 1px solid #dddddd'>Age</th><th style='border: 1px solid #dddddd'>InstallmentPlans</th><th style='border: 1px solid #dddddd'>Housing</th><th style='border: 1px solid #dddddd'>ExistingCreditsCount</th><th style='border: 1px solid #dddddd'>Job</th><th style='border: 1px solid #dddddd'>Dependents</th><th style='border: 1px solid #dddddd'>Telephone</th><th style='border: 1px solid #dddddd'>ForeignWorker</th><th style='border: 1px solid #dddddd'>Risk</th><th style='border: 1px solid #dddddd'>record_timestamp</th>\n",
       "                <tr><td style='border: 1px solid #dddddd'>less_0</td><td style='border: 1px solid #dddddd'>10</td><td style='border: 1px solid #dddddd'>all_credits_paid_back</td><td style='border: 1px solid #dddddd'>car_new</td><td style='border: 1px solid #dddddd'>250</td><td style='border: 1px solid #dddddd'>500_to_1000</td><td style='border: 1px solid #dddddd'>4_to_7</td><td style='border: 1px solid #dddddd'>3</td><td style='border: 1px solid #dddddd'>male</td><td style='border: 1px solid #dddddd'>none</td><td style='border: 1px solid #dddddd'>2</td><td style='border: 1px solid #dddddd'>real_estate</td><td style='border: 1px solid #dddddd'>23</td><td style='border: 1px solid #dddddd'>none</td><td style='border: 1px solid #dddddd'>rent</td><td style='border: 1px solid #dddddd'>1</td><td style='border: 1px solid #dddddd'>skilled</td><td style='border: 1px solid #dddddd'>1</td><td style='border: 1px solid #dddddd'>none</td><td style='border: 1px solid #dddddd'>yes</td><td style='border: 1px solid #dddddd'>No Risk</td><td style='border: 1px solid #dddddd'>2020-05-08 21:04:23.297579+00:00</td></tr><tr><td style='border: 1px solid #dddddd'>no_checking</td><td style='border: 1px solid #dddddd'>23</td><td style='border: 1px solid #dddddd'>prior_payments_delayed</td><td style='border: 1px solid #dddddd'>appliances</td><td style='border: 1px solid #dddddd'>6964</td><td style='border: 1px solid #dddddd'>100_to_500</td><td style='border: 1px solid #dddddd'>4_to_7</td><td style='border: 1px solid #dddddd'>4</td><td style='border: 1px solid #dddddd'>female</td><td style='border: 1px solid #dddddd'>none</td><td style='border: 1px solid #dddddd'>3</td><td style='border: 1px solid #dddddd'>car_other</td><td style='border: 1px solid #dddddd'>39</td><td style='border: 1px solid #dddddd'>none</td><td style='border: 1px solid #dddddd'>own</td><td style='border: 1px solid #dddddd'>1</td><td style='border: 1px solid #dddddd'>skilled</td><td style='border: 1px solid #dddddd'>1</td><td style='border: 1px solid #dddddd'>none</td><td style='border: 1px solid #dddddd'>yes</td><td style='border: 1px solid #dddddd'>Risk</td><td style='border: 1px solid #dddddd'>2020-05-08 21:04:23.297765+00:00</td></tr><tr><td style='border: 1px solid #dddddd'>0_to_200</td><td style='border: 1px solid #dddddd'>30</td><td style='border: 1px solid #dddddd'>outstanding_credit</td><td style='border: 1px solid #dddddd'>appliances</td><td style='border: 1px solid #dddddd'>3464</td><td style='border: 1px solid #dddddd'>100_to_500</td><td style='border: 1px solid #dddddd'>greater_7</td><td style='border: 1px solid #dddddd'>3</td><td style='border: 1px solid #dddddd'>male</td><td style='border: 1px solid #dddddd'>guarantor</td><td style='border: 1px solid #dddddd'>4</td><td style='border: 1px solid #dddddd'>savings_insurance</td><td style='border: 1px solid #dddddd'>51</td><td style='border: 1px solid #dddddd'>stores</td><td style='border: 1px solid #dddddd'>free</td><td style='border: 1px solid #dddddd'>1</td><td style='border: 1px solid #dddddd'>skilled</td><td style='border: 1px solid #dddddd'>1</td><td style='border: 1px solid #dddddd'>yes</td><td style='border: 1px solid #dddddd'>yes</td><td style='border: 1px solid #dddddd'>Risk</td><td style='border: 1px solid #dddddd'>2020-05-08 21:04:23.297812+00:00</td></tr><tr><td style='border: 1px solid #dddddd'>no_checking</td><td style='border: 1px solid #dddddd'>23</td><td style='border: 1px solid #dddddd'>outstanding_credit</td><td style='border: 1px solid #dddddd'>car_used</td><td style='border: 1px solid #dddddd'>2681</td><td style='border: 1px solid #dddddd'>500_to_1000</td><td style='border: 1px solid #dddddd'>greater_7</td><td style='border: 1px solid #dddddd'>4</td><td style='border: 1px solid #dddddd'>male</td><td style='border: 1px solid #dddddd'>none</td><td style='border: 1px solid #dddddd'>3</td><td style='border: 1px solid #dddddd'>car_other</td><td style='border: 1px solid #dddddd'>33</td><td style='border: 1px solid #dddddd'>stores</td><td style='border: 1px solid #dddddd'>free</td><td style='border: 1px solid #dddddd'>1</td><td style='border: 1px solid #dddddd'>unskilled</td><td style='border: 1px solid #dddddd'>1</td><td style='border: 1px solid #dddddd'>yes</td><td style='border: 1px solid #dddddd'>yes</td><td style='border: 1px solid #dddddd'>No Risk</td><td style='border: 1px solid #dddddd'>2020-05-08 21:04:23.297850+00:00</td></tr><tr><td style='border: 1px solid #dddddd'>0_to_200</td><td style='border: 1px solid #dddddd'>18</td><td style='border: 1px solid #dddddd'>prior_payments_delayed</td><td style='border: 1px solid #dddddd'>furniture</td><td style='border: 1px solid #dddddd'>1673</td><td style='border: 1px solid #dddddd'>less_100</td><td style='border: 1px solid #dddddd'>1_to_4</td><td style='border: 1px solid #dddddd'>2</td><td style='border: 1px solid #dddddd'>male</td><td style='border: 1px solid #dddddd'>none</td><td style='border: 1px solid #dddddd'>3</td><td style='border: 1px solid #dddddd'>car_other</td><td style='border: 1px solid #dddddd'>30</td><td style='border: 1px solid #dddddd'>none</td><td style='border: 1px solid #dddddd'>own</td><td style='border: 1px solid #dddddd'>2</td><td style='border: 1px solid #dddddd'>skilled</td><td style='border: 1px solid #dddddd'>1</td><td style='border: 1px solid #dddddd'>none</td><td style='border: 1px solid #dddddd'>yes</td><td style='border: 1px solid #dddddd'>Risk</td><td style='border: 1px solid #dddddd'>2020-05-08 21:04:23.297886+00:00</td></tr><tr><td style='border: 1px solid #dddddd'>no_checking</td><td style='border: 1px solid #dddddd'>44</td><td style='border: 1px solid #dddddd'>outstanding_credit</td><td style='border: 1px solid #dddddd'>radio_tv</td><td style='border: 1px solid #dddddd'>3476</td><td style='border: 1px solid #dddddd'>unknown</td><td style='border: 1px solid #dddddd'>greater_7</td><td style='border: 1px solid #dddddd'>4</td><td style='border: 1px solid #dddddd'>male</td><td style='border: 1px solid #dddddd'>co-applicant</td><td style='border: 1px solid #dddddd'>4</td><td style='border: 1px solid #dddddd'>unknown</td><td style='border: 1px solid #dddddd'>60</td><td style='border: 1px solid #dddddd'>none</td><td style='border: 1px solid #dddddd'>free</td><td style='border: 1px solid #dddddd'>2</td><td style='border: 1px solid #dddddd'>skilled</td><td style='border: 1px solid #dddddd'>2</td><td style='border: 1px solid #dddddd'>yes</td><td style='border: 1px solid #dddddd'>yes</td><td style='border: 1px solid #dddddd'>Risk</td><td style='border: 1px solid #dddddd'>2020-05-08 21:04:23.297920+00:00</td></tr><tr><td style='border: 1px solid #dddddd'>less_0</td><td style='border: 1px solid #dddddd'>8</td><td style='border: 1px solid #dddddd'>no_credits</td><td style='border: 1px solid #dddddd'>education</td><td style='border: 1px solid #dddddd'>803</td><td style='border: 1px solid #dddddd'>less_100</td><td style='border: 1px solid #dddddd'>unemployed</td><td style='border: 1px solid #dddddd'>1</td><td style='border: 1px solid #dddddd'>male</td><td style='border: 1px solid #dddddd'>none</td><td style='border: 1px solid #dddddd'>1</td><td style='border: 1px solid #dddddd'>savings_insurance</td><td style='border: 1px solid #dddddd'>19</td><td style='border: 1px solid #dddddd'>stores</td><td style='border: 1px solid #dddddd'>rent</td><td style='border: 1px solid #dddddd'>1</td><td style='border: 1px solid #dddddd'>skilled</td><td style='border: 1px solid #dddddd'>1</td><td style='border: 1px solid #dddddd'>none</td><td style='border: 1px solid #dddddd'>yes</td><td style='border: 1px solid #dddddd'>No Risk</td><td style='border: 1px solid #dddddd'>2020-05-08 21:04:23.297955+00:00</td></tr><tr><td style='border: 1px solid #dddddd'>0_to_200</td><td style='border: 1px solid #dddddd'>7</td><td style='border: 1px solid #dddddd'>all_credits_paid_back</td><td style='border: 1px solid #dddddd'>car_new</td><td style='border: 1px solid #dddddd'>250</td><td style='border: 1px solid #dddddd'>less_100</td><td style='border: 1px solid #dddddd'>unemployed</td><td style='border: 1px solid #dddddd'>1</td><td style='border: 1px solid #dddddd'>male</td><td style='border: 1px solid #dddddd'>none</td><td style='border: 1px solid #dddddd'>1</td><td style='border: 1px solid #dddddd'>real_estate</td><td style='border: 1px solid #dddddd'>19</td><td style='border: 1px solid #dddddd'>stores</td><td style='border: 1px solid #dddddd'>rent</td><td style='border: 1px solid #dddddd'>1</td><td style='border: 1px solid #dddddd'>skilled</td><td style='border: 1px solid #dddddd'>1</td><td style='border: 1px solid #dddddd'>none</td><td style='border: 1px solid #dddddd'>yes</td><td style='border: 1px solid #dddddd'>No Risk</td><td style='border: 1px solid #dddddd'>2020-05-08 21:04:23.297990+00:00</td></tr><tr><td style='border: 1px solid #dddddd'>0_to_200</td><td style='border: 1px solid #dddddd'>33</td><td style='border: 1px solid #dddddd'>credits_paid_to_date</td><td style='border: 1px solid #dddddd'>radio_tv</td><td style='border: 1px solid #dddddd'>3548</td><td style='border: 1px solid #dddddd'>100_to_500</td><td style='border: 1px solid #dddddd'>1_to_4</td><td style='border: 1px solid #dddddd'>3</td><td style='border: 1px solid #dddddd'>male</td><td style='border: 1px solid #dddddd'>none</td><td style='border: 1px solid #dddddd'>4</td><td style='border: 1px solid #dddddd'>car_other</td><td style='border: 1px solid #dddddd'>28</td><td style='border: 1px solid #dddddd'>none</td><td style='border: 1px solid #dddddd'>own</td><td style='border: 1px solid #dddddd'>2</td><td style='border: 1px solid #dddddd'>skilled</td><td style='border: 1px solid #dddddd'>1</td><td style='border: 1px solid #dddddd'>yes</td><td style='border: 1px solid #dddddd'>yes</td><td style='border: 1px solid #dddddd'>Risk</td><td style='border: 1px solid #dddddd'>2020-05-08 21:04:23.298025+00:00</td></tr><tr><td style='border: 1px solid #dddddd'>no_checking</td><td style='border: 1px solid #dddddd'>24</td><td style='border: 1px solid #dddddd'>prior_payments_delayed</td><td style='border: 1px solid #dddddd'>retraining</td><td style='border: 1px solid #dddddd'>4158</td><td style='border: 1px solid #dddddd'>100_to_500</td><td style='border: 1px solid #dddddd'>greater_7</td><td style='border: 1px solid #dddddd'>3</td><td style='border: 1px solid #dddddd'>female</td><td style='border: 1px solid #dddddd'>none</td><td style='border: 1px solid #dddddd'>2</td><td style='border: 1px solid #dddddd'>savings_insurance</td><td style='border: 1px solid #dddddd'>35</td><td style='border: 1px solid #dddddd'>stores</td><td style='border: 1px solid #dddddd'>own</td><td style='border: 1px solid #dddddd'>1</td><td style='border: 1px solid #dddddd'>unskilled</td><td style='border: 1px solid #dddddd'>2</td><td style='border: 1px solid #dddddd'>none</td><td style='border: 1px solid #dddddd'>yes</td><td style='border: 1px solid #dddddd'>Risk</td><td style='border: 1px solid #dddddd'>2020-05-08 21:04:23.298066+00:00</td></tr>\n",
       "            </table>\n",
       "        </body>\n",
       "        </HTML>"
      ],
      "text/plain": [
       "<IPython.core.display.HTML object>"
      ]
     },
     "metadata": {},
     "output_type": "display_data"
    }
   ],
   "source": [
    "subscription.feedback_logging.show_table()"
   ]
  },
  {
   "cell_type": "code",
   "execution_count": 50,
   "metadata": {
    "scrolled": true
   },
   "outputs": [
    {
     "name": "stdout",
     "output_type": "stream",
     "text": [
      "\n",
      "\n",
      "================================================================================\n",
      "\n",
      " Waiting for end of quality monitoring run e2321969-4599-41ce-8f54-0f2e8a258683 \n",
      "\n",
      "================================================================================\n",
      "\n",
      "\n",
      "\n",
      "initializing\n",
      "completed\n",
      "\n",
      "---------------------------\n",
      " Successfully finished run \n",
      "---------------------------\n",
      "\n",
      "\n"
     ]
    }
   ],
   "source": [
    "run_details = subscription.quality_monitoring.run(background_mode=False)"
   ]
  },
  {
   "cell_type": "code",
   "execution_count": 51,
   "metadata": {
    "scrolled": true
   },
   "outputs": [
    {
     "data": {
      "text/html": [
       "<HTML>\n",
       "        <body>\n",
       "            <h3>QualityMetrics (binding_id=999, subscription_id=bfcf3a77-1835-47bc-a153-fe5ee16c368e)</h3>\n",
       "            <table style='border: 1px solid #dddddd; font-family: Courier'>\n",
       "                <th style='border: 1px solid #dddddd'>ts</th><th style='border: 1px solid #dddddd'>id</th><th style='border: 1px solid #dddddd'>measurement_id</th><th style='border: 1px solid #dddddd'>value</th><th style='border: 1px solid #dddddd'>lower limit</th><th style='border: 1px solid #dddddd'>upper limit</th><th style='border: 1px solid #dddddd'>tags</th><th style='border: 1px solid #dddddd'>binding_id</th><th style='border: 1px solid #dddddd'>subscription_id</th><th style='border: 1px solid #dddddd'>deployment_id</th>\n",
       "                \n",
       "            </table>\n",
       "        </body>\n",
       "        </HTML>"
      ],
      "text/plain": [
       "<IPython.core.display.HTML object>"
      ]
     },
     "metadata": {},
     "output_type": "display_data"
    }
   ],
   "source": [
    "subscription.quality_monitoring.show_table()"
   ]
  },
  {
   "cell_type": "code",
   "execution_count": 52,
   "metadata": {},
   "outputs": [
    {
     "data": {
      "image/png": "[encoded data removed]",
      "text/plain": [
       "<Figure size 432x288 with 1 Axes>"
      ]
     },
     "metadata": {
      "needs_background": "light"
     },
     "output_type": "display_data"
    }
   ],
   "source": [
    "%matplotlib inline\n",
    "\n",
    "quality_pd = subscription.quality_monitoring.get_table_content(format='pandas')\n",
    "quality_pd.plot.barh(x='id', y='value');"
   ]
  },
  {
   "cell_type": "code",
   "execution_count": 53,
   "metadata": {
    "scrolled": true
   },
   "outputs": [
    {
     "data": {
      "text/plain": [
       "{'deployment_metrics': [{'asset': {'asset_id': '67158df7-b383-4353-a5be-cd5980276c04',\n",
       "    'asset_type': 'model',\n",
       "    'created_at': '2020-04-14T20:32:38.002Z',\n",
       "    'name': 'GermanCreditRiskModelICP',\n",
       "    'url': 'https://ibm-nginx-svc.zen.svc.cluster.local/v4/models/67158df7-b383-4353-a5be-cd5980276c04?space_id=ddd46f03-134f-4345-bc7d-cf94dff459a2'},\n",
       "   'deployment': {'created_at': '2020-04-14T20:32:43.331Z',\n",
       "    'deployment_id': '680cef07-0535-4861-ae0b-0dbb3fd905dc',\n",
       "    'deployment_rn': '',\n",
       "    'deployment_type': 'online',\n",
       "    'name': 'GermanCreditRiskModelICP',\n",
       "    'scoring_endpoint': {'request_headers': {'Content-Type': 'application/json'},\n",
       "     'url': 'https://ibm-nginx-svc.zen.svc.cluster.local/v4/deployments/680cef07-0535-4861-ae0b-0dbb3fd905dc/predictions'},\n",
       "    'url': 'https://ibm-nginx-svc.zen.svc.cluster.local/v4/deployments/680cef07-0535-4861-ae0b-0dbb3fd905dc'},\n",
       "   'metrics': [{'issues': 0,\n",
       "     'metric_type': 'performance',\n",
       "     'timestamp': '2020-04-14T19:37:22Z',\n",
       "     'value': {'records': 701.0, 'response_time': 103.37313906908854}},\n",
       "    {'issues': 1,\n",
       "     'metric_type': 'quality',\n",
       "     'timestamp': '2020-04-14T19:37:47Z',\n",
       "     'value': {'metrics': [{'name': 'auroc', 'threshold': 0.8, 'value': 0.77}],\n",
       "      'quality': 0.77,\n",
       "      'threshold': 0.8}},\n",
       "    {'issues': 1,\n",
       "     'metric_type': 'fairness',\n",
       "     'timestamp': '2020-05-08T20:36:23.221551Z',\n",
       "     'value': {'copy_reason': 'No new data added since last fairness computation.',\n",
       "      'evaluated_at': '2020-04-14T20:48:18.619158Z',\n",
       "      'is_copied': True,\n",
       "      'manual_labelling_store': 'Manual_Labeling_65576d9d-ad82-47a4-9f80-be727f611c05',\n",
       "      'metrics': [{'bias_source': {'values': []},\n",
       "        'fairness_threshold': 0.98,\n",
       "        'feature': 'Age',\n",
       "        'majority': {'total_fav_percent': 72.0,\n",
       "         'total_rows_percent': 50.0,\n",
       "         'values': [{'distribution': {'[26, 27]': [{'count': 7,\n",
       "              'is_favourable': True,\n",
       "              'label': 'No Risk'}],\n",
       "            '[27, 28]': [{'count': 2,\n",
       "              'is_favourable': True,\n",
       "              'label': 'No Risk'}],\n",
       "            '[29, 30]': [{'count': 2,\n",
       "              'is_favourable': True,\n",
       "              'label': 'No Risk'},\n",
       "             {'count': 1, 'is_favourable': False, 'label': 'Risk'}],\n",
       "            '[30, 31]': [{'count': 4,\n",
       "              'is_favourable': True,\n",
       "              'label': 'No Risk'}],\n",
       "            '[31, 32]': [{'count': 6,\n",
       "              'is_favourable': True,\n",
       "              'label': 'No Risk'}],\n",
       "            '[32, 33]': [{'count': 2,\n",
       "              'is_favourable': True,\n",
       "              'label': 'No Risk'}],\n",
       "            '[33, 34]': [{'count': 7,\n",
       "              'is_favourable': True,\n",
       "              'label': 'No Risk'}],\n",
       "            '[34, 35]': [{'count': 2,\n",
       "              'is_favourable': True,\n",
       "              'label': 'No Risk'}],\n",
       "            '[35, 36]': [{'count': 5,\n",
       "              'is_favourable': True,\n",
       "              'label': 'No Risk'},\n",
       "             {'count': 1, 'is_favourable': False, 'label': 'Risk'}],\n",
       "            '[36, 37]': [{'count': 3,\n",
       "              'is_favourable': True,\n",
       "              'label': 'No Risk'}],\n",
       "            '[37, 38]': [{'count': 3,\n",
       "              'is_favourable': True,\n",
       "              'label': 'No Risk'}],\n",
       "            '[39, 40]': [{'count': 2,\n",
       "              'is_favourable': True,\n",
       "              'label': 'No Risk'}],\n",
       "            '[40, 41]': [{'count': 4,\n",
       "              'is_favourable': True,\n",
       "              'label': 'No Risk'}],\n",
       "            '[41, 42]': [{'count': 4,\n",
       "              'is_favourable': True,\n",
       "              'label': 'No Risk'},\n",
       "             {'count': 2, 'is_favourable': False, 'label': 'Risk'}],\n",
       "            '[42, 43]': [{'count': 1,\n",
       "              'is_favourable': False,\n",
       "              'label': 'Risk'}],\n",
       "            '[43, 44]': [{'count': 2,\n",
       "              'is_favourable': True,\n",
       "              'label': 'No Risk'},\n",
       "             {'count': 1, 'is_favourable': False, 'label': 'Risk'}],\n",
       "            '[44, 45]': [{'count': 2,\n",
       "              'is_favourable': True,\n",
       "              'label': 'No Risk'},\n",
       "             {'count': 1, 'is_favourable': False, 'label': 'Risk'}],\n",
       "            '[45, 46]': [{'count': 2,\n",
       "              'is_favourable': True,\n",
       "              'label': 'No Risk'},\n",
       "             {'count': 2, 'is_favourable': False, 'label': 'Risk'}],\n",
       "            '[46, 47]': [{'count': 3,\n",
       "              'is_favourable': False,\n",
       "              'label': 'Risk'}],\n",
       "            '[47, 48]': [{'count': 1,\n",
       "              'is_favourable': False,\n",
       "              'label': 'Risk'}],\n",
       "            '[48, 49]': [{'count': 1,\n",
       "              'is_favourable': True,\n",
       "              'label': 'No Risk'},\n",
       "             {'count': 3, 'is_favourable': False, 'label': 'Risk'}],\n",
       "            '[49, 50]': [{'count': 1,\n",
       "              'is_favourable': True,\n",
       "              'label': 'No Risk'},\n",
       "             {'count': 2, 'is_favourable': False, 'label': 'Risk'}],\n",
       "            '[50, 51]': [{'count': 1,\n",
       "              'is_favourable': False,\n",
       "              'label': 'Risk'}],\n",
       "            '[51, 52]': [{'count': 2,\n",
       "              'is_favourable': False,\n",
       "              'label': 'Risk'}],\n",
       "            '[52, 53]': [{'count': 1,\n",
       "              'is_favourable': False,\n",
       "              'label': 'Risk'}],\n",
       "            '[53, 54]': [{'count': 2,\n",
       "              'is_favourable': False,\n",
       "              'label': 'Risk'}],\n",
       "            '[54, 55]': [{'count': 1,\n",
       "              'is_favourable': False,\n",
       "              'label': 'Risk'}],\n",
       "            '[55, 56]': [{'count': 1,\n",
       "              'is_favourable': False,\n",
       "              'label': 'Risk'}],\n",
       "            '[59, 60]': [{'count': 1,\n",
       "              'is_favourable': False,\n",
       "              'label': 'Risk'}]},\n",
       "           'distribution_ranges': {'[26, 27]': [26, 27],\n",
       "            '[27, 28]': [27, 28],\n",
       "            '[29, 30]': [29, 30],\n",
       "            '[30, 31]': [30, 31],\n",
       "            '[31, 32]': [31, 32],\n",
       "            '[32, 33]': [32, 33],\n",
       "            '[33, 34]': [33, 34],\n",
       "            '[34, 35]': [34, 35],\n",
       "            '[35, 36]': [35, 36],\n",
       "            '[36, 37]': [36, 37],\n",
       "            '[37, 38]': [37, 38],\n",
       "            '[39, 40]': [39, 40],\n",
       "            '[40, 41]': [40, 41],\n",
       "            '[41, 42]': [41, 42],\n",
       "            '[42, 43]': [42, 43],\n",
       "            '[43, 44]': [43, 44],\n",
       "            '[44, 45]': [44, 45],\n",
       "            '[45, 46]': [45, 46],\n",
       "            '[46, 47]': [46, 47],\n",
       "            '[47, 48]': [47, 48],\n",
       "            '[48, 49]': [48, 49],\n",
       "            '[49, 50]': [49, 50],\n",
       "            '[50, 51]': [50, 51],\n",
       "            '[51, 52]': [51, 52],\n",
       "            '[52, 53]': [52, 53],\n",
       "            '[53, 54]': [53, 54],\n",
       "            '[54, 55]': [54, 55],\n",
       "            '[55, 56]': [55, 56],\n",
       "            '[59, 60]': [59, 60],\n",
       "            '[70, 71]': [70, 71],\n",
       "            '[72, 73]': [72, 73],\n",
       "            '[74, 75]': [74, 75]},\n",
       "           'fav_class_percent': 72.0,\n",
       "           'payload_perturb_distribution': {'[26, 27]': [{'count': 7,\n",
       "              'is_favourable': True,\n",
       "              'label': 'No Risk'}],\n",
       "            '[27, 28]': [{'count': 2,\n",
       "              'is_favourable': True,\n",
       "              'label': 'No Risk'}],\n",
       "            '[29, 30]': [{'count': 2,\n",
       "              'is_favourable': True,\n",
       "              'label': 'No Risk'},\n",
       "             {'count': 1, 'is_favourable': False, 'label': 'Risk'}],\n",
       "            '[30, 31]': [{'count': 4,\n",
       "              'is_favourable': True,\n",
       "              'label': 'No Risk'}],\n",
       "            '[31, 32]': [{'count': 6,\n",
       "              'is_favourable': True,\n",
       "              'label': 'No Risk'}],\n",
       "            '[32, 33]': [{'count': 2,\n",
       "              'is_favourable': True,\n",
       "              'label': 'No Risk'}],\n",
       "            '[33, 34]': [{'count': 7,\n",
       "              'is_favourable': True,\n",
       "              'label': 'No Risk'}],\n",
       "            '[34, 35]': [{'count': 2,\n",
       "              'is_favourable': True,\n",
       "              'label': 'No Risk'}],\n",
       "            '[35, 36]': [{'count': 6,\n",
       "              'is_favourable': True,\n",
       "              'label': 'No Risk'},\n",
       "             {'count': 1, 'is_favourable': False, 'label': 'Risk'}],\n",
       "            '[36, 37]': [{'count': 3,\n",
       "              'is_favourable': True,\n",
       "              'label': 'No Risk'}],\n",
       "            '[37, 38]': [{'count': 3,\n",
       "              'is_favourable': True,\n",
       "              'label': 'No Risk'}],\n",
       "            '[39, 40]': [{'count': 2,\n",
       "              'is_favourable': True,\n",
       "              'label': 'No Risk'}],\n",
       "            '[40, 41]': [{'count': 4,\n",
       "              'is_favourable': True,\n",
       "              'label': 'No Risk'}],\n",
       "            '[41, 42]': [{'count': 4,\n",
       "              'is_favourable': True,\n",
       "              'label': 'No Risk'},\n",
       "             {'count': 2, 'is_favourable': False, 'label': 'Risk'}],\n",
       "            '[42, 43]': [{'count': 1,\n",
       "              'is_favourable': False,\n",
       "              'label': 'Risk'}],\n",
       "            '[43, 44]': [{'count': 2,\n",
       "              'is_favourable': True,\n",
       "              'label': 'No Risk'},\n",
       "             {'count': 1, 'is_favourable': False, 'label': 'Risk'}],\n",
       "            '[44, 45]': [{'count': 2,\n",
       "              'is_favourable': True,\n",
       "              'label': 'No Risk'},\n",
       "             {'count': 1, 'is_favourable': False, 'label': 'Risk'}],\n",
       "            '[45, 46]': [{'count': 2,\n",
       "              'is_favourable': True,\n",
       "              'label': 'No Risk'},\n",
       "             {'count': 2, 'is_favourable': False, 'label': 'Risk'}],\n",
       "            '[46, 47]': [{'count': 3,\n",
       "              'is_favourable': False,\n",
       "              'label': 'Risk'}],\n",
       "            '[47, 48]': [{'count': 1,\n",
       "              'is_favourable': False,\n",
       "              'label': 'Risk'}],\n",
       "            '[48, 49]': [{'count': 1,\n",
       "              'is_favourable': True,\n",
       "              'label': 'No Risk'},\n",
       "             {'count': 3, 'is_favourable': False, 'label': 'Risk'}],\n",
       "            '[49, 50]': [{'count': 2,\n",
       "              'is_favourable': True,\n",
       "              'label': 'No Risk'},\n",
       "             {'count': 2, 'is_favourable': False, 'label': 'Risk'}],\n",
       "            '[50, 51]': [{'count': 1,\n",
       "              'is_favourable': False,\n",
       "              'label': 'Risk'}],\n",
       "            '[51, 52]': [{'count': 2,\n",
       "              'is_favourable': False,\n",
       "              'label': 'Risk'}],\n",
       "            '[52, 53]': [{'count': 1,\n",
       "              'is_favourable': False,\n",
       "              'label': 'Risk'}],\n",
       "            '[53, 54]': [{'count': 2,\n",
       "              'is_favourable': False,\n",
       "              'label': 'Risk'}],\n",
       "            '[54, 55]': [{'count': 1,\n",
       "              'is_favourable': False,\n",
       "              'label': 'Risk'}],\n",
       "            '[55, 56]': [{'count': 1,\n",
       "              'is_favourable': False,\n",
       "              'label': 'Risk'}],\n",
       "            '[59, 60]': [{'count': 1,\n",
       "              'is_favourable': False,\n",
       "              'label': 'Risk'}],\n",
       "            '[70, 71]': [{'count': 2,\n",
       "              'is_favourable': True,\n",
       "              'label': 'No Risk'},\n",
       "             {'count': 1, 'is_favourable': False, 'label': 'Risk'}],\n",
       "            '[72, 73]': [{'count': 5,\n",
       "              'is_favourable': True,\n",
       "              'label': 'No Risk'}],\n",
       "            '[74, 75]': [{'count': 2,\n",
       "              'is_favourable': True,\n",
       "              'label': 'No Risk'}]},\n",
       "           'value': [26, 75]}]},\n",
       "        'minority': {'total_fav_percent': 77.0,\n",
       "         'total_rows_percent': 50.0,\n",
       "         'values': [{'distribution': {'[18, 19]': [{'count': 5,\n",
       "              'is_favourable': True,\n",
       "              'label': 'No Risk'}],\n",
       "            '[19, 20]': [{'count': 1,\n",
       "              'is_favourable': True,\n",
       "              'label': 'No Risk'}],\n",
       "            '[21, 22]': [{'count': 2,\n",
       "              'is_favourable': True,\n",
       "              'label': 'No Risk'}],\n",
       "            '[22, 23]': [{'count': 3,\n",
       "              'is_favourable': True,\n",
       "              'label': 'No Risk'}],\n",
       "            '[23, 24]': [{'count': 1,\n",
       "              'is_favourable': True,\n",
       "              'label': 'No Risk'}]},\n",
       "           'distribution_ranges': {'[18, 19]': [18, 19],\n",
       "            '[19, 20]': [19, 20],\n",
       "            '[20, 21]': [20, 21],\n",
       "            '[21, 22]': [21, 22],\n",
       "            '[22, 23]': [22, 23],\n",
       "            '[23, 24]': [23, 24],\n",
       "            '[24, 25]': [24, 25]},\n",
       "           'fairness_value': 1.069,\n",
       "           'fav_class_percent': 77.0,\n",
       "           'is_biased': False,\n",
       "           'payload_perturb_distribution': {'[18, 19]': [{'count': 32,\n",
       "              'is_favourable': True,\n",
       "              'label': 'No Risk'},\n",
       "             {'count': 7, 'is_favourable': False, 'label': 'Risk'}],\n",
       "            '[19, 20]': [{'count': 7,\n",
       "              'is_favourable': True,\n",
       "              'label': 'No Risk'},\n",
       "             {'count': 1, 'is_favourable': False, 'label': 'Risk'}],\n",
       "            '[20, 21]': [{'count': 5,\n",
       "              'is_favourable': True,\n",
       "              'label': 'No Risk'},\n",
       "             {'count': 4, 'is_favourable': False, 'label': 'Risk'}],\n",
       "            '[21, 22]': [{'count': 5,\n",
       "              'is_favourable': True,\n",
       "              'label': 'No Risk'},\n",
       "             {'count': 1, 'is_favourable': False, 'label': 'Risk'}],\n",
       "            '[22, 23]': [{'count': 17,\n",
       "              'is_favourable': True,\n",
       "              'label': 'No Risk'},\n",
       "             {'count': 5, 'is_favourable': False, 'label': 'Risk'}],\n",
       "            '[23, 24]': [{'count': 7,\n",
       "              'is_favourable': True,\n",
       "              'label': 'No Risk'},\n",
       "             {'count': 2, 'is_favourable': False, 'label': 'Risk'}],\n",
       "            '[24, 25]': [{'count': 4,\n",
       "              'is_favourable': True,\n",
       "              'label': 'No Risk'},\n",
       "             {'count': 3, 'is_favourable': False, 'label': 'Risk'}]},\n",
       "           'value': [18, 25]}]},\n",
       "        'records_evaluated': {'additional_records': 0,\n",
       "         'newest_timestamp': '2020-04-14T20:44:50.512Z',\n",
       "         'number_of_records': 100,\n",
       "         'oldest_timestamp': '2020-04-14T20:44:13.141Z',\n",
       "         'perturbed_records': 100}},\n",
       "       {'fairness_threshold': 0.98,\n",
       "        'feature': 'Sex',\n",
       "        'majority': {'total_fav_percent': 75.0,\n",
       "         'total_rows_percent': 50.0,\n",
       "         'values': [{'distribution': {'male': [{'count': 45,\n",
       "              'is_favourable': True,\n",
       "              'label': 'No Risk'},\n",
       "             {'count': 20, 'is_favourable': False, 'label': 'Risk'}]},\n",
       "           'fav_class_percent': 75.0,\n",
       "           'payload_perturb_distribution': {'male': [{'count': 75,\n",
       "              'is_favourable': True,\n",
       "              'label': 'No Risk'},\n",
       "             {'count': 25, 'is_favourable': False, 'label': 'Risk'}]},\n",
       "           'value': 'male'}]},\n",
       "        'minority': {'total_fav_percent': 70.0,\n",
       "         'total_rows_percent': 50.0,\n",
       "         'values': [{'distribution': {'female': [{'count': 28,\n",
       "              'is_favourable': True,\n",
       "              'label': 'No Risk'},\n",
       "             {'count': 7, 'is_favourable': False, 'label': 'Risk'}]},\n",
       "           'fairness_value': 0.933,\n",
       "           'fav_class_percent': 70.0,\n",
       "           'is_biased': True,\n",
       "           'payload_perturb_distribution': {'female': [{'count': 70,\n",
       "              'is_favourable': True,\n",
       "              'label': 'No Risk'},\n",
       "             {'count': 30, 'is_favourable': False, 'label': 'Risk'}]},\n",
       "           'value': 'female'}]},\n",
       "        'records_evaluated': {'additional_records': 0,\n",
       "         'newest_timestamp': '2020-04-14T20:44:50.512Z',\n",
       "         'number_of_records': 100,\n",
       "         'oldest_timestamp': '2020-04-14T20:44:13.141Z',\n",
       "         'perturbed_records': 100}}],\n",
       "      'perturbed_data_size': 200,\n",
       "      'response_time': '2.670898',\n",
       "      'rows_analyzed': 100,\n",
       "      'score_type': 'disparate impact'}},\n",
       "    {'issues': 1,\n",
       "     'metric_type': 'debiased_fairness',\n",
       "     'timestamp': '2020-05-08T20:36:23.221551Z',\n",
       "     'value': {'copy_reason': 'No new data added since last fairness computation.',\n",
       "      'corrected_records': 0,\n",
       "      'debiased': True,\n",
       "      'evaluated_at': '2020-04-14T20:48:18.619158Z',\n",
       "      'is_copied': True,\n",
       "      'manual_labelling_store': 'Manual_Labeling_65576d9d-ad82-47a4-9f80-be727f611c05',\n",
       "      'metrics': [{'bias_source': {'values': []},\n",
       "        'fairness_threshold': 0.98,\n",
       "        'feature': 'Age',\n",
       "        'majority': {'total_fav_percent': 72.0,\n",
       "         'total_rows_percent': 50.0,\n",
       "         'values': [{'distribution': {'[26, 27]': [{'count': 7,\n",
       "              'is_favourable': True,\n",
       "              'label': 'No Risk'}],\n",
       "            '[27, 28]': [{'count': 2,\n",
       "              'is_favourable': True,\n",
       "              'label': 'No Risk'}],\n",
       "            '[29, 30]': [{'count': 2,\n",
       "              'is_favourable': True,\n",
       "              'label': 'No Risk'},\n",
       "             {'count': 1, 'is_favourable': False, 'label': 'Risk'}],\n",
       "            '[30, 31]': [{'count': 4,\n",
       "              'is_favourable': True,\n",
       "              'label': 'No Risk'}],\n",
       "            '[31, 32]': [{'count': 6,\n",
       "              'is_favourable': True,\n",
       "              'label': 'No Risk'}],\n",
       "            '[32, 33]': [{'count': 2,\n",
       "              'is_favourable': True,\n",
       "              'label': 'No Risk'}],\n",
       "            '[33, 34]': [{'count': 7,\n",
       "              'is_favourable': True,\n",
       "              'label': 'No Risk'}],\n",
       "            '[34, 35]': [{'count': 2,\n",
       "              'is_favourable': True,\n",
       "              'label': 'No Risk'}],\n",
       "            '[35, 36]': [{'count': 6,\n",
       "              'is_favourable': True,\n",
       "              'label': 'No Risk'},\n",
       "             {'count': 1, 'is_favourable': False, 'label': 'Risk'}],\n",
       "            '[36, 37]': [{'count': 3,\n",
       "              'is_favourable': True,\n",
       "              'label': 'No Risk'}],\n",
       "            '[37, 38]': [{'count': 3,\n",
       "              'is_favourable': True,\n",
       "              'label': 'No Risk'}],\n",
       "            '[39, 40]': [{'count': 2,\n",
       "              'is_favourable': True,\n",
       "              'label': 'No Risk'}],\n",
       "            '[40, 41]': [{'count': 4,\n",
       "              'is_favourable': True,\n",
       "              'label': 'No Risk'}],\n",
       "            '[41, 42]': [{'count': 4,\n",
       "              'is_favourable': True,\n",
       "              'label': 'No Risk'},\n",
       "             {'count': 2, 'is_favourable': False, 'label': 'Risk'}],\n",
       "            '[42, 43]': [{'count': 1,\n",
       "              'is_favourable': False,\n",
       "              'label': 'Risk'}],\n",
       "            '[43, 44]': [{'count': 2,\n",
       "              'is_favourable': True,\n",
       "              'label': 'No Risk'},\n",
       "             {'count': 1, 'is_favourable': False, 'label': 'Risk'}],\n",
       "            '[44, 45]': [{'count': 2,\n",
       "              'is_favourable': True,\n",
       "              'label': 'No Risk'},\n",
       "             {'count': 1, 'is_favourable': False, 'label': 'Risk'}],\n",
       "            '[45, 46]': [{'count': 2,\n",
       "              'is_favourable': True,\n",
       "              'label': 'No Risk'},\n",
       "             {'count': 2, 'is_favourable': False, 'label': 'Risk'}],\n",
       "            '[46, 47]': [{'count': 3,\n",
       "              'is_favourable': False,\n",
       "              'label': 'Risk'}],\n",
       "            '[47, 48]': [{'count': 1,\n",
       "              'is_favourable': False,\n",
       "              'label': 'Risk'}],\n",
       "            '[48, 49]': [{'count': 1,\n",
       "              'is_favourable': True,\n",
       "              'label': 'No Risk'},\n",
       "             {'count': 3, 'is_favourable': False, 'label': 'Risk'}],\n",
       "            '[49, 50]': [{'count': 2,\n",
       "              'is_favourable': True,\n",
       "              'label': 'No Risk'},\n",
       "             {'count': 2, 'is_favourable': False, 'label': 'Risk'}],\n",
       "            '[50, 51]': [{'count': 1,\n",
       "              'is_favourable': False,\n",
       "              'label': 'Risk'}],\n",
       "            '[51, 52]': [{'count': 2,\n",
       "              'is_favourable': False,\n",
       "              'label': 'Risk'}],\n",
       "            '[52, 53]': [{'count': 1,\n",
       "              'is_favourable': False,\n",
       "              'label': 'Risk'}],\n",
       "            '[53, 54]': [{'count': 2,\n",
       "              'is_favourable': False,\n",
       "              'label': 'Risk'}],\n",
       "            '[54, 55]': [{'count': 1,\n",
       "              'is_favourable': False,\n",
       "              'label': 'Risk'}],\n",
       "            '[55, 56]': [{'count': 1,\n",
       "              'is_favourable': False,\n",
       "              'label': 'Risk'}],\n",
       "            '[59, 60]': [{'count': 1,\n",
       "              'is_favourable': False,\n",
       "              'label': 'Risk'}],\n",
       "            '[70, 71]': [{'count': 2,\n",
       "              'is_favourable': True,\n",
       "              'label': 'No Risk'},\n",
       "             {'count': 1, 'is_favourable': False, 'label': 'Risk'}],\n",
       "            '[72, 73]': [{'count': 5,\n",
       "              'is_favourable': True,\n",
       "              'label': 'No Risk'}],\n",
       "            '[74, 75]': [{'count': 2,\n",
       "              'is_favourable': True,\n",
       "              'label': 'No Risk'}]},\n",
       "           'distribution_ranges': {'[26, 27]': [26, 27],\n",
       "            '[27, 28]': [27, 28],\n",
       "            '[29, 30]': [29, 30],\n",
       "            '[30, 31]': [30, 31],\n",
       "            '[31, 32]': [31, 32],\n",
       "            '[32, 33]': [32, 33],\n",
       "            '[33, 34]': [33, 34],\n",
       "            '[34, 35]': [34, 35],\n",
       "            '[35, 36]': [35, 36],\n",
       "            '[36, 37]': [36, 37],\n",
       "            '[37, 38]': [37, 38],\n",
       "            '[39, 40]': [39, 40],\n",
       "            '[40, 41]': [40, 41],\n",
       "            '[41, 42]': [41, 42],\n",
       "            '[42, 43]': [42, 43],\n",
       "            '[43, 44]': [43, 44],\n",
       "            '[44, 45]': [44, 45],\n",
       "            '[45, 46]': [45, 46],\n",
       "            '[46, 47]': [46, 47],\n",
       "            '[47, 48]': [47, 48],\n",
       "            '[48, 49]': [48, 49],\n",
       "            '[49, 50]': [49, 50],\n",
       "            '[50, 51]': [50, 51],\n",
       "            '[51, 52]': [51, 52],\n",
       "            '[52, 53]': [52, 53],\n",
       "            '[53, 54]': [53, 54],\n",
       "            '[54, 55]': [54, 55],\n",
       "            '[55, 56]': [55, 56],\n",
       "            '[59, 60]': [59, 60],\n",
       "            '[70, 71]': [70, 71],\n",
       "            '[72, 73]': [72, 73],\n",
       "            '[74, 75]': [74, 75]},\n",
       "           'fav_class_percent': 72.0,\n",
       "           'value': [26, 75]}]},\n",
       "        'minority': {'total_fav_percent': 77.0,\n",
       "         'total_rows_percent': 50.0,\n",
       "         'values': [{'distribution': {'[18, 19]': [{'count': 32,\n",
       "              'is_favourable': True,\n",
       "              'label': 'No Risk'},\n",
       "             {'count': 7, 'is_favourable': False, 'label': 'Risk'}],\n",
       "            '[19, 20]': [{'count': 7,\n",
       "              'is_favourable': True,\n",
       "              'label': 'No Risk'},\n",
       "             {'count': 1, 'is_favourable': False, 'label': 'Risk'}],\n",
       "            '[20, 21]': [{'count': 5,\n",
       "              'is_favourable': True,\n",
       "              'label': 'No Risk'},\n",
       "             {'count': 4, 'is_favourable': False, 'label': 'Risk'}],\n",
       "            '[21, 22]': [{'count': 5,\n",
       "              'is_favourable': True,\n",
       "              'label': 'No Risk'},\n",
       "             {'count': 1, 'is_favourable': False, 'label': 'Risk'}],\n",
       "            '[22, 23]': [{'count': 17,\n",
       "              'is_favourable': True,\n",
       "              'label': 'No Risk'},\n",
       "             {'count': 5, 'is_favourable': False, 'label': 'Risk'}],\n",
       "            '[23, 24]': [{'count': 7,\n",
       "              'is_favourable': True,\n",
       "              'label': 'No Risk'},\n",
       "             {'count': 2, 'is_favourable': False, 'label': 'Risk'}],\n",
       "            '[24, 25]': [{'count': 4,\n",
       "              'is_favourable': True,\n",
       "              'label': 'No Risk'},\n",
       "             {'count': 3, 'is_favourable': False, 'label': 'Risk'}]},\n",
       "           'distribution_ranges': {'[18, 19]': [18, 19],\n",
       "            '[19, 20]': [19, 20],\n",
       "            '[20, 21]': [20, 21],\n",
       "            '[21, 22]': [21, 22],\n",
       "            '[22, 23]': [22, 23],\n",
       "            '[23, 24]': [23, 24],\n",
       "            '[24, 25]': [24, 25]},\n",
       "           'fairness_value': 1.069,\n",
       "           'fav_class_percent': 77.0,\n",
       "           'is_biased': False,\n",
       "           'value': [18, 25]}]},\n",
       "        'records_evaluated': {'additional_records': 0,\n",
       "         'newest_timestamp': '2020-04-14T20:44:50.512Z',\n",
       "         'number_of_records': 100,\n",
       "         'oldest_timestamp': '2020-04-14T20:44:13.141Z',\n",
       "         'perturbed_records': 100}},\n",
       "       {'fairness_threshold': 0.98,\n",
       "        'feature': 'Sex',\n",
       "        'majority': {'total_fav_percent': 75.0,\n",
       "         'total_rows_percent': 50.0,\n",
       "         'values': [{'distribution': {'male': [{'count': 75,\n",
       "              'is_favourable': True,\n",
       "              'label': 'No Risk'},\n",
       "             {'count': 25, 'is_favourable': False, 'label': 'Risk'}]},\n",
       "           'fav_class_percent': 75.0,\n",
       "           'value': 'male'}]},\n",
       "        'minority': {'total_fav_percent': 70.0,\n",
       "         'total_rows_percent': 50.0,\n",
       "         'values': [{'distribution': {'female': [{'count': 70,\n",
       "              'is_favourable': True,\n",
       "              'label': 'No Risk'},\n",
       "             {'count': 30, 'is_favourable': False, 'label': 'Risk'}]},\n",
       "           'fairness_value': 0.933,\n",
       "           'fav_class_percent': 70.0,\n",
       "           'is_biased': True,\n",
       "           'value': 'female'}]},\n",
       "        'records_evaluated': {'additional_records': 0,\n",
       "         'newest_timestamp': '2020-04-14T20:44:50.512Z',\n",
       "         'number_of_records': 100,\n",
       "         'oldest_timestamp': '2020-04-14T20:44:13.141Z',\n",
       "         'perturbed_records': 100}}],\n",
       "      'perturbed_data_size': 200,\n",
       "      'response_time': '3.281485',\n",
       "      'rows_analyzed': 100,\n",
       "      'score_type': 'disparate impact'}},\n",
       "    {'issues': 1,\n",
       "     'metric_type': 'quality',\n",
       "     'timestamp': '2020-04-22T06:35:26.644Z',\n",
       "     'value': {'metrics': [{'name': 'true_positive_rate',\n",
       "        'value': 0.5555555555555556},\n",
       "       {'name': 'area_under_roc', 'value': 0.7455197132616488},\n",
       "       {'name': 'precision', 'value': 0.8333333333333334},\n",
       "       {'name': 'f1_measure', 'value': 0.6666666666666667},\n",
       "       {'name': 'accuracy', 'value': 0.7959183673469388},\n",
       "       {'name': 'log_loss', 'value': 0.5465036375037408},\n",
       "       {'name': 'false_positive_rate', 'value': 0.06451612903225806},\n",
       "       {'name': 'area_under_pr', 'value': 0.7297808012093727},\n",
       "       {'name': 'recall', 'value': 0.5555555555555556}],\n",
       "      'quality': 0.7455197132616488,\n",
       "      'threshold': 0.95}},\n",
       "    {'issues': 1,\n",
       "     'metric_type': 'drift',\n",
       "     'timestamp': '2020-05-08T20:37:38.288565Z',\n",
       "     'value': {'metrics': [{'name': 'data_drift_magnitude', 'value': 0.0},\n",
       "       {'threshold': 0.05,\n",
       "        'name': 'drift_magnitude',\n",
       "        'value': 0.062000000000000055},\n",
       "       {'name': 'predicted_accuracy', 'value': 0.738}]}}],\n",
       "   'subscription': {'subscription_id': '65576d9d-ad82-47a4-9f80-be727f611c05',\n",
       "    'url': '/v1/data_marts/00000000-0000-0000-0000-000000000000/service_bindings/999/subscriptions/65576d9d-ad82-47a4-9f80-be727f611c05'}},\n",
       "  {'asset': {'asset_id': 'bb54dc8e-01dc-46bd-bf1a-e09b74fdd1d6',\n",
       "    'asset_type': 'model',\n",
       "    'created_at': '2020-04-16T22:13:50.002Z',\n",
       "    'name': 'sda model 4-16-2020',\n",
       "    'url': 'https://ibm-nginx-svc.zen.svc.cluster.local/v4/models/bb54dc8e-01dc-46bd-bf1a-e09b74fdd1d6?space_id=2a068a1d-195d-4b9c-9515-8721d4566255'},\n",
       "   'deployment': {'created_at': '2020-04-16T22:15:09.196Z',\n",
       "    'deployment_id': 'd9cde47b-4ac4-4d4b-800a-49b999692ce0',\n",
       "    'deployment_rn': '',\n",
       "    'deployment_type': 'online',\n",
       "    'name': 'sda Deployment 4-16-2020',\n",
       "    'scoring_endpoint': {'request_headers': {'Content-Type': 'application/json'},\n",
       "     'url': 'https://ibm-nginx-svc.zen.svc.cluster.local/v4/deployments/d9cde47b-4ac4-4d4b-800a-49b999692ce0/predictions'},\n",
       "    'url': 'https://ibm-nginx-svc.zen.svc.cluster.local/v4/deployments/d9cde47b-4ac4-4d4b-800a-49b999692ce0'},\n",
       "   'metrics': [{'issues': 0,\n",
       "     'metric_type': 'performance',\n",
       "     'timestamp': '2020-04-16T22:48:31Z',\n",
       "     'value': {'records': 485, 'response_time': 161.1055846365602}},\n",
       "    {'issues': 0,\n",
       "     'metric_type': 'quality',\n",
       "     'timestamp': '2020-04-16T22:47:22Z',\n",
       "     'value': {'metrics': [{'name': 'auroc', 'threshold': 0.7, 'value': 0.76}],\n",
       "      'quality': 0.76,\n",
       "      'threshold': 0.7}},\n",
       "    {'issues': 1,\n",
       "     'metric_type': 'debiased_fairness',\n",
       "     'timestamp': '2020-04-16T22:46:55Z',\n",
       "     'value': {'debiased': True,\n",
       "      'manual_labelling_store': 'Manual_Labeling_dd79dd1b-0afc-436e-9999-6fd6414f81c2',\n",
       "      'metrics': [{'feature': 'Sex',\n",
       "        'majority': {'total_fav_percent': 95.0,\n",
       "         'total_rows_percent': 50.0,\n",
       "         'values': [{'distribution': {'male': [{'count': 5,\n",
       "              'is_favourable': False,\n",
       "              'label': 'Risk'},\n",
       "             {'count': 56, 'is_favourable': False, 'label': 'No Risk'}]},\n",
       "           'fav_class_percent': 95.0,\n",
       "           'value': 'male'}]},\n",
       "        'minority': {'total_fav_percent': 95.0,\n",
       "         'total_rows_percent': 50.0,\n",
       "         'values': [{'distribution': {'female': [{'count': 39,\n",
       "              'is_favourable': False,\n",
       "              'label': 'No Risk'}]},\n",
       "           'fairness_value': 1.0,\n",
       "           'fav_class_percent': 95.0,\n",
       "           'is_biased': False,\n",
       "           'value': 'female'}]}},\n",
       "       {'bias_source': {'values': [{'fav_percent': 88.23529411764706,\n",
       "           'range': '[18,19]'}]},\n",
       "        'feature': 'Age',\n",
       "        'majority': {'total_fav_percent': 96.17834394904459,\n",
       "         'total_rows_percent': 78.5,\n",
       "         'values': [{'distribution': {'26': [{'count': 2,\n",
       "              'is_favourable': False,\n",
       "              'label': 'No Risk'}],\n",
       "            '28': [{'count': 5, 'is_favourable': False, 'label': 'No Risk'}],\n",
       "            '29': [{'count': 2, 'is_favourable': False, 'label': 'No Risk'}],\n",
       "            '30': [{'count': 1, 'is_favourable': False, 'label': 'No Risk'}],\n",
       "            '31': [{'count': 1, 'is_favourable': False, 'label': 'No Risk'}],\n",
       "            '32': [{'count': 4, 'is_favourable': False, 'label': 'No Risk'}],\n",
       "            '34': [{'count': 4, 'is_favourable': False, 'label': 'No Risk'}],\n",
       "            '35': [{'count': 1, 'is_favourable': False, 'label': 'No Risk'}],\n",
       "            '36': [{'count': 1, 'is_favourable': False, 'label': 'No Risk'}],\n",
       "            '37': [{'count': 1, 'is_favourable': False, 'label': 'No Risk'}],\n",
       "            '39': [{'count': 2, 'is_favourable': False, 'label': 'No Risk'}],\n",
       "            '40': [{'count': 2, 'is_favourable': False, 'label': 'No Risk'}],\n",
       "            '41': [{'count': 2, 'is_favourable': False, 'label': 'No Risk'}],\n",
       "            '42': [{'count': 1, 'is_favourable': False, 'label': 'Risk'}],\n",
       "            '43': [{'count': 1, 'is_favourable': False, 'label': 'No Risk'}],\n",
       "            '44': [{'count': 3, 'is_favourable': False, 'label': 'No Risk'}],\n",
       "            '45': [{'count': 2, 'is_favourable': False, 'label': 'No Risk'}],\n",
       "            '48': [{'count': 2, 'is_favourable': False, 'label': 'No Risk'}],\n",
       "            '49': [{'count': 1, 'is_favourable': False, 'label': 'Risk'}],\n",
       "            '52': [{'count': 1, 'is_favourable': False, 'label': 'No Risk'}],\n",
       "            '59': [{'count': 1, 'is_favourable': False, 'label': 'Risk'}],\n",
       "            '60': [{'count': 1, 'is_favourable': False, 'label': 'No Risk'}],\n",
       "            '66': [{'count': 1, 'is_favourable': False, 'label': 'No Risk'}],\n",
       "            '67': [{'count': 1, 'is_favourable': False, 'label': 'Risk'}]},\n",
       "           'fav_class_percent': 96.17834394904459,\n",
       "           'value': [26, 75]}]},\n",
       "        'minority': {'total_fav_percent': 93.7062937062937,\n",
       "         'total_rows_percent': 71.5,\n",
       "         'values': [{'distribution': {'19': [{'count': 17,\n",
       "              'is_favourable': False,\n",
       "              'label': 'No Risk'}],\n",
       "            '20': [{'count': 18, 'is_favourable': False, 'label': 'No Risk'},\n",
       "             {'count': 1, 'is_favourable': False, 'label': 'Risk'}],\n",
       "            '21': [{'count': 13, 'is_favourable': False, 'label': 'No Risk'}],\n",
       "            '22': [{'count': 4, 'is_favourable': False, 'label': 'No Risk'}],\n",
       "            '23': [{'count': 1, 'is_favourable': False, 'label': 'No Risk'}],\n",
       "            '24': [{'count': 1, 'is_favourable': False, 'label': 'No Risk'}],\n",
       "            '25': [{'count': 2, 'is_favourable': False, 'label': 'No Risk'}]},\n",
       "           'fairness_value': 0.974,\n",
       "           'fav_class_percent': 93.7062937062937,\n",
       "           'is_biased': True,\n",
       "           'value': [18, 25]}]}}],\n",
       "      'perturbed_data_size': 100,\n",
       "      'response_time': '237.744371',\n",
       "      'rows_analyzed': 100,\n",
       "      'score_type': 'desperate impact'}},\n",
       "    {'issues': 1,\n",
       "     'metric_type': 'fairness',\n",
       "     'timestamp': '2020-04-16T22:46:19Z',\n",
       "     'value': {'manual_labelling_store': 'Manual_Labeling_1dfb5ad1-0b94-47da-a0af-3216c79cecb3',\n",
       "      'metrics': [{'feature': 'Sex',\n",
       "        'majority': {'total_fav_percent': 75.5,\n",
       "         'total_rows_percent': 33.33333333333333,\n",
       "         'values': [{'distribution': {'male': [{'count': 84,\n",
       "              'is_favourable': True,\n",
       "              'label': 'No Risk'},\n",
       "             {'count': 45, 'is_favourable': False, 'label': 'Risk'}]},\n",
       "           'fav_class_percent': 75.5,\n",
       "           'value': 'male'}]},\n",
       "        'minority': {'total_fav_percent': 71.5,\n",
       "         'total_rows_percent': 33.33333333333333,\n",
       "         'values': [{'distribution': {'female': [{'count': 65,\n",
       "              'is_favourable': True,\n",
       "              'label': 'No Risk'},\n",
       "             {'count': 6, 'is_favourable': False, 'label': 'Risk'}]},\n",
       "           'fairness_value': 0.947,\n",
       "           'fav_class_percent': 71.5,\n",
       "           'is_biased': True,\n",
       "           'value': 'female'}]}},\n",
       "       {'bias_source': {'values': []},\n",
       "        'feature': 'Age',\n",
       "        'majority': {'total_fav_percent': 77.82608695652173,\n",
       "         'total_rows_percent': 38.333333333333336,\n",
       "         'values': [{'distribution': {'26': [{'count': 7,\n",
       "              'is_favourable': True,\n",
       "              'label': 'No Risk'}],\n",
       "            '27': [{'count': 5, 'is_favourable': True, 'label': 'No Risk'}],\n",
       "            '28': [{'count': 10, 'is_favourable': True, 'label': 'No Risk'}],\n",
       "            '29': [{'count': 8, 'is_favourable': True, 'label': 'No Risk'},\n",
       "             {'count': 1, 'is_favourable': False, 'label': 'Risk'}],\n",
       "            '30': [{'count': 5, 'is_favourable': True, 'label': 'No Risk'},\n",
       "             {'count': 1, 'is_favourable': False, 'label': 'Risk'}],\n",
       "            '31': [{'count': 6, 'is_favourable': True, 'label': 'No Risk'},\n",
       "             {'count': 1, 'is_favourable': False, 'label': 'Risk'}],\n",
       "            '32': [{'count': 7, 'is_favourable': True, 'label': 'No Risk'}],\n",
       "            '33': [{'count': 6, 'is_favourable': True, 'label': 'No Risk'}],\n",
       "            '34': [{'count': 8, 'is_favourable': True, 'label': 'No Risk'},\n",
       "             {'count': 1, 'is_favourable': False, 'label': 'Risk'}],\n",
       "            '35': [{'count': 6, 'is_favourable': True, 'label': 'No Risk'}],\n",
       "            '36': [{'count': 1, 'is_favourable': False, 'label': 'Risk'},\n",
       "             {'count': 5, 'is_favourable': True, 'label': 'No Risk'}],\n",
       "            '37': [{'count': 6, 'is_favourable': True, 'label': 'No Risk'},\n",
       "             {'count': 1, 'is_favourable': False, 'label': 'Risk'}],\n",
       "            '38': [{'count': 7, 'is_favourable': True, 'label': 'No Risk'},\n",
       "             {'count': 1, 'is_favourable': False, 'label': 'Risk'}],\n",
       "            '39': [{'count': 7, 'is_favourable': True, 'label': 'No Risk'}],\n",
       "            '40': [{'count': 2, 'is_favourable': True, 'label': 'No Risk'},\n",
       "             {'count': 1, 'is_favourable': False, 'label': 'Risk'}],\n",
       "            '41': [{'count': 2, 'is_favourable': True, 'label': 'No Risk'}],\n",
       "            '42': [{'count': 2, 'is_favourable': False, 'label': 'Risk'},\n",
       "             {'count': 2, 'is_favourable': True, 'label': 'No Risk'}],\n",
       "            '43': [{'count': 6, 'is_favourable': True, 'label': 'No Risk'},\n",
       "             {'count': 4, 'is_favourable': False, 'label': 'Risk'}],\n",
       "            '44': [{'count': 4, 'is_favourable': False, 'label': 'Risk'},\n",
       "             {'count': 3, 'is_favourable': True, 'label': 'No Risk'}],\n",
       "            '45': [{'count': 4, 'is_favourable': False, 'label': 'Risk'}],\n",
       "            '46': [{'count': 1, 'is_favourable': False, 'label': 'Risk'},\n",
       "             {'count': 3, 'is_favourable': True, 'label': 'No Risk'}],\n",
       "            '47': [{'count': 4, 'is_favourable': False, 'label': 'Risk'}],\n",
       "            '48': [{'count': 2, 'is_favourable': True, 'label': 'No Risk'}],\n",
       "            '49': [{'count': 3, 'is_favourable': False, 'label': 'Risk'}],\n",
       "            '50': [{'count': 2, 'is_favourable': False, 'label': 'Risk'},\n",
       "             {'count': 1, 'is_favourable': True, 'label': 'No Risk'}],\n",
       "            '51': [{'count': 4, 'is_favourable': False, 'label': 'Risk'}],\n",
       "            '52': [{'count': 2, 'is_favourable': False, 'label': 'Risk'},\n",
       "             {'count': 2, 'is_favourable': True, 'label': 'No Risk'}],\n",
       "            '53': [{'count': 3, 'is_favourable': False, 'label': 'Risk'},\n",
       "             {'count': 1, 'is_favourable': True, 'label': 'No Risk'}],\n",
       "            '54': [{'count': 4, 'is_favourable': False, 'label': 'Risk'}],\n",
       "            '55': [{'count': 1, 'is_favourable': True, 'label': 'No Risk'}],\n",
       "            '56': [{'count': 2, 'is_favourable': False, 'label': 'Risk'}],\n",
       "            '57': [{'count': 1, 'is_favourable': False, 'label': 'Risk'}],\n",
       "            '58': [{'count': 1, 'is_favourable': False, 'label': 'Risk'}],\n",
       "            '59': [{'count': 1, 'is_favourable': False, 'label': 'Risk'},\n",
       "             {'count': 1, 'is_favourable': True, 'label': 'No Risk'}],\n",
       "            '60': [{'count': 1, 'is_favourable': False, 'label': 'Risk'}]},\n",
       "           'fav_class_percent': 77.82608695652173,\n",
       "           'value': [26, 75]}]},\n",
       "        'minority': {'total_fav_percent': 80.0,\n",
       "         'total_rows_percent': 61.66666666666667,\n",
       "         'values': [{'distribution': {'19': [{'count': 15,\n",
       "              'is_favourable': True,\n",
       "              'label': 'No Risk'}],\n",
       "            '21': [{'count': 5, 'is_favourable': True, 'label': 'No Risk'}],\n",
       "            '22': [{'count': 2, 'is_favourable': True, 'label': 'No Risk'}],\n",
       "            '23': [{'count': 1, 'is_favourable': True, 'label': 'No Risk'}],\n",
       "            '24': [{'count': 1, 'is_favourable': True, 'label': 'No Risk'}],\n",
       "            '25': [{'count': 6, 'is_favourable': True, 'label': 'No Risk'}]},\n",
       "           'fairness_value': 1.028,\n",
       "           'fav_class_percent': 80.0,\n",
       "           'is_biased': False,\n",
       "           'value': [18, 25]}]}}],\n",
       "      'perturbed_data_size': 400,\n",
       "      'response_time': '16.429616',\n",
       "      'rows_analyzed': 200,\n",
       "      'score_type': 'desperate impact'}},\n",
       "    {'issues': 1,\n",
       "     'metric_type': 'quality',\n",
       "     'timestamp': '2020-04-20T07:21:02.327Z',\n",
       "     'value': {'metrics': [{'name': 'true_positive_rate',\n",
       "        'value': 0.3939393939393939},\n",
       "       {'name': 'area_under_roc', 'value': 0.6585081585081586},\n",
       "       {'name': 'precision', 'value': 0.7222222222222222},\n",
       "       {'name': 'f1_measure', 'value': 0.5098039215686274},\n",
       "       {'name': 'accuracy', 'value': 0.7448979591836735},\n",
       "       {'name': 'log_loss', 'value': 0.43414398129130777},\n",
       "       {'name': 'false_positive_rate', 'value': 0.07692307692307693},\n",
       "       {'name': 'area_under_pr', 'value': 0.605407819693534},\n",
       "       {'name': 'recall', 'value': 0.3939393939393939}],\n",
       "      'quality': 0.6585081585081586,\n",
       "      'threshold': 0.7}},\n",
       "    {'issues': 1,\n",
       "     'metric_type': 'quality',\n",
       "     'timestamp': '2020-04-20T07:21:02.327Z',\n",
       "     'value': {'metrics': [{'name': 'true_positive_rate',\n",
       "        'value': 0.3939393939393939},\n",
       "       {'name': 'area_under_roc', 'value': 0.6585081585081586},\n",
       "       {'name': 'precision', 'value': 0.7222222222222222},\n",
       "       {'name': 'f1_measure', 'value': 0.5098039215686274},\n",
       "       {'name': 'accuracy', 'value': 0.7448979591836735},\n",
       "       {'name': 'log_loss', 'value': 0.43414398129130777},\n",
       "       {'name': 'false_positive_rate', 'value': 0.07692307692307693},\n",
       "       {'name': 'area_under_pr', 'value': 0.605407819693534},\n",
       "       {'name': 'recall', 'value': 0.3939393939393939}],\n",
       "      'quality': 0.6585081585081586,\n",
       "      'threshold': 0.7}}],\n",
       "   'subscription': {'subscription_id': 'efd50220-c9be-4e70-a090-07a31acce143',\n",
       "    'url': '/v1/data_marts/00000000-0000-0000-0000-000000000000/service_bindings/999/subscriptions/efd50220-c9be-4e70-a090-07a31acce143'}},\n",
       "  {'asset': {'asset_id': '1b78e386-c90e-4d3c-8d6b-a3b57b1468f9',\n",
       "    'asset_type': 'model',\n",
       "    'created_at': '2020-05-04T17:39:21.002Z',\n",
       "    'name': 'scottda model 5-3-2020',\n",
       "    'url': 'https://ibm-nginx-svc.zen.svc.cluster.local/v4/models/1b78e386-c90e-4d3c-8d6b-a3b57b1468f9?space_id=2a068a1d-195d-4b9c-9515-8721d4566255'},\n",
       "   'deployment': {'created_at': '2020-05-04T17:39:37.819Z',\n",
       "    'deployment_id': 'fc66c701-e590-4059-853e-642600db572a',\n",
       "    'deployment_rn': '',\n",
       "    'deployment_type': 'online',\n",
       "    'name': 'scottda Deployment 5-3-2020',\n",
       "    'scoring_endpoint': {'request_headers': {'Content-Type': 'application/json'},\n",
       "     'url': 'https://ibm-nginx-svc.zen.svc.cluster.local/v4/deployments/fc66c701-e590-4059-853e-642600db572a/predictions'},\n",
       "    'url': 'https://ibm-nginx-svc.zen.svc.cluster.local/v4/deployments/fc66c701-e590-4059-853e-642600db572a'},\n",
       "   'metrics': [{'issues': 0,\n",
       "     'metric_type': 'performance',\n",
       "     'timestamp': '2020-05-04T18:04:21Z',\n",
       "     'value': {'records': 467, 'response_time': 168.84901830899895}},\n",
       "    {'issues': 0,\n",
       "     'metric_type': 'quality',\n",
       "     'timestamp': '2020-05-04T18:03:49Z',\n",
       "     'value': {'metrics': [{'name': 'auroc', 'threshold': 0.7, 'value': 0.76}],\n",
       "      'quality': 0.76,\n",
       "      'threshold': 0.7}},\n",
       "    {'issues': 1,\n",
       "     'metric_type': 'fairness',\n",
       "     'timestamp': '2020-05-08T20:49:00.718462Z',\n",
       "     'value': {'copy_reason': 'No new data added since last fairness computation.',\n",
       "      'evaluated_at': '2020-05-04T17:49:19.611808Z',\n",
       "      'is_copied': True,\n",
       "      'manual_labelling_store': 'Manual_Labeling_d837def0-df65-47b9-aead-a4c0f829966b',\n",
       "      'metrics': [{'fairness_threshold': 0.95,\n",
       "        'feature': 'Sex',\n",
       "        'majority': {'total_fav_percent': 73.5,\n",
       "         'total_rows_percent': 50.0,\n",
       "         'values': [{'distribution': {'male': [{'count': 85,\n",
       "              'is_favourable': True,\n",
       "              'label': 'No Risk'},\n",
       "             {'count': 52, 'is_favourable': False, 'label': 'Risk'}]},\n",
       "           'fav_class_percent': 73.5,\n",
       "           'payload_perturb_distribution': {'male': [{'count': 147,\n",
       "              'is_favourable': True,\n",
       "              'label': 'No Risk'},\n",
       "             {'count': 53, 'is_favourable': False, 'label': 'Risk'}]},\n",
       "           'value': 'male'}]},\n",
       "        'minority': {'total_fav_percent': 66.0,\n",
       "         'total_rows_percent': 50.0,\n",
       "         'values': [{'distribution': {'female': [{'count': 58,\n",
       "              'is_favourable': True,\n",
       "              'label': 'No Risk'},\n",
       "             {'count': 5, 'is_favourable': False, 'label': 'Risk'}]},\n",
       "           'fairness_value': 0.898,\n",
       "           'fav_class_percent': 66.0,\n",
       "           'is_biased': True,\n",
       "           'payload_perturb_distribution': {'female': [{'count': 132,\n",
       "              'is_favourable': True,\n",
       "              'label': 'No Risk'},\n",
       "             {'count': 68, 'is_favourable': False, 'label': 'Risk'}]},\n",
       "           'value': 'female'}]},\n",
       "        'records_evaluated': {'additional_records': 0,\n",
       "         'newest_timestamp': '2020-05-04T17:48:11.628Z',\n",
       "         'number_of_records': 200,\n",
       "         'oldest_timestamp': '2020-05-04T17:48:11.628Z',\n",
       "         'perturbed_records': 200}},\n",
       "       {'bias_source': {'values': []},\n",
       "        'fairness_threshold': 0.95,\n",
       "        'feature': 'Age',\n",
       "        'majority': {'total_fav_percent': 71.5,\n",
       "         'total_rows_percent': 50.0,\n",
       "         'values': [{'distribution': {'[26, 28]': [{'count': 16,\n",
       "              'is_favourable': True,\n",
       "              'label': 'No Risk'}],\n",
       "            '[28, 30]': [{'count': 12,\n",
       "              'is_favourable': True,\n",
       "              'label': 'No Risk'},\n",
       "             {'count': 1, 'is_favourable': False, 'label': 'Risk'}],\n",
       "            '[30, 32]': [{'count': 12,\n",
       "              'is_favourable': True,\n",
       "              'label': 'No Risk'}],\n",
       "            '[32, 34]': [{'count': 12,\n",
       "              'is_favourable': True,\n",
       "              'label': 'No Risk'}],\n",
       "            '[34, 36]': [{'count': 15,\n",
       "              'is_favourable': True,\n",
       "              'label': 'No Risk'}],\n",
       "            '[36, 38]': [{'count': 11,\n",
       "              'is_favourable': True,\n",
       "              'label': 'No Risk'},\n",
       "             {'count': 2, 'is_favourable': False, 'label': 'Risk'}],\n",
       "            '[38, 40]': [{'count': 5,\n",
       "              'is_favourable': True,\n",
       "              'label': 'No Risk'},\n",
       "             {'count': 3, 'is_favourable': False, 'label': 'Risk'}],\n",
       "            '[40, 42]': [{'count': 5,\n",
       "              'is_favourable': True,\n",
       "              'label': 'No Risk'},\n",
       "             {'count': 5, 'is_favourable': False, 'label': 'Risk'}],\n",
       "            '[42, 44]': [{'count': 8,\n",
       "              'is_favourable': True,\n",
       "              'label': 'No Risk'},\n",
       "             {'count': 9, 'is_favourable': False, 'label': 'Risk'}],\n",
       "            '[44, 46]': [{'count': 4,\n",
       "              'is_favourable': True,\n",
       "              'label': 'No Risk'},\n",
       "             {'count': 6, 'is_favourable': False, 'label': 'Risk'}],\n",
       "            '[46, 48]': [{'count': 6,\n",
       "              'is_favourable': True,\n",
       "              'label': 'No Risk'},\n",
       "             {'count': 7, 'is_favourable': False, 'label': 'Risk'}],\n",
       "            '[48, 50]': [{'count': 1,\n",
       "              'is_favourable': True,\n",
       "              'label': 'No Risk'},\n",
       "             {'count': 6, 'is_favourable': False, 'label': 'Risk'}],\n",
       "            '[50, 52]': [{'count': 5,\n",
       "              'is_favourable': False,\n",
       "              'label': 'Risk'}],\n",
       "            '[52, 54]': [{'count': 6,\n",
       "              'is_favourable': False,\n",
       "              'label': 'Risk'}],\n",
       "            '[56, 58]': [{'count': 3,\n",
       "              'is_favourable': False,\n",
       "              'label': 'Risk'}],\n",
       "            '[58, 60]': [{'count': 3,\n",
       "              'is_favourable': False,\n",
       "              'label': 'Risk'}],\n",
       "            '[64, 66]': [{'count': 1,\n",
       "              'is_favourable': False,\n",
       "              'label': 'Risk'}]},\n",
       "           'distribution_ranges': {'[26, 28]': [26, 28],\n",
       "            '[28, 30]': [28, 30],\n",
       "            '[30, 32]': [30, 32],\n",
       "            '[32, 34]': [32, 34],\n",
       "            '[34, 36]': [34, 36],\n",
       "            '[36, 38]': [36, 38],\n",
       "            '[38, 40]': [38, 40],\n",
       "            '[40, 42]': [40, 42],\n",
       "            '[42, 44]': [42, 44],\n",
       "            '[44, 46]': [44, 46],\n",
       "            '[46, 48]': [46, 48],\n",
       "            '[48, 50]': [48, 50],\n",
       "            '[50, 52]': [50, 52],\n",
       "            '[52, 54]': [52, 54],\n",
       "            '[56, 58]': [56, 58],\n",
       "            '[58, 60]': [58, 60],\n",
       "            '[64, 66]': [64, 66],\n",
       "            '[68, 70]': [68, 70],\n",
       "            '[70, 72]': [70, 72],\n",
       "            '[74, 75]': [74, 75]},\n",
       "           'fav_class_percent': 71.5,\n",
       "           'payload_perturb_distribution': {'[26, 28]': [{'count': 16,\n",
       "              'is_favourable': True,\n",
       "              'label': 'No Risk'}],\n",
       "            '[28, 30]': [{'count': 12,\n",
       "              'is_favourable': True,\n",
       "              'label': 'No Risk'},\n",
       "             {'count': 1, 'is_favourable': False, 'label': 'Risk'}],\n",
       "            '[30, 32]': [{'count': 12,\n",
       "              'is_favourable': True,\n",
       "              'label': 'No Risk'}],\n",
       "            '[32, 34]': [{'count': 16,\n",
       "              'is_favourable': True,\n",
       "              'label': 'No Risk'}],\n",
       "            '[34, 36]': [{'count': 18,\n",
       "              'is_favourable': True,\n",
       "              'label': 'No Risk'}],\n",
       "            '[36, 38]': [{'count': 11,\n",
       "              'is_favourable': True,\n",
       "              'label': 'No Risk'},\n",
       "             {'count': 2, 'is_favourable': False, 'label': 'Risk'}],\n",
       "            '[38, 40]': [{'count': 5,\n",
       "              'is_favourable': True,\n",
       "              'label': 'No Risk'},\n",
       "             {'count': 3, 'is_favourable': False, 'label': 'Risk'}],\n",
       "            '[40, 42]': [{'count': 5,\n",
       "              'is_favourable': True,\n",
       "              'label': 'No Risk'},\n",
       "             {'count': 5, 'is_favourable': False, 'label': 'Risk'}],\n",
       "            '[42, 44]': [{'count': 8,\n",
       "              'is_favourable': True,\n",
       "              'label': 'No Risk'},\n",
       "             {'count': 9, 'is_favourable': False, 'label': 'Risk'}],\n",
       "            '[44, 46]': [{'count': 4,\n",
       "              'is_favourable': True,\n",
       "              'label': 'No Risk'},\n",
       "             {'count': 6, 'is_favourable': False, 'label': 'Risk'}],\n",
       "            '[46, 48]': [{'count': 6,\n",
       "              'is_favourable': True,\n",
       "              'label': 'No Risk'},\n",
       "             {'count': 7, 'is_favourable': False, 'label': 'Risk'}],\n",
       "            '[48, 50]': [{'count': 4,\n",
       "              'is_favourable': True,\n",
       "              'label': 'No Risk'},\n",
       "             {'count': 6, 'is_favourable': False, 'label': 'Risk'}],\n",
       "            '[50, 52]': [{'count': 5,\n",
       "              'is_favourable': False,\n",
       "              'label': 'Risk'}],\n",
       "            '[52, 54]': [{'count': 6,\n",
       "              'is_favourable': False,\n",
       "              'label': 'Risk'}],\n",
       "            '[56, 58]': [{'count': 3,\n",
       "              'is_favourable': False,\n",
       "              'label': 'Risk'}],\n",
       "            '[58, 60]': [{'count': 3,\n",
       "              'is_favourable': False,\n",
       "              'label': 'Risk'}],\n",
       "            '[64, 66]': [{'count': 1,\n",
       "              'is_favourable': False,\n",
       "              'label': 'Risk'}],\n",
       "            '[68, 70]': [{'count': 12,\n",
       "              'is_favourable': True,\n",
       "              'label': 'No Risk'}],\n",
       "            '[70, 72]': [{'count': 8,\n",
       "              'is_favourable': True,\n",
       "              'label': 'No Risk'}],\n",
       "            '[74, 75]': [{'count': 6,\n",
       "              'is_favourable': True,\n",
       "              'label': 'No Risk'}]},\n",
       "           'value': [26, 75]}]},\n",
       "        'minority': {'total_fav_percent': 77.0,\n",
       "         'total_rows_percent': 50.0,\n",
       "         'values': [{'distribution': {'[18, 19]': [{'count': 12,\n",
       "              'is_favourable': True,\n",
       "              'label': 'No Risk'}],\n",
       "            '[19, 20]': [{'count': 3,\n",
       "              'is_favourable': True,\n",
       "              'label': 'No Risk'}],\n",
       "            '[20, 22]': [{'count': 7,\n",
       "              'is_favourable': True,\n",
       "              'label': 'No Risk'}],\n",
       "            '[22, 24]': [{'count': 11,\n",
       "              'is_favourable': True,\n",
       "              'label': 'No Risk'}],\n",
       "            '[24, 25]': [{'count': 3,\n",
       "              'is_favourable': True,\n",
       "              'label': 'No Risk'}]},\n",
       "           'distribution_ranges': {'[18, 19]': [18, 19],\n",
       "            '[19, 20]': [19, 20],\n",
       "            '[20, 22]': [20, 22],\n",
       "            '[22, 24]': [22, 24],\n",
       "            '[24, 25]': [24, 25]},\n",
       "           'fairness_value': 1.077,\n",
       "           'fav_class_percent': 77.0,\n",
       "           'is_biased': False,\n",
       "           'payload_perturb_distribution': {'[18, 19]': [{'count': 54,\n",
       "              'is_favourable': True,\n",
       "              'label': 'No Risk'},\n",
       "             {'count': 14, 'is_favourable': False, 'label': 'Risk'}],\n",
       "            '[19, 20]': [{'count': 10,\n",
       "              'is_favourable': True,\n",
       "              'label': 'No Risk'},\n",
       "             {'count': 2, 'is_favourable': False, 'label': 'Risk'}],\n",
       "            '[20, 22]': [{'count': 31,\n",
       "              'is_favourable': True,\n",
       "              'label': 'No Risk'},\n",
       "             {'count': 13, 'is_favourable': False, 'label': 'Risk'}],\n",
       "            '[22, 24]': [{'count': 50,\n",
       "              'is_favourable': True,\n",
       "              'label': 'No Risk'},\n",
       "             {'count': 12, 'is_favourable': False, 'label': 'Risk'}],\n",
       "            '[24, 25]': [{'count': 9,\n",
       "              'is_favourable': True,\n",
       "              'label': 'No Risk'},\n",
       "             {'count': 5, 'is_favourable': False, 'label': 'Risk'}]},\n",
       "           'value': [18, 25]}]},\n",
       "        'records_evaluated': {'additional_records': 0,\n",
       "         'newest_timestamp': '2020-05-04T17:48:11.628Z',\n",
       "         'number_of_records': 200,\n",
       "         'oldest_timestamp': '2020-05-04T17:48:11.628Z',\n",
       "         'perturbed_records': 200}}],\n",
       "      'perturbed_data_size': 400,\n",
       "      'response_time': '2.335574',\n",
       "      'rows_analyzed': 200,\n",
       "      'score_type': 'disparate impact'}},\n",
       "    {'issues': 0,\n",
       "     'metric_type': 'debiased_fairness',\n",
       "     'timestamp': '2020-05-08T20:49:00.718462Z',\n",
       "     'value': {'copy_reason': 'No new data added since last fairness computation.',\n",
       "      'corrected_records': 4,\n",
       "      'debiased': True,\n",
       "      'evaluated_at': '2020-05-04T17:49:51.283656Z',\n",
       "      'is_copied': True,\n",
       "      'manual_labelling_store': 'Manual_Labeling_d837def0-df65-47b9-aead-a4c0f829966b',\n",
       "      'metrics': [{'fairness_threshold': 0.95,\n",
       "        'feature': 'Sex',\n",
       "        'majority': {'total_fav_percent': 74.03846153846155,\n",
       "         'total_rows_percent': 50.0,\n",
       "         'values': [{'distribution': {'male': [{'count': 154,\n",
       "              'is_favourable': True,\n",
       "              'label': 'No Risk'},\n",
       "             {'count': 54, 'is_favourable': False, 'label': 'Risk'}]},\n",
       "           'fav_class_percent': 74.03846153846155,\n",
       "           'value': 'male'}]},\n",
       "        'minority': {'total_fav_percent': 74.51923076923077,\n",
       "         'total_rows_percent': 50.0,\n",
       "         'values': [{'distribution': {'female': [{'count': 155,\n",
       "              'is_favourable': True,\n",
       "              'label': 'No Risk'},\n",
       "             {'count': 53, 'is_favourable': False, 'label': 'Risk'}]},\n",
       "           'fairness_value': 1.006,\n",
       "           'fav_class_percent': 74.51923076923077,\n",
       "           'is_biased': False,\n",
       "           'value': 'female'}]},\n",
       "        'records_evaluated': {'additional_records': 0,\n",
       "         'newest_timestamp': '2020-05-04T17:48:11.628Z',\n",
       "         'number_of_records': 208,\n",
       "         'oldest_timestamp': '2020-05-04T17:45:09.186Z',\n",
       "         'perturbed_records': 208}},\n",
       "       {'bias_source': {'values': []},\n",
       "        'fairness_threshold': 0.95,\n",
       "        'feature': 'Age',\n",
       "        'majority': {'total_fav_percent': 74.03846153846155,\n",
       "         'total_rows_percent': 50.0,\n",
       "         'values': [{'distribution': {'[26, 28]': [{'count': 16,\n",
       "              'is_favourable': True,\n",
       "              'label': 'No Risk'}],\n",
       "            '[28, 30]': [{'count': 13,\n",
       "              'is_favourable': True,\n",
       "              'label': 'No Risk'},\n",
       "             {'count': 1, 'is_favourable': False, 'label': 'Risk'}],\n",
       "            '[30, 32]': [{'count': 12,\n",
       "              'is_favourable': True,\n",
       "              'label': 'No Risk'}],\n",
       "            '[32, 34]': [{'count': 15,\n",
       "              'is_favourable': True,\n",
       "              'label': 'No Risk'}],\n",
       "            '[34, 36]': [{'count': 19,\n",
       "              'is_favourable': True,\n",
       "              'label': 'No Risk'}],\n",
       "            '[36, 38]': [{'count': 13,\n",
       "              'is_favourable': True,\n",
       "              'label': 'No Risk'},\n",
       "             {'count': 2, 'is_favourable': False, 'label': 'Risk'}],\n",
       "            '[38, 40]': [{'count': 6,\n",
       "              'is_favourable': True,\n",
       "              'label': 'No Risk'},\n",
       "             {'count': 2, 'is_favourable': False, 'label': 'Risk'}],\n",
       "            '[40, 42]': [{'count': 6,\n",
       "              'is_favourable': True,\n",
       "              'label': 'No Risk'},\n",
       "             {'count': 5, 'is_favourable': False, 'label': 'Risk'}],\n",
       "            '[42, 44]': [{'count': 8,\n",
       "              'is_favourable': True,\n",
       "              'label': 'No Risk'},\n",
       "             {'count': 9, 'is_favourable': False, 'label': 'Risk'}],\n",
       "            '[44, 46]': [{'count': 5,\n",
       "              'is_favourable': True,\n",
       "              'label': 'No Risk'},\n",
       "             {'count': 6, 'is_favourable': False, 'label': 'Risk'}],\n",
       "            '[46, 48]': [{'count': 7,\n",
       "              'is_favourable': True,\n",
       "              'label': 'No Risk'},\n",
       "             {'count': 6, 'is_favourable': False, 'label': 'Risk'}],\n",
       "            '[48, 50]': [{'count': 7,\n",
       "              'is_favourable': True,\n",
       "              'label': 'No Risk'},\n",
       "             {'count': 5, 'is_favourable': False, 'label': 'Risk'}],\n",
       "            '[50, 52]': [{'count': 5,\n",
       "              'is_favourable': False,\n",
       "              'label': 'Risk'}],\n",
       "            '[52, 54]': [{'count': 1,\n",
       "              'is_favourable': True,\n",
       "              'label': 'No Risk'},\n",
       "             {'count': 6, 'is_favourable': False, 'label': 'Risk'}],\n",
       "            '[56, 58]': [{'count': 3,\n",
       "              'is_favourable': False,\n",
       "              'label': 'Risk'}],\n",
       "            '[58, 60]': [{'count': 3,\n",
       "              'is_favourable': False,\n",
       "              'label': 'Risk'}],\n",
       "            '[64, 66]': [{'count': 1,\n",
       "              'is_favourable': False,\n",
       "              'label': 'Risk'}],\n",
       "            '[70, 72]': [{'count': 19,\n",
       "              'is_favourable': True,\n",
       "              'label': 'No Risk'}],\n",
       "            '[72, 74]': [{'count': 3,\n",
       "              'is_favourable': True,\n",
       "              'label': 'No Risk'}],\n",
       "            '[74, 75]': [{'count': 4,\n",
       "              'is_favourable': True,\n",
       "              'label': 'No Risk'}]},\n",
       "           'distribution_ranges': {'[26, 28]': [26, 28],\n",
       "            '[28, 30]': [28, 30],\n",
       "            '[30, 32]': [30, 32],\n",
       "            '[32, 34]': [32, 34],\n",
       "            '[34, 36]': [34, 36],\n",
       "            '[36, 38]': [36, 38],\n",
       "            '[38, 40]': [38, 40],\n",
       "            '[40, 42]': [40, 42],\n",
       "            '[42, 44]': [42, 44],\n",
       "            '[44, 46]': [44, 46],\n",
       "            '[46, 48]': [46, 48],\n",
       "            '[48, 50]': [48, 50],\n",
       "            '[50, 52]': [50, 52],\n",
       "            '[52, 54]': [52, 54],\n",
       "            '[56, 58]': [56, 58],\n",
       "            '[58, 60]': [58, 60],\n",
       "            '[64, 66]': [64, 66],\n",
       "            '[70, 72]': [70, 72],\n",
       "            '[72, 74]': [72, 74],\n",
       "            '[74, 75]': [74, 75]},\n",
       "           'fav_class_percent': 74.03846153846155,\n",
       "           'value': [26, 75]}]},\n",
       "        'minority': {'total_fav_percent': 74.03846153846155,\n",
       "         'total_rows_percent': 50.0,\n",
       "         'values': [{'distribution': {'[18, 19]': [{'count': 51,\n",
       "              'is_favourable': True,\n",
       "              'label': 'No Risk'},\n",
       "             {'count': 14, 'is_favourable': False, 'label': 'Risk'}],\n",
       "            '[19, 20]': [{'count': 10,\n",
       "              'is_favourable': True,\n",
       "              'label': 'No Risk'},\n",
       "             {'count': 3, 'is_favourable': False, 'label': 'Risk'}],\n",
       "            '[20, 22]': [{'count': 22,\n",
       "              'is_favourable': True,\n",
       "              'label': 'No Risk'},\n",
       "             {'count': 20, 'is_favourable': False, 'label': 'Risk'}],\n",
       "            '[22, 24]': [{'count': 55,\n",
       "              'is_favourable': True,\n",
       "              'label': 'No Risk'},\n",
       "             {'count': 14, 'is_favourable': False, 'label': 'Risk'}],\n",
       "            '[24, 25]': [{'count': 16,\n",
       "              'is_favourable': True,\n",
       "              'label': 'No Risk'},\n",
       "             {'count': 3, 'is_favourable': False, 'label': 'Risk'}]},\n",
       "           'distribution_ranges': {'[18, 19]': [18, 19],\n",
       "            '[19, 20]': [19, 20],\n",
       "            '[20, 22]': [20, 22],\n",
       "            '[22, 24]': [22, 24],\n",
       "            '[24, 25]': [24, 25]},\n",
       "           'fairness_value': 1.0,\n",
       "           'fav_class_percent': 74.03846153846155,\n",
       "           'is_biased': False,\n",
       "           'value': [18, 25]}]},\n",
       "        'records_evaluated': {'additional_records': 0,\n",
       "         'newest_timestamp': '2020-05-04T17:48:11.628Z',\n",
       "         'number_of_records': 208,\n",
       "         'oldest_timestamp': '2020-05-04T17:45:09.186Z',\n",
       "         'perturbed_records': 208}}],\n",
       "      'perturbed_data_size': 416,\n",
       "      'response_time': '2.765866',\n",
       "      'rows_analyzed': 208,\n",
       "      'score_type': 'disparate impact'}},\n",
       "    {'issues': 1,\n",
       "     'metric_type': 'quality',\n",
       "     'timestamp': '2020-05-08T20:45:35.829Z',\n",
       "     'value': {'metrics': [{'name': 'true_positive_rate',\n",
       "        'value': 0.42424242424242425},\n",
       "       {'name': 'area_under_roc', 'value': 0.6736596736596737},\n",
       "       {'name': 'precision', 'value': 0.7368421052631579},\n",
       "       {'name': 'f1_measure', 'value': 0.5384615384615385},\n",
       "       {'name': 'accuracy', 'value': 0.7551020408163265},\n",
       "       {'name': 'log_loss', 'value': 0.4423241620301556},\n",
       "       {'name': 'false_positive_rate', 'value': 0.07692307692307693},\n",
       "       {'name': 'area_under_pr', 'value': 0.6216596686521498},\n",
       "       {'name': 'recall', 'value': 0.42424242424242425}],\n",
       "      'quality': 0.6736596736596737,\n",
       "      'threshold': 0.7}}],\n",
       "   'subscription': {'subscription_id': 'd837def0-df65-47b9-aead-a4c0f829966b',\n",
       "    'url': '/v1/data_marts/00000000-0000-0000-0000-000000000000/service_bindings/999/subscriptions/d837def0-df65-47b9-aead-a4c0f829966b'}},\n",
       "  {'asset': {'asset_id': '62510199-edb8-4789-b28c-d9f92eb6ddfa',\n",
       "    'asset_type': 'model',\n",
       "    'created_at': '2020-05-06T15:49:51.002Z',\n",
       "    'name': 'scottda model 5-6-2020',\n",
       "    'url': 'https://ibm-nginx-svc.zen.svc.cluster.local/v4/models/62510199-edb8-4789-b28c-d9f92eb6ddfa?space_id=2a068a1d-195d-4b9c-9515-8721d4566255'},\n",
       "   'deployment': {'created_at': '2020-05-06T15:50:00.289Z',\n",
       "    'deployment_id': '0b99d984-0e79-4c4e-9e3f-376875dc194f',\n",
       "    'deployment_rn': '',\n",
       "    'deployment_type': 'online',\n",
       "    'name': 'scottda Deployment 5-6-2020',\n",
       "    'scoring_endpoint': {'request_headers': {'Content-Type': 'application/json'},\n",
       "     'url': 'https://ibm-nginx-svc.zen.svc.cluster.local/v4/deployments/0b99d984-0e79-4c4e-9e3f-376875dc194f/predictions'},\n",
       "    'url': 'https://ibm-nginx-svc.zen.svc.cluster.local/v4/deployments/0b99d984-0e79-4c4e-9e3f-376875dc194f'},\n",
       "   'metrics': [{'issues': 0,\n",
       "     'metric_type': 'performance',\n",
       "     'timestamp': '2020-05-06T14:59:06Z',\n",
       "     'value': {'records': 293, 'response_time': 161.1517070296068}},\n",
       "    {'issues': 0,\n",
       "     'metric_type': 'quality',\n",
       "     'timestamp': '2020-05-06T14:58:43Z',\n",
       "     'value': {'metrics': [{'name': 'auroc', 'threshold': 0.7, 'value': 0.76}],\n",
       "      'quality': 0.76,\n",
       "      'threshold': 0.7}},\n",
       "    {'issues': 1,\n",
       "     'metric_type': 'debiased_fairness',\n",
       "     'timestamp': '2020-05-06T14:58:21Z',\n",
       "     'value': {'debiased': True,\n",
       "      'manual_labelling_store': 'Manual_Labeling_dd79dd1b-0afc-436e-9999-6fd6414f81c2',\n",
       "      'metrics': [{'feature': 'Sex',\n",
       "        'majority': {'total_fav_percent': 95.0,\n",
       "         'total_rows_percent': 50.0,\n",
       "         'values': [{'distribution': {'male': [{'count': 5,\n",
       "              'is_favourable': False,\n",
       "              'label': 'Risk'},\n",
       "             {'count': 56, 'is_favourable': False, 'label': 'No Risk'}]},\n",
       "           'fav_class_percent': 95.0,\n",
       "           'value': 'male'}]},\n",
       "        'minority': {'total_fav_percent': 95.0,\n",
       "         'total_rows_percent': 50.0,\n",
       "         'values': [{'distribution': {'female': [{'count': 39,\n",
       "              'is_favourable': False,\n",
       "              'label': 'No Risk'}]},\n",
       "           'fairness_value': 1.0,\n",
       "           'fav_class_percent': 95.0,\n",
       "           'is_biased': False,\n",
       "           'value': 'female'}]}},\n",
       "       {'bias_source': {'values': [{'fav_percent': 88.23529411764706,\n",
       "           'range': '[18,19]'}]},\n",
       "        'feature': 'Age',\n",
       "        'majority': {'total_fav_percent': 96.17834394904459,\n",
       "         'total_rows_percent': 78.5,\n",
       "         'values': [{'distribution': {'26': [{'count': 2,\n",
       "              'is_favourable': False,\n",
       "              'label': 'No Risk'}],\n",
       "            '28': [{'count': 5, 'is_favourable': False, 'label': 'No Risk'}],\n",
       "            '29': [{'count': 2, 'is_favourable': False, 'label': 'No Risk'}],\n",
       "            '30': [{'count': 1, 'is_favourable': False, 'label': 'No Risk'}],\n",
       "            '31': [{'count': 1, 'is_favourable': False, 'label': 'No Risk'}],\n",
       "            '32': [{'count': 4, 'is_favourable': False, 'label': 'No Risk'}],\n",
       "            '34': [{'count': 4, 'is_favourable': False, 'label': 'No Risk'}],\n",
       "            '35': [{'count': 1, 'is_favourable': False, 'label': 'No Risk'}],\n",
       "            '36': [{'count': 1, 'is_favourable': False, 'label': 'No Risk'}],\n",
       "            '37': [{'count': 1, 'is_favourable': False, 'label': 'No Risk'}],\n",
       "            '39': [{'count': 2, 'is_favourable': False, 'label': 'No Risk'}],\n",
       "            '40': [{'count': 2, 'is_favourable': False, 'label': 'No Risk'}],\n",
       "            '41': [{'count': 2, 'is_favourable': False, 'label': 'No Risk'}],\n",
       "            '42': [{'count': 1, 'is_favourable': False, 'label': 'Risk'}],\n",
       "            '43': [{'count': 1, 'is_favourable': False, 'label': 'No Risk'}],\n",
       "            '44': [{'count': 3, 'is_favourable': False, 'label': 'No Risk'}],\n",
       "            '45': [{'count': 2, 'is_favourable': False, 'label': 'No Risk'}],\n",
       "            '48': [{'count': 2, 'is_favourable': False, 'label': 'No Risk'}],\n",
       "            '49': [{'count': 1, 'is_favourable': False, 'label': 'Risk'}],\n",
       "            '52': [{'count': 1, 'is_favourable': False, 'label': 'No Risk'}],\n",
       "            '59': [{'count': 1, 'is_favourable': False, 'label': 'Risk'}],\n",
       "            '60': [{'count': 1, 'is_favourable': False, 'label': 'No Risk'}],\n",
       "            '66': [{'count': 1, 'is_favourable': False, 'label': 'No Risk'}],\n",
       "            '67': [{'count': 1, 'is_favourable': False, 'label': 'Risk'}]},\n",
       "           'fav_class_percent': 96.17834394904459,\n",
       "           'value': [26, 75]}]},\n",
       "        'minority': {'total_fav_percent': 93.7062937062937,\n",
       "         'total_rows_percent': 71.5,\n",
       "         'values': [{'distribution': {'19': [{'count': 17,\n",
       "              'is_favourable': False,\n",
       "              'label': 'No Risk'}],\n",
       "            '20': [{'count': 18, 'is_favourable': False, 'label': 'No Risk'},\n",
       "             {'count': 1, 'is_favourable': False, 'label': 'Risk'}],\n",
       "            '21': [{'count': 13, 'is_favourable': False, 'label': 'No Risk'}],\n",
       "            '22': [{'count': 4, 'is_favourable': False, 'label': 'No Risk'}],\n",
       "            '23': [{'count': 1, 'is_favourable': False, 'label': 'No Risk'}],\n",
       "            '24': [{'count': 1, 'is_favourable': False, 'label': 'No Risk'}],\n",
       "            '25': [{'count': 2, 'is_favourable': False, 'label': 'No Risk'}]},\n",
       "           'fairness_value': 0.974,\n",
       "           'fav_class_percent': 93.7062937062937,\n",
       "           'is_biased': True,\n",
       "           'value': [18, 25]}]}}],\n",
       "      'perturbed_data_size': 100,\n",
       "      'response_time': '237.744371',\n",
       "      'rows_analyzed': 100,\n",
       "      'score_type': 'desperate impact'}},\n",
       "    {'issues': 1,\n",
       "     'metric_type': 'fairness',\n",
       "     'timestamp': '2020-05-06T14:57:59Z',\n",
       "     'value': {'manual_labelling_store': 'Manual_Labeling_1dfb5ad1-0b94-47da-a0af-3216c79cecb3',\n",
       "      'metrics': [{'feature': 'Sex',\n",
       "        'majority': {'total_fav_percent': 75.5,\n",
       "         'total_rows_percent': 33.33333333333333,\n",
       "         'values': [{'distribution': {'male': [{'count': 84,\n",
       "              'is_favourable': True,\n",
       "              'label': 'No Risk'},\n",
       "             {'count': 45, 'is_favourable': False, 'label': 'Risk'}]},\n",
       "           'fav_class_percent': 75.5,\n",
       "           'value': 'male'}]},\n",
       "        'minority': {'total_fav_percent': 71.5,\n",
       "         'total_rows_percent': 33.33333333333333,\n",
       "         'values': [{'distribution': {'female': [{'count': 65,\n",
       "              'is_favourable': True,\n",
       "              'label': 'No Risk'},\n",
       "             {'count': 6, 'is_favourable': False, 'label': 'Risk'}]},\n",
       "           'fairness_value': 0.947,\n",
       "           'fav_class_percent': 71.5,\n",
       "           'is_biased': True,\n",
       "           'value': 'female'}]}},\n",
       "       {'bias_source': {'values': []},\n",
       "        'feature': 'Age',\n",
       "        'majority': {'total_fav_percent': 77.82608695652173,\n",
       "         'total_rows_percent': 38.333333333333336,\n",
       "         'values': [{'distribution': {'26': [{'count': 7,\n",
       "              'is_favourable': True,\n",
       "              'label': 'No Risk'}],\n",
       "            '27': [{'count': 5, 'is_favourable': True, 'label': 'No Risk'}],\n",
       "            '28': [{'count': 10, 'is_favourable': True, 'label': 'No Risk'}],\n",
       "            '29': [{'count': 8, 'is_favourable': True, 'label': 'No Risk'},\n",
       "             {'count': 1, 'is_favourable': False, 'label': 'Risk'}],\n",
       "            '30': [{'count': 5, 'is_favourable': True, 'label': 'No Risk'},\n",
       "             {'count': 1, 'is_favourable': False, 'label': 'Risk'}],\n",
       "            '31': [{'count': 6, 'is_favourable': True, 'label': 'No Risk'},\n",
       "             {'count': 1, 'is_favourable': False, 'label': 'Risk'}],\n",
       "            '32': [{'count': 7, 'is_favourable': True, 'label': 'No Risk'}],\n",
       "            '33': [{'count': 6, 'is_favourable': True, 'label': 'No Risk'}],\n",
       "            '34': [{'count': 8, 'is_favourable': True, 'label': 'No Risk'},\n",
       "             {'count': 1, 'is_favourable': False, 'label': 'Risk'}],\n",
       "            '35': [{'count': 6, 'is_favourable': True, 'label': 'No Risk'}],\n",
       "            '36': [{'count': 1, 'is_favourable': False, 'label': 'Risk'},\n",
       "             {'count': 5, 'is_favourable': True, 'label': 'No Risk'}],\n",
       "            '37': [{'count': 6, 'is_favourable': True, 'label': 'No Risk'},\n",
       "             {'count': 1, 'is_favourable': False, 'label': 'Risk'}],\n",
       "            '38': [{'count': 7, 'is_favourable': True, 'label': 'No Risk'},\n",
       "             {'count': 1, 'is_favourable': False, 'label': 'Risk'}],\n",
       "            '39': [{'count': 7, 'is_favourable': True, 'label': 'No Risk'}],\n",
       "            '40': [{'count': 2, 'is_favourable': True, 'label': 'No Risk'},\n",
       "             {'count': 1, 'is_favourable': False, 'label': 'Risk'}],\n",
       "            '41': [{'count': 2, 'is_favourable': True, 'label': 'No Risk'}],\n",
       "            '42': [{'count': 2, 'is_favourable': False, 'label': 'Risk'},\n",
       "             {'count': 2, 'is_favourable': True, 'label': 'No Risk'}],\n",
       "            '43': [{'count': 6, 'is_favourable': True, 'label': 'No Risk'},\n",
       "             {'count': 4, 'is_favourable': False, 'label': 'Risk'}],\n",
       "            '44': [{'count': 4, 'is_favourable': False, 'label': 'Risk'},\n",
       "             {'count': 3, 'is_favourable': True, 'label': 'No Risk'}],\n",
       "            '45': [{'count': 4, 'is_favourable': False, 'label': 'Risk'}],\n",
       "            '46': [{'count': 1, 'is_favourable': False, 'label': 'Risk'},\n",
       "             {'count': 3, 'is_favourable': True, 'label': 'No Risk'}],\n",
       "            '47': [{'count': 4, 'is_favourable': False, 'label': 'Risk'}],\n",
       "            '48': [{'count': 2, 'is_favourable': True, 'label': 'No Risk'}],\n",
       "            '49': [{'count': 3, 'is_favourable': False, 'label': 'Risk'}],\n",
       "            '50': [{'count': 2, 'is_favourable': False, 'label': 'Risk'},\n",
       "             {'count': 1, 'is_favourable': True, 'label': 'No Risk'}],\n",
       "            '51': [{'count': 4, 'is_favourable': False, 'label': 'Risk'}],\n",
       "            '52': [{'count': 2, 'is_favourable': False, 'label': 'Risk'},\n",
       "             {'count': 2, 'is_favourable': True, 'label': 'No Risk'}],\n",
       "            '53': [{'count': 3, 'is_favourable': False, 'label': 'Risk'},\n",
       "             {'count': 1, 'is_favourable': True, 'label': 'No Risk'}],\n",
       "            '54': [{'count': 4, 'is_favourable': False, 'label': 'Risk'}],\n",
       "            '55': [{'count': 1, 'is_favourable': True, 'label': 'No Risk'}],\n",
       "            '56': [{'count': 2, 'is_favourable': False, 'label': 'Risk'}],\n",
       "            '57': [{'count': 1, 'is_favourable': False, 'label': 'Risk'}],\n",
       "            '58': [{'count': 1, 'is_favourable': False, 'label': 'Risk'}],\n",
       "            '59': [{'count': 1, 'is_favourable': False, 'label': 'Risk'},\n",
       "             {'count': 1, 'is_favourable': True, 'label': 'No Risk'}],\n",
       "            '60': [{'count': 1, 'is_favourable': False, 'label': 'Risk'}]},\n",
       "           'fav_class_percent': 77.82608695652173,\n",
       "           'value': [26, 75]}]},\n",
       "        'minority': {'total_fav_percent': 80.0,\n",
       "         'total_rows_percent': 61.66666666666667,\n",
       "         'values': [{'distribution': {'19': [{'count': 15,\n",
       "              'is_favourable': True,\n",
       "              'label': 'No Risk'}],\n",
       "            '21': [{'count': 5, 'is_favourable': True, 'label': 'No Risk'}],\n",
       "            '22': [{'count': 2, 'is_favourable': True, 'label': 'No Risk'}],\n",
       "            '23': [{'count': 1, 'is_favourable': True, 'label': 'No Risk'}],\n",
       "            '24': [{'count': 1, 'is_favourable': True, 'label': 'No Risk'}],\n",
       "            '25': [{'count': 6, 'is_favourable': True, 'label': 'No Risk'}]},\n",
       "           'fairness_value': 1.028,\n",
       "           'fav_class_percent': 80.0,\n",
       "           'is_biased': False,\n",
       "           'value': [18, 25]}]}}],\n",
       "      'perturbed_data_size': 400,\n",
       "      'response_time': '16.429616',\n",
       "      'rows_analyzed': 200,\n",
       "      'score_type': 'desperate impact'}},\n",
       "    {'issues': 0,\n",
       "     'metric_type': 'quality',\n",
       "     'timestamp': '2020-05-08T20:50:38.951Z',\n",
       "     'value': {'metrics': [{'name': 'true_positive_rate',\n",
       "        'value': 0.48484848484848486},\n",
       "       {'name': 'area_under_roc', 'value': 0.703962703962704},\n",
       "       {'name': 'precision', 'value': 0.7619047619047619},\n",
       "       {'name': 'f1_measure', 'value': 0.5925925925925926},\n",
       "       {'name': 'accuracy', 'value': 0.7755102040816326},\n",
       "       {'name': 'log_loss', 'value': 0.4349939874267016},\n",
       "       {'name': 'false_positive_rate', 'value': 0.07692307692307693},\n",
       "       {'name': 'area_under_pr', 'value': 0.6523912595341167},\n",
       "       {'name': 'recall', 'value': 0.48484848484848486}],\n",
       "      'quality': 0.703962703962704,\n",
       "      'threshold': 0.7}}],\n",
       "   'subscription': {'subscription_id': 'b26435ea-dc27-4a71-ae79-3f79846f6725',\n",
       "    'url': '/v1/data_marts/00000000-0000-0000-0000-000000000000/service_bindings/999/subscriptions/b26435ea-dc27-4a71-ae79-3f79846f6725'}},\n",
       "  {'asset': {'asset_id': '5bb357f7-0ac6-43f4-b8c1-798f7eaac787',\n",
       "    'asset_type': 'model',\n",
       "    'created_at': '2020-05-06T19:00:20.002Z',\n",
       "    'name': 'samaya Risk Model',\n",
       "    'url': 'https://ibm-nginx-svc.zen.svc.cluster.local/v4/models/5bb357f7-0ac6-43f4-b8c1-798f7eaac787?space_id=7ae746fa-5d79-4386-abf9-200163f09a39'},\n",
       "   'deployment': {'created_at': '2020-05-06T19:01:10.823Z',\n",
       "    'deployment_id': '88a2bc44-b195-488f-b17e-8966a89fb6e0',\n",
       "    'deployment_rn': '',\n",
       "    'deployment_type': 'online',\n",
       "    'name': 'samaya Deployment',\n",
       "    'scoring_endpoint': {'request_headers': {'Content-Type': 'application/json'},\n",
       "     'url': 'https://ibm-nginx-svc.zen.svc.cluster.local/v4/deployments/88a2bc44-b195-488f-b17e-8966a89fb6e0/predictions'},\n",
       "    'url': 'https://ibm-nginx-svc.zen.svc.cluster.local/v4/deployments/88a2bc44-b195-488f-b17e-8966a89fb6e0'},\n",
       "   'metrics': [{'issues': 0,\n",
       "     'metric_type': 'performance',\n",
       "     'timestamp': '2020-05-06T19:13:15Z',\n",
       "     'value': {'records': 303, 'response_time': 278.2278194456013}},\n",
       "    {'issues': 0,\n",
       "     'metric_type': 'quality',\n",
       "     'timestamp': '2020-05-06T19:12:51Z',\n",
       "     'value': {'metrics': [{'name': 'auroc', 'threshold': 0.7, 'value': 0.76}],\n",
       "      'quality': 0.76,\n",
       "      'threshold': 0.7}}],\n",
       "   'subscription': {'subscription_id': 'fe732c07-f552-4156-9ca3-519ac7e51b98',\n",
       "    'url': '/v1/data_marts/00000000-0000-0000-0000-000000000000/service_bindings/999/subscriptions/fe732c07-f552-4156-9ca3-519ac7e51b98'}},\n",
       "  {'asset': {'asset_id': 'c266d3bd-fea0-49af-87f0-77b4c07a5d30',\n",
       "    'asset_type': 'model',\n",
       "    'created_at': '2020-05-08T20:59:50.002Z',\n",
       "    'name': 'samaya Risk Model May 8',\n",
       "    'url': 'https://ibm-nginx-svc.zen.svc.cluster.local/v4/models/c266d3bd-fea0-49af-87f0-77b4c07a5d30?space_id=7ae746fa-5d79-4386-abf9-200163f09a39'},\n",
       "   'deployment': {'created_at': '2020-05-08T21:00:52.019Z',\n",
       "    'deployment_id': '6c6c2989-c171-4ac7-8160-37a4f372ffa9',\n",
       "    'deployment_rn': '',\n",
       "    'deployment_type': 'online',\n",
       "    'name': 'samaya Deployment May 8',\n",
       "    'scoring_endpoint': {'request_headers': {'Content-Type': 'application/json'},\n",
       "     'url': 'https://ibm-nginx-svc.zen.svc.cluster.local/v4/deployments/6c6c2989-c171-4ac7-8160-37a4f372ffa9/predictions'},\n",
       "    'url': 'https://ibm-nginx-svc.zen.svc.cluster.local/v4/deployments/6c6c2989-c171-4ac7-8160-37a4f372ffa9'},\n",
       "   'metrics': [{'issues': 1,\n",
       "     'metric_type': 'quality',\n",
       "     'timestamp': '2020-05-08T21:04:36.221Z',\n",
       "     'value': {'metrics': [{'name': 'true_positive_rate',\n",
       "        'value': 0.3939393939393939},\n",
       "       {'name': 'area_under_roc', 'value': 0.6585081585081586},\n",
       "       {'name': 'precision', 'value': 0.7222222222222222},\n",
       "       {'name': 'f1_measure', 'value': 0.5098039215686274},\n",
       "       {'name': 'accuracy', 'value': 0.7448979591836735},\n",
       "       {'name': 'log_loss', 'value': 0.43468042903945825},\n",
       "       {'name': 'false_positive_rate', 'value': 0.07692307692307693},\n",
       "       {'name': 'area_under_pr', 'value': 0.605407819693534},\n",
       "       {'name': 'recall', 'value': 0.3939393939393939}],\n",
       "      'quality': 0.6585081585081586,\n",
       "      'threshold': 0.7}}],\n",
       "   'subscription': {'subscription_id': 'bfcf3a77-1835-47bc-a153-fe5ee16c368e',\n",
       "    'url': '/v1/data_marts/00000000-0000-0000-0000-000000000000/service_bindings/999/subscriptions/bfcf3a77-1835-47bc-a153-fe5ee16c368e'}}]}"
      ]
     },
     "execution_count": 53,
     "metadata": {},
     "output_type": "execute_result"
    }
   ],
   "source": [
    "ai_client.data_mart.get_deployment_metrics()"
   ]
  },
  {
   "cell_type": "markdown",
   "metadata": {},
   "source": [
    "# 5.0 Fairness monitoring and explanations <a name=\"fairness\"></a>"
   ]
  },
  {
   "cell_type": "markdown",
   "metadata": {},
   "source": [
    "The code below configures fairness monitoring for our model. It turns on monitoring for two features, Sex and Age. In each case, we must specify:\n",
    "  * Which model feature to monitor\n",
    "  * One or more **majority** groups, which are values of that feature that we expect to receive a higher percentage of favorable outcomes\n",
    "  * One or more **minority** groups, which are values of that feature that we expect to receive a higher percentage of unfavorable outcomes\n",
    "  * The threshold at which we would like OpenScale to display an alert if the fairness measurement falls below (in this case, 95%)\n",
    "\n",
    "Additionally, we must specify which outcomes from the model are favourable outcomes, and which are unfavourable. We must also provide the number of records OpenScale will use to calculate the fairness score. In this case, OpenScale's fairness monitor will run hourly, but will not calculate a new fairness rating until at least 200 records have been added. Finally, to calculate fairness, OpenScale must perform some calculations on the training data, so we provide the dataframe containing the data."
   ]
  },
  {
   "cell_type": "markdown",
   "metadata": {},
   "source": [
    "## 5.1 Enable fairness monitoring"
   ]
  },
  {
   "cell_type": "code",
   "execution_count": 54,
   "metadata": {
    "scrolled": true
   },
   "outputs": [],
   "source": [
    "subscription.fairness_monitoring.enable(\n",
    "            features=[\n",
    "                Feature(\"Sex\", majority=['male'], minority=['female'], threshold=0.95),\n",
    "                Feature(\"Age\", majority=[[26,75]], minority=[[18,25]], threshold=0.95)\n",
    "            ],\n",
    "            favourable_classes=['No Risk'],\n",
    "            unfavourable_classes=['Risk'],\n",
    "            min_records=200,\n",
    "            training_data=pd_data\n",
    "        )"
   ]
  },
  {
   "cell_type": "markdown",
   "metadata": {},
   "source": [
    "## 5.2 Score the model again now that monitoring is configured"
   ]
  },
  {
   "cell_type": "markdown",
   "metadata": {},
   "source": [
    "This next section randomly selects 200 records from the data feed and sends those records to the model for predictions. This is enough to exceed the minimum threshold for records set in the previous section, which allows OpenScale to begin calculating fairness."
   ]
  },
  {
   "cell_type": "code",
   "execution_count": 55,
   "metadata": {},
   "outputs": [
    {
     "name": "stdout",
     "output_type": "stream",
     "text": [
      "rm: cannot remove 'german_credit_feed.json': No such file or directory\n",
      "--2020-05-08 21:05:18--  https://raw.githubusercontent.com/IBM/monitor-ibm-cloud-pak-with-watson-openscale/master/data/german_credit_feed.json\n",
      "Resolving raw.githubusercontent.com (raw.githubusercontent.com)... 151.101.48.133\n",
      "Connecting to raw.githubusercontent.com (raw.githubusercontent.com)|151.101.48.133|:443... connected.\n",
      "HTTP request sent, awaiting response... 200 OK\n",
      "Length: 3076547 (2.9M) [text/plain]\n",
      "Saving to: 'german_credit_feed.json'\n",
      "\n",
      "100%[======================================>] 3,076,547   --.-K/s   in 0.06s   \n",
      "\n",
      "2020-05-08 21:05:18 (53.2 MB/s) - 'german_credit_feed.json' saved [3076547/3076547]\n",
      "\n"
     ]
    }
   ],
   "source": [
    "!rm german_credit_feed.json\n",
    "!wget https://raw.githubusercontent.com/IBM/monitor-ibm-cloud-pak-with-watson-openscale/master/data/german_credit_feed.json"
   ]
  },
  {
   "cell_type": "markdown",
   "metadata": {},
   "source": [
    "Score 200 randomly chosen records"
   ]
  },
  {
   "cell_type": "code",
   "execution_count": 57,
   "metadata": {},
   "outputs": [],
   "source": [
    "import random\n",
    "\n",
    "with open('german_credit_feed.json', 'r') as scoring_file:\n",
    "    scoring_data = json.load(scoring_file)\n",
    "\n",
    "fields = scoring_data['fields']\n",
    "values = []\n",
    "for _ in range(200):\n",
    "    values.append(random.choice(scoring_data['values']))\n",
    "payload_scoring = {\"fields\": fields, \"values\": values}\n",
    "payload = {\n",
    "    wml_client.deployments.ScoringMetaNames.INPUT_DATA: [payload_scoring]\n",
    "}\n",
    "scoring_response = wml_client.deployments.score(deployment_uid, payload)"
   ]
  },
  {
   "cell_type": "markdown",
   "metadata": {},
   "source": [
    "## 5.3 Run fairness monitor"
   ]
  },
  {
   "cell_type": "markdown",
   "metadata": {},
   "source": [
    "Kick off a fairness monitor run on current data. The monitor runs hourly, but can be manually initiated using the Python client, the REST API, or the graphical user interface. We have a 180 second sleep so that the scoring of 200 payloads above can complete. NOTE: if the cell below finishes with errors, skip it and complete the notebook, then return and try again."
   ]
  },
  {
   "cell_type": "code",
   "execution_count": 58,
   "metadata": {
    "scrolled": true
   },
   "outputs": [
    {
     "name": "stdout",
     "output_type": "stream",
     "text": [
      "\n",
      "\n",
      "=======================================================================\n",
      "\n",
      " Counting bias for deployment_uid=6c6c2989-c171-4ac7-8160-37a4f372ffa9 \n",
      "\n",
      "=======================================================================\n",
      "\n",
      "\n",
      "\n",
      "RUNNING...\n",
      "FINISHED\n",
      "\n",
      "---------------------------\n",
      " Successfully finished run \n",
      "---------------------------\n",
      "\n",
      "\n"
     ]
    }
   ],
   "source": [
    "time.sleep(180)\n",
    "\n",
    "run_details = subscription.fairness_monitoring.run(background_mode=False)"
   ]
  },
  {
   "cell_type": "code",
   "execution_count": 59,
   "metadata": {},
   "outputs": [
    {
     "data": {
      "text/html": [
       "<HTML>\n",
       "        <body>\n",
       "            <h3>FairnessMetrics (binding_id=999, subscription_id=bfcf3a77-1835-47bc-a153-fe5ee16c368e)</h3>\n",
       "            <table style='border: 1px solid #dddddd; font-family: Courier'>\n",
       "                <th style='border: 1px solid #dddddd'>ts</th><th style='border: 1px solid #dddddd'>feature</th><th style='border: 1px solid #dddddd'>feature_value</th><th style='border: 1px solid #dddddd'>fairness_biased</th><th style='border: 1px solid #dddddd'>fairness_value</th><th style='border: 1px solid #dddddd'>fairness_fav_class</th><th style='border: 1px solid #dddddd'>binding_id</th><th style='border: 1px solid #dddddd'>subscription_id</th><th style='border: 1px solid #dddddd'>asset_revision</th><th style='border: 1px solid #dddddd'>deployment_id</th><th style='border: 1px solid #dddddd'>process</th>\n",
       "                <tr><td style='border: 1px solid #dddddd'>2020-05-08 21:09:32.514755+00:00</td><td style='border: 1px solid #dddddd'>Sex</td><td style='border: 1px solid #dddddd'>female</td><td style='border: 1px solid #dddddd'>False</td><td style='border: 1px solid #dddddd'>0.953</td><td style='border: 1px solid #dddddd'>71.5</td><td style='border: 1px solid #dddddd'>999</td><td style='border: 1px solid #dddddd'>bfcf3a77-1835-47bc-a153-fe5ee16c368e</td><td style='border: 1px solid #dddddd'>bfcf3a77-1835-47bc-a153-fe5ee16c368e</td><td style='border: 1px solid #dddddd'>6c6c2989-c171-4ac7-8160-37a4f372ffa9</td><td style='border: 1px solid #dddddd'></td></tr><tr><td style='border: 1px solid #dddddd'>2020-05-08 21:09:32.514755+00:00</td><td style='border: 1px solid #dddddd'>Age</td><td style='border: 1px solid #dddddd'>[18, 25]</td><td style='border: 1px solid #dddddd'>False</td><td style='border: 1px solid #dddddd'>1.08</td><td style='border: 1px solid #dddddd'>81.0</td><td style='border: 1px solid #dddddd'>999</td><td style='border: 1px solid #dddddd'>bfcf3a77-1835-47bc-a153-fe5ee16c368e</td><td style='border: 1px solid #dddddd'>bfcf3a77-1835-47bc-a153-fe5ee16c368e</td><td style='border: 1px solid #dddddd'>6c6c2989-c171-4ac7-8160-37a4f372ffa9</td><td style='border: 1px solid #dddddd'></td></tr>\n",
       "            </table>\n",
       "        </body>\n",
       "        </HTML>"
      ],
      "text/plain": [
       "<IPython.core.display.HTML object>"
      ]
     },
     "metadata": {},
     "output_type": "display_data"
    }
   ],
   "source": [
    "time.sleep(5)\n",
    "\n",
    "subscription.fairness_monitoring.show_table()"
   ]
  },
  {
   "cell_type": "markdown",
   "metadata": {},
   "source": [
    "## 5.4 Configure Explainability"
   ]
  },
  {
   "cell_type": "markdown",
   "metadata": {},
   "source": [
    "Finally, we provide OpenScale with the training data to enable and configure the explainability features."
   ]
  },
  {
   "cell_type": "code",
   "execution_count": 60,
   "metadata": {
    "scrolled": true
   },
   "outputs": [],
   "source": [
    "from ibm_ai_openscale.supporting_classes import *\n",
    "subscription.explainability.enable(training_data=pd_data)"
   ]
  },
  {
   "cell_type": "code",
   "execution_count": 61,
   "metadata": {
    "scrolled": true
   },
   "outputs": [],
   "source": [
    "explainability_details = subscription.explainability.get_details()"
   ]
  },
  {
   "cell_type": "markdown",
   "metadata": {},
   "source": [
    "## 5.5 Run explanation for sample record"
   ]
  },
  {
   "cell_type": "code",
   "execution_count": 62,
   "metadata": {},
   "outputs": [
    {
     "name": "stdout",
     "output_type": "stream",
     "text": [
      "5dd2065d-f1a8-4bad-8d1e-ac4cf9f96dac-1\n"
     ]
    }
   ],
   "source": [
    "transaction_id = subscription.payload_logging.get_table_content(limit=1)['scoring_id'].values[0]\n",
    "\n",
    "print(transaction_id)"
   ]
  },
  {
   "cell_type": "code",
   "execution_count": 63,
   "metadata": {},
   "outputs": [
    {
     "name": "stdout",
     "output_type": "stream",
     "text": [
      "\n",
      "\n",
      "====================================================================\n",
      "\n",
      " Looking for explanation for 5dd2065d-f1a8-4bad-8d1e-ac4cf9f96dac-1 \n",
      "\n",
      "====================================================================\n",
      "\n",
      "\n",
      "\n",
      "in_progress...............\n",
      "finished\n",
      "\n",
      "---------------------------\n",
      " Successfully finished run \n",
      "---------------------------\n",
      "\n",
      "\n"
     ]
    }
   ],
   "source": [
    "explain_run = subscription.explainability.run(transaction_id=transaction_id, background_mode=False)"
   ]
  },
  {
   "cell_type": "code",
   "execution_count": 64,
   "metadata": {},
   "outputs": [
    {
     "data": {
      "image/png": "[encoded data removed]",
      "text/plain": [
       "<Figure size 432x288 with 1 Axes>"
      ]
     },
     "metadata": {
      "needs_background": "light"
     },
     "output_type": "display_data"
    }
   ],
   "source": [
    "if explain_run == None:\n",
    "    # explanation didn't finish within 180 seconds, if explaination is still not finished give it a minute or so then re-run this cell\n",
    "    time.sleep(10)\n",
    "    explain_table = subscription.explainability.get_table_content(format='pandas')\n",
    "    explain_result = pd.DataFrame.from_dict(explain_table[explain_table['transaction_id']==transaction_id]['explanation'][0]['entity']['predictions'][0]['explanation_features'])\n",
    "else:\n",
    "    explain_result = pd.DataFrame.from_dict(explain_run['entity']['predictions'][0]['explanation_features'])\n",
    "\n",
    "explain_result.plot.barh(x='feature_name', y='weight', color='g', alpha=0.8);"
   ]
  },
  {
   "cell_type": "markdown",
   "metadata": {},
   "source": [
    "# 6.0 Custom monitors and metrics <a name=\"custom\"></a>"
   ]
  },
  {
   "cell_type": "markdown",
   "metadata": {},
   "source": [
    "## 6.1 Register custom monitor"
   ]
  },
  {
   "cell_type": "code",
   "execution_count": 65,
   "metadata": {},
   "outputs": [],
   "source": [
    "def get_definition(monitor_name):\n",
    "    monitors_definitions = ai_client.data_mart.monitors.get_details()['monitor_definitions']\n",
    "    \n",
    "    for definition in monitors_definitions:\n",
    "        if monitor_name == definition['entity']['name']:\n",
    "            return definition\n",
    "    \n",
    "    return None"
   ]
  },
  {
   "cell_type": "markdown",
   "metadata": {},
   "source": [
    "Change `monitor_name` to something unique."
   ]
  },
  {
   "cell_type": "code",
   "execution_count": 66,
   "metadata": {},
   "outputs": [],
   "source": [
    "from ibm_ai_openscale.supporting_classes import Metric, Tag\n",
    "\n",
    "monitor_name = 'samaya monitor May 8'\n",
    "metrics = [Metric(name='sensitivity', lower_limit_default=0.8), Metric(name='specificity', lower_limit_default=0.75)]\n",
    "tags = [Tag(name='region', description='customer geographical region')]\n",
    "\n",
    "existing_definition = get_definition(monitor_name)\n",
    "\n",
    "if existing_definition is None:\n",
    "    my_monitor = ai_client.data_mart.monitors.add(name=monitor_name, metrics=metrics, tags=tags)\n",
    "else:\n",
    "    my_monitor = existing_definition"
   ]
  },
  {
   "cell_type": "markdown",
   "metadata": {},
   "source": [
    "### 6.1.1 Get monitors uids and details"
   ]
  },
  {
   "cell_type": "code",
   "execution_count": 67,
   "metadata": {},
   "outputs": [
    {
     "name": "stdout",
     "output_type": "stream",
     "text": [
      "samaya_monitor_may_8\n"
     ]
    }
   ],
   "source": [
    "monitor_uid = my_monitor['metadata']['guid']\n",
    "\n",
    "print(monitor_uid)"
   ]
  },
  {
   "cell_type": "code",
   "execution_count": 68,
   "metadata": {},
   "outputs": [
    {
     "name": "stdout",
     "output_type": "stream",
     "text": [
      "monitor definition details {'entity': {'metrics': [{'expected_direction': 'increasing', 'id': 'sensitivity', 'name': 'sensitivity', 'required': True, 'thresholds': [{'default': 0.8, 'type': 'lower_limit'}]}, {'expected_direction': 'increasing', 'id': 'specificity', 'name': 'specificity', 'required': True, 'thresholds': [{'default': 0.75, 'type': 'lower_limit'}]}], 'name': 'samaya monitor May 8', 'tags': [{'description': 'customer geographical region', 'id': 'region', 'name': 'region', 'required': True}]}, 'metadata': {'guid': 'samaya_monitor_may_8', 'url': '/v1/data_marts/00000000-0000-0000-0000-000000000000/monitor_definitions/samaya_monitor_may_8', 'created_at': '2020-05-08T21:11:56.063Z'}}\n"
     ]
    }
   ],
   "source": [
    "my_monitor = ai_client.data_mart.monitors.get_details(monitor_uid=monitor_uid)\n",
    "print('monitor definition details', my_monitor)"
   ]
  },
  {
   "cell_type": "markdown",
   "metadata": {},
   "source": [
    "## 6.2 Enable custom monitor for subscription"
   ]
  },
  {
   "cell_type": "code",
   "execution_count": 69,
   "metadata": {},
   "outputs": [],
   "source": [
    "from ibm_ai_openscale.supporting_classes import Threshold\n",
    "\n",
    "thresholds = [Threshold(metric_uid='sensitivity', lower_limit=0.9)]\n",
    "subscription.monitoring.enable(monitor_uid=monitor_uid, thresholds=thresholds)"
   ]
  },
  {
   "cell_type": "markdown",
   "metadata": {},
   "source": [
    "### 6.2.1 Get monitor configuration details"
   ]
  },
  {
   "cell_type": "code",
   "execution_count": 70,
   "metadata": {},
   "outputs": [
    {
     "data": {
      "text/plain": [
       "{'enabled': True,\n",
       " 'monitor_definition': {'entity': {'metrics': [{'expected_direction': 'increasing',\n",
       "     'id': 'sensitivity',\n",
       "     'name': 'sensitivity',\n",
       "     'required': True,\n",
       "     'thresholds': [{'default': 0.9, 'type': 'lower_limit'}]},\n",
       "    {'expected_direction': 'increasing',\n",
       "     'id': 'specificity',\n",
       "     'name': 'specificity',\n",
       "     'required': True}],\n",
       "   'name': 'samaya monitor May 8',\n",
       "   'tags': [{'description': 'customer geographical region',\n",
       "     'id': 'region',\n",
       "     'name': 'region',\n",
       "     'required': True}]},\n",
       "  'metadata': {'guid': 'samaya_monitor_may_8',\n",
       "   'url': '/v1/data_marts/00000000-0000-0000-0000-000000000000/monitor_definitions/samaya_monitor_may_8',\n",
       "   'created_at': '2020-05-08T21:11:56.063Z'}},\n",
       " 'thresholds': [{'metric_id': 'sensitivity',\n",
       "   'type': 'lower_limit',\n",
       "   'value': 0.9}]}"
      ]
     },
     "execution_count": 70,
     "metadata": {},
     "output_type": "execute_result"
    }
   ],
   "source": [
    "subscription.monitoring.get_details(monitor_uid=monitor_uid)"
   ]
  },
  {
   "cell_type": "markdown",
   "metadata": {},
   "source": [
    "## 6.3 Storing custom metrics"
   ]
  },
  {
   "cell_type": "code",
   "execution_count": 71,
   "metadata": {},
   "outputs": [
    {
     "data": {
      "text/plain": [
       "[{'asset_id': 'c266d3bd-fea0-49af-87f0-77b4c07a5d30',\n",
       "  'binding_id': '999',\n",
       "  'measurement_id': '57d6890e-f4bd-4fb6-b272-53332e3e0d49',\n",
       "  'metrics': [{'region': 'us-south',\n",
       "    'sensitivity': 0.67,\n",
       "    'specificity': 0.78}],\n",
       "  'monitor_definition_id': 'samaya_monitor_may_8',\n",
       "  'subscription_id': 'bfcf3a77-1835-47bc-a153-fe5ee16c368e',\n",
       "  'timestamp': '2020-05-08T21:11:56.643138Z'}]"
      ]
     },
     "execution_count": 71,
     "metadata": {},
     "output_type": "execute_result"
    }
   ],
   "source": [
    "metrics = {\"specificity\": 0.78, \"sensitivity\": 0.67, \"region\": \"us-south\"}\n",
    "\n",
    "subscription.monitoring.store_metrics(monitor_uid=monitor_uid, metrics=metrics)"
   ]
  },
  {
   "cell_type": "markdown",
   "metadata": {},
   "source": [
    "### 6.3.1 List and get custom metrics"
   ]
  },
  {
   "cell_type": "code",
   "execution_count": 72,
   "metadata": {},
   "outputs": [
    {
     "data": {
      "text/html": [
       "<HTML>\n",
       "        <body>\n",
       "            <h3>CustomMetrics (binding_id=999, subscription_id=bfcf3a77-1835-47bc-a153-fe5ee16c368e)</h3>\n",
       "            <table style='border: 1px solid #dddddd; font-family: Courier'>\n",
       "                <th style='border: 1px solid #dddddd'>ts</th><th style='border: 1px solid #dddddd'>id</th><th style='border: 1px solid #dddddd'>measurement_id</th><th style='border: 1px solid #dddddd'>value</th><th style='border: 1px solid #dddddd'>lower limit</th><th style='border: 1px solid #dddddd'>upper limit</th><th style='border: 1px solid #dddddd'>tags</th><th style='border: 1px solid #dddddd'>binding_id</th><th style='border: 1px solid #dddddd'>subscription_id</th><th style='border: 1px solid #dddddd'>deployment_id</th>\n",
       "                \n",
       "            </table>\n",
       "        </body>\n",
       "        </HTML>"
      ],
      "text/plain": [
       "<IPython.core.display.HTML object>"
      ]
     },
     "metadata": {},
     "output_type": "display_data"
    }
   ],
   "source": [
    "subscription.monitoring.show_table(monitor_uid=monitor_uid)"
   ]
  },
  {
   "cell_type": "code",
   "execution_count": 73,
   "metadata": {},
   "outputs": [
    {
     "data": {
      "text/plain": [
       "[]"
      ]
     },
     "execution_count": 73,
     "metadata": {},
     "output_type": "execute_result"
    }
   ],
   "source": [
    "custom_metrics = subscription.monitoring.get_metrics(monitor_uid=monitor_uid, deployment_uid='credit')\n",
    "custom_metrics"
   ]
  },
  {
   "cell_type": "code",
   "execution_count": 74,
   "metadata": {},
   "outputs": [
    {
     "data": {
      "image/png": "[encoded data removed]",
      "text/plain": [
       "<Figure size 432x288 with 1 Axes>"
      ]
     },
     "metadata": {
      "needs_background": "light"
     },
     "output_type": "display_data"
    }
   ],
   "source": [
    "custom_metrics_pandas = subscription.monitoring.get_table_content(monitor_uid=monitor_uid)\n",
    "\n",
    "%matplotlib inline\n",
    "custom_metrics_pandas.plot.barh(x='id', y='value');"
   ]
  },
  {
   "cell_type": "markdown",
   "metadata": {},
   "source": [
    "# 7.0 Payload analytics <a name=\"analytics\"></a>"
   ]
  },
  {
   "cell_type": "markdown",
   "metadata": {},
   "source": [
    "## 7.1 Run data distributions calculation"
   ]
  },
  {
   "cell_type": "code",
   "execution_count": 75,
   "metadata": {},
   "outputs": [
    {
     "name": "stdout",
     "output_type": "stream",
     "text": [
      "\n",
      "\n",
      "===============================================================================\n",
      "\n",
      " Waiting for end of data distribution run d121d48c-f9d9-4dbe-a616-59b9eb19cb2f \n",
      "\n",
      "===============================================================================\n",
      "\n",
      "\n",
      "\n",
      "running\n",
      "completed\n",
      "\n",
      "---------------------------\n",
      " Successfully finished run \n",
      "---------------------------\n",
      "\n",
      "\n"
     ]
    }
   ],
   "source": [
    "from datetime import datetime\n",
    "\n",
    "start_date = \"2018-01-01T00:00:00.00Z\"\n",
    "end_date = datetime.utcnow().isoformat() + \"Z\"\n",
    "\n",
    "sex_distribution = subscription.payload_logging.data_distribution.run(\n",
    "            start_date=start_date,\n",
    "            end_date=end_date,\n",
    "            group=['predictedLabel', 'Sex'],\n",
    "            agg=['count'])"
   ]
  },
  {
   "cell_type": "markdown",
   "metadata": {},
   "source": [
    "## 7.2 Get data distributions as pandas dataframe"
   ]
  },
  {
   "cell_type": "code",
   "execution_count": 76,
   "metadata": {},
   "outputs": [
    {
     "data": {
      "text/html": [
       "<div>\n",
       "<style scoped>\n",
       "    .dataframe tbody tr th:only-of-type {\n",
       "        vertical-align: middle;\n",
       "    }\n",
       "\n",
       "    .dataframe tbody tr th {\n",
       "        vertical-align: top;\n",
       "    }\n",
       "\n",
       "    .dataframe thead th {\n",
       "        text-align: right;\n",
       "    }\n",
       "</style>\n",
       "<table border=\"1\" class=\"dataframe\">\n",
       "  <thead>\n",
       "    <tr style=\"text-align: right;\">\n",
       "      <th></th>\n",
       "      <th>predictedLabel</th>\n",
       "      <th>Sex</th>\n",
       "      <th>count</th>\n",
       "    </tr>\n",
       "  </thead>\n",
       "  <tbody>\n",
       "    <tr>\n",
       "      <th>0</th>\n",
       "      <td>No Risk</td>\n",
       "      <td>female</td>\n",
       "      <td>65</td>\n",
       "    </tr>\n",
       "    <tr>\n",
       "      <th>1</th>\n",
       "      <td>No Risk</td>\n",
       "      <td>male</td>\n",
       "      <td>92</td>\n",
       "    </tr>\n",
       "    <tr>\n",
       "      <th>2</th>\n",
       "      <td>Risk</td>\n",
       "      <td>female</td>\n",
       "      <td>3</td>\n",
       "    </tr>\n",
       "    <tr>\n",
       "      <th>3</th>\n",
       "      <td>Risk</td>\n",
       "      <td>male</td>\n",
       "      <td>48</td>\n",
       "    </tr>\n",
       "  </tbody>\n",
       "</table>\n",
       "</div>"
      ],
      "text/plain": [
       "  predictedLabel     Sex  count\n",
       "0        No Risk  female     65\n",
       "1        No Risk    male     92\n",
       "2           Risk  female      3\n",
       "3           Risk    male     48"
      ]
     },
     "execution_count": 76,
     "metadata": {},
     "output_type": "execute_result"
    }
   ],
   "source": [
    "sex_distribution_run_uid = sex_distribution['id']\n",
    "distributions_pd = subscription.payload_logging.data_distribution.get_run_result(run_id=sex_distribution_run_uid, format='pandas')\n",
    "distributions_pd"
   ]
  },
  {
   "cell_type": "code",
   "execution_count": 77,
   "metadata": {},
   "outputs": [
    {
     "data": {
      "image/png": "[encoded data removed]",
      "text/plain": [
       "<Figure size 432x288 with 1 Axes>"
      ]
     },
     "metadata": {
      "needs_background": "light"
     },
     "output_type": "display_data"
    }
   ],
   "source": [
    "subscription.payload_logging.data_distribution.show_chart(sex_distribution_run_uid);"
   ]
  },
  {
   "cell_type": "code",
   "execution_count": 78,
   "metadata": {},
   "outputs": [
    {
     "name": "stdout",
     "output_type": "stream",
     "text": [
      "\n",
      "\n",
      "===============================================================================\n",
      "\n",
      " Waiting for end of data distribution run 42a512e4-6dec-4ed6-9504-7ee5e884456b \n",
      "\n",
      "===============================================================================\n",
      "\n",
      "\n",
      "\n",
      "running\n",
      "completed\n",
      "\n",
      "---------------------------\n",
      " Successfully finished run \n",
      "---------------------------\n",
      "\n",
      "\n"
     ]
    }
   ],
   "source": [
    "credit_history_distribution = subscription.payload_logging.data_distribution.run(\n",
    "            start_date=start_date,\n",
    "            end_date=end_date,\n",
    "            group=['predictedLabel', 'CreditHistory'],\n",
    "            agg=['count'])"
   ]
  },
  {
   "cell_type": "code",
   "execution_count": 79,
   "metadata": {},
   "outputs": [
    {
     "data": {
      "image/png": "[encoded data removed]",
      "text/plain": [
       "<Figure size 432x288 with 1 Axes>"
      ]
     },
     "metadata": {
      "needs_background": "light"
     },
     "output_type": "display_data"
    }
   ],
   "source": [
    "credit_history_distribution_run_uid = credit_history_distribution['id']\n",
    "\n",
    "subscription.payload_logging.data_distribution.show_chart(credit_history_distribution_run_uid);"
   ]
  },
  {
   "cell_type": "markdown",
   "metadata": {},
   "source": [
    "# 8.0 Historical data <a name=\"historical\"></a>"
   ]
  },
  {
   "cell_type": "markdown",
   "metadata": {},
   "source": [
    " ## 8.1 Insert historical payloads"
   ]
  },
  {
   "cell_type": "markdown",
   "metadata": {},
   "source": [
    "The next section of the notebook downloads and writes historical data to the payload and measurement tables to simulate a production model that has been monitored and receiving regular traffic for the last seven days. This historical data can be viewed in the Watson OpenScale user interface. The code uses the Python and REST APIs to write this data."
   ]
  },
  {
   "cell_type": "code",
   "execution_count": 80,
   "metadata": {
    "scrolled": false
   },
   "outputs": [
    {
     "name": "stdout",
     "output_type": "stream",
     "text": [
      "rm: cannot remove 'payload_history*.json': No such file or directory\n",
      "--2020-05-08 21:12:57--  https://raw.githubusercontent.com/IBM/monitor-ibm-cloud-pak-with-watson-openscale/master/data/payload_history_0.json\n",
      "Resolving raw.githubusercontent.com (raw.githubusercontent.com)... 151.101.48.133\n",
      "Connecting to raw.githubusercontent.com (raw.githubusercontent.com)|151.101.48.133|:443... connected.\n",
      "HTTP request sent, awaiting response... 200 OK\n",
      "Length: 5018899 (4.8M) [text/plain]\n",
      "Saving to: 'payload_history_0.json'\n",
      "\n",
      "100%[======================================>] 5,018,899   30.3MB/s   in 0.2s   \n",
      "\n",
      "2020-05-08 21:12:58 (30.3 MB/s) - 'payload_history_0.json' saved [5018899/5018899]\n",
      "\n",
      "--2020-05-08 21:12:59--  https://raw.githubusercontent.com/IBM/monitor-ibm-cloud-pak-with-watson-openscale/master/data/payload_history_1.json\n",
      "Resolving raw.githubusercontent.com (raw.githubusercontent.com)... 151.101.48.133\n",
      "Connecting to raw.githubusercontent.com (raw.githubusercontent.com)|151.101.48.133|:443... connected.\n",
      "HTTP request sent, awaiting response... 200 OK\n",
      "Length: 3817949 (3.6M) [text/plain]\n",
      "Saving to: 'payload_history_1.json'\n",
      "\n",
      "100%[======================================>] 3,817,949   --.-K/s   in 0.06s   \n",
      "\n",
      "2020-05-08 21:13:00 (65.1 MB/s) - 'payload_history_1.json' saved [3817949/3817949]\n",
      "\n",
      "--2020-05-08 21:13:00--  https://raw.githubusercontent.com/IBM/monitor-ibm-cloud-pak-with-watson-openscale/master/data/payload_history_2.json\n",
      "Resolving raw.githubusercontent.com (raw.githubusercontent.com)... 199.232.8.133\n",
      "Connecting to raw.githubusercontent.com (raw.githubusercontent.com)|199.232.8.133|:443... connected.\n",
      "HTTP request sent, awaiting response... 200 OK\n",
      "Length: 3818645 (3.6M) [text/plain]\n",
      "Saving to: 'payload_history_2.json'\n",
      "\n",
      "100%[======================================>] 3,818,645   --.-K/s   in 0.06s   \n",
      "\n",
      "2020-05-08 21:13:01 (60.3 MB/s) - 'payload_history_2.json' saved [3818645/3818645]\n",
      "\n",
      "--2020-05-08 21:13:02--  https://raw.githubusercontent.com/IBM/monitor-ibm-cloud-pak-with-watson-openscale/master/data/payload_history_3.json\n",
      "Resolving raw.githubusercontent.com (raw.githubusercontent.com)... 151.101.48.133\n",
      "Connecting to raw.githubusercontent.com (raw.githubusercontent.com)|151.101.48.133|:443... connected.\n",
      "HTTP request sent, awaiting response... 200 OK\n",
      "Length: 3818470 (3.6M) [text/plain]\n",
      "Saving to: 'payload_history_3.json'\n",
      "\n",
      "100%[======================================>] 3,818,470   --.-K/s   in 0.05s   \n",
      "\n",
      "2020-05-08 21:13:02 (66.5 MB/s) - 'payload_history_3.json' saved [3818470/3818470]\n",
      "\n",
      "--2020-05-08 21:13:03--  https://raw.githubusercontent.com/IBM/monitor-ibm-cloud-pak-with-watson-openscale/master/data/payload_history_4.json\n",
      "Resolving raw.githubusercontent.com (raw.githubusercontent.com)... 199.232.8.133\n",
      "Connecting to raw.githubusercontent.com (raw.githubusercontent.com)|199.232.8.133|:443... connected.\n",
      "HTTP request sent, awaiting response... 200 OK\n",
      "Length: 3818106 (3.6M) [text/plain]\n",
      "Saving to: 'payload_history_4.json'\n",
      "\n",
      "100%[======================================>] 3,818,106   --.-K/s   in 0.07s   \n",
      "\n",
      "2020-05-08 21:13:04 (55.8 MB/s) - 'payload_history_4.json' saved [3818106/3818106]\n",
      "\n",
      "--2020-05-08 21:13:05--  https://raw.githubusercontent.com/IBM/monitor-ibm-cloud-pak-with-watson-openscale/master/data/payload_history_5.json\n",
      "Resolving raw.githubusercontent.com (raw.githubusercontent.com)... 199.232.8.133\n",
      "Connecting to raw.githubusercontent.com (raw.githubusercontent.com)|199.232.8.133|:443... connected.\n",
      "HTTP request sent, awaiting response... 200 OK\n",
      "Length: 3817474 (3.6M) [text/plain]\n",
      "Saving to: 'payload_history_5.json'\n",
      "\n",
      "100%[======================================>] 3,817,474   --.-K/s   in 0.08s   \n",
      "\n",
      "2020-05-08 21:13:06 (47.7 MB/s) - 'payload_history_5.json' saved [3817474/3817474]\n",
      "\n",
      "--2020-05-08 21:13:06--  https://raw.githubusercontent.com/IBM/monitor-ibm-cloud-pak-with-watson-openscale/master/data/payload_history_6.json\n",
      "Resolving raw.githubusercontent.com (raw.githubusercontent.com)... 199.232.8.133\n",
      "Connecting to raw.githubusercontent.com (raw.githubusercontent.com)|199.232.8.133|:443... connected.\n",
      "HTTP request sent, awaiting response... 200 OK\n",
      "Length: 3817921 (3.6M) [text/plain]\n",
      "Saving to: 'payload_history_6.json'\n",
      "\n",
      "100%[======================================>] 3,817,921   --.-K/s   in 0.1s    \n",
      "\n",
      "2020-05-08 21:13:07 (30.2 MB/s) - 'payload_history_6.json' saved [3817921/3817921]\n",
      "\n"
     ]
    }
   ],
   "source": [
    "!rm payload_history*.json\n",
    "!wget https://raw.githubusercontent.com/IBM/monitor-ibm-cloud-pak-with-watson-openscale/master/data/payload_history_0.json\n",
    "!wget https://raw.githubusercontent.com/IBM/monitor-ibm-cloud-pak-with-watson-openscale/master/data/payload_history_1.json\n",
    "!wget https://raw.githubusercontent.com/IBM/monitor-ibm-cloud-pak-with-watson-openscale/master/data/payload_history_2.json\n",
    "!wget https://raw.githubusercontent.com/IBM/monitor-ibm-cloud-pak-with-watson-openscale/master/data/payload_history_3.json\n",
    "!wget https://raw.githubusercontent.com/IBM/monitor-ibm-cloud-pak-with-watson-openscale/master/data/payload_history_4.json\n",
    "!wget https://raw.githubusercontent.com/IBM/monitor-ibm-cloud-pak-with-watson-openscale/master/data/payload_history_5.json\n",
    "!wget https://raw.githubusercontent.com/IBM/monitor-ibm-cloud-pak-with-watson-openscale/master/data/payload_history_6.json"
   ]
  },
  {
   "cell_type": "code",
   "execution_count": 81,
   "metadata": {
    "scrolled": true
   },
   "outputs": [],
   "source": [
    "historyDays = 7"
   ]
  },
  {
   "cell_type": "code",
   "execution_count": 82,
   "metadata": {
    "scrolled": false
   },
   "outputs": [
    {
     "name": "stdout",
     "output_type": "stream",
     "text": [
      "Loading day 1\n",
      "Loading day 2\n",
      "Loading day 3\n",
      "Loading day 4\n",
      "Loading day 5\n",
      "Loading day 6\n",
      "Loading day 7\n",
      "Finished\n"
     ]
    }
   ],
   "source": [
    "from ibm_ai_openscale.supporting_classes import PayloadRecord, Feature\n",
    "import datetime\n",
    "import time\n",
    "\n",
    "for day in range(historyDays):\n",
    "    print('Loading day {}'.format(day + 1))\n",
    "    history_file = 'payload_history_' + str(day) + '.json'\n",
    "    with open(history_file) as f:\n",
    "        payloads = json.load(f)\n",
    "        hourly_records = int(len(payloads) / 24)\n",
    "        index = 0\n",
    "        for hour in range(24):\n",
    "            recordsList = []\n",
    "            for i in range(hourly_records):\n",
    "                score_time = str(datetime.datetime.utcnow() + datetime.timedelta(hours=(-(24*day + hour + 1))))\n",
    "                recordsList.append(PayloadRecord(request=payloads[index]['request'], response=payloads[index]['response'], scoring_timestamp=score_time))\n",
    "                index += 1\n",
    "            subscription.payload_logging.store(records=recordsList)\n",
    "print('Finished')"
   ]
  },
  {
   "cell_type": "code",
   "execution_count": 83,
   "metadata": {
    "scrolled": true
   },
   "outputs": [
    {
     "name": "stdout",
     "output_type": "stream",
     "text": [
      "00000000-0000-0000-0000-000000000000\n"
     ]
    }
   ],
   "source": [
    "data_mart_id = subscription.get_details()['metadata']['url'].split('/service_bindings')[0].split('marts/')[1]\n",
    "print(data_mart_id)"
   ]
  },
  {
   "cell_type": "code",
   "execution_count": 84,
   "metadata": {
    "scrolled": true
   },
   "outputs": [
    {
     "name": "stdout",
     "output_type": "stream",
     "text": [
      "https://zen-cpd-zen.omid-cp4d-v5-2bef1f4b4097001da9502000c44fc2b2-0001.us-south.containers.appdomain.cloud/v1/data_marts/00000000-0000-0000-0000-000000000000/metrics\n"
     ]
    }
   ],
   "source": [
    "performance_metrics_url = WOS_CREDENTIALS['url'] + subscription.get_details()['metadata']['url'].split('/service_bindings')[0] + '/metrics'\n",
    "print(performance_metrics_url)"
   ]
  },
  {
   "cell_type": "markdown",
   "metadata": {},
   "source": [
    "## 8.2 Insert historical fairness metrics"
   ]
  },
  {
   "cell_type": "code",
   "execution_count": 85,
   "metadata": {},
   "outputs": [
    {
     "name": "stdout",
     "output_type": "stream",
     "text": [
      "rm: cannot remove 'fairness_history.json': No such file or directory\n",
      "--2020-05-08 21:14:07--  https://raw.githubusercontent.com/IBM/monitor-ibm-cloud-pak-with-watson-openscale/master/data/fairness_history.json\n",
      "Resolving raw.githubusercontent.com (raw.githubusercontent.com)... 151.101.48.133\n",
      "Connecting to raw.githubusercontent.com (raw.githubusercontent.com)|151.101.48.133|:443... connected.\n",
      "HTTP request sent, awaiting response... 200 OK\n",
      "Length: 877247 (857K) [text/plain]\n",
      "Saving to: 'fairness_history.json'\n",
      "\n",
      "100%[======================================>] 877,247     --.-K/s   in 0.04s   \n",
      "\n",
      "2020-05-08 21:14:07 (21.3 MB/s) - 'fairness_history.json' saved [877247/877247]\n",
      "\n"
     ]
    }
   ],
   "source": [
    "!rm fairness_history.json\n",
    "!wget https://raw.githubusercontent.com/IBM/monitor-ibm-cloud-pak-with-watson-openscale/master/data/fairness_history.json"
   ]
  },
  {
   "cell_type": "code",
   "execution_count": 92,
   "metadata": {},
   "outputs": [],
   "source": [
    "import requests\n",
    "from requests.auth import HTTPBasicAuth\n",
    "\n",
    "def create_token():\n",
    "    header = {\n",
    "                    \"Content-Type\": \"application/x-www-form-urlencoded\",\n",
    "                    \"Accept\": \"application/json\"\n",
    "    }\n",
    "\n",
    "    response = requests.Session().get(\n",
    "            WOS_CREDENTIALS['url'] + '/v1/preauth/validateAuth',\n",
    "            headers=header,\n",
    "            auth=HTTPBasicAuth(\n",
    "                WOS_CREDENTIALS['username'],\n",
    "                WOS_CREDENTIALS['password']\n",
    "            ),\n",
    "            verify=False)\n",
    "\n",
    "    response = handle_response(200, 'access token', response, True)\n",
    "    token = response['accessToken']\n",
    "\n",
    "    return token"
   ]
  },
  {
   "cell_type": "code",
   "execution_count": 93,
   "metadata": {
    "scrolled": true
   },
   "outputs": [
    {
     "name": "stdout",
     "output_type": "stream",
     "text": [
      "Loading day 1\n",
      "Loading day 2\n",
      "Loading day 3\n",
      "Loading day 4\n",
      "Loading day 5\n",
      "Loading day 6\n",
      "Loading day 7\n",
      "Finished\n"
     ]
    }
   ],
   "source": [
    "iam_token = create_token()\n",
    "iam_headers = {\n",
    "    'Content-Type': 'application/json',\n",
    "    'Authorization': 'Bearer %s' % iam_token\n",
    "}\n",
    "\n",
    "with open('fairness_history.json', 'r') as history_file:\n",
    "    payloads = json.load(history_file)\n",
    "\n",
    "for day in range(historyDays):\n",
    "    print('Loading day', day + 1)\n",
    "    for hour in range(24):\n",
    "        score_time = (datetime.datetime.utcnow() + datetime.timedelta(hours=(-(24*day + hour + 1)))).strftime('%Y-%m-%dT%H:%M:%SZ')\n",
    "        index = (day * 24 + hour) % len(payloads) # wrap around and reuse values if needed\n",
    "        \n",
    "        qualityMetric = {\n",
    "            'metric_type': 'fairness',\n",
    "            'binding_id': binding_uid,\n",
    "            'timestamp': score_time,\n",
    "            'subscription_id': model_uid,\n",
    "            'asset_revision': model_uid,\n",
    "            'deployment_id': deployment_uid,\n",
    "            'value': payloads[index]\n",
    "        }\n",
    "\n",
    "        response = requests.post(performance_metrics_url, json=[qualityMetric], headers=iam_headers, verify=False)\n",
    "\n",
    "print('Finished')"
   ]
  },
  {
   "cell_type": "markdown",
   "metadata": {},
   "source": [
    "## 8.3 Insert historical debias metrics"
   ]
  },
  {
   "cell_type": "code",
   "execution_count": 94,
   "metadata": {},
   "outputs": [
    {
     "name": "stdout",
     "output_type": "stream",
     "text": [
      "rm: cannot remove 'history_debias.json': No such file or directory\n",
      "--2020-05-08 21:41:53--  https://raw.githubusercontent.com/IBM/monitor-ibm-cloud-pak-with-watson-openscale/master/data/history_debias.json\n",
      "Resolving raw.githubusercontent.com (raw.githubusercontent.com)... 151.101.48.133\n",
      "Connecting to raw.githubusercontent.com (raw.githubusercontent.com)|151.101.48.133|:443... connected.\n",
      "HTTP request sent, awaiting response... 200 OK\n",
      "Length: 565971 (553K) [text/plain]\n",
      "Saving to: 'history_debias.json'\n",
      "\n",
      "100%[======================================>] 565,971     --.-K/s   in 0.02s   \n",
      "\n",
      "2020-05-08 21:41:53 (31.4 MB/s) - 'history_debias.json' saved [565971/565971]\n",
      "\n"
     ]
    }
   ],
   "source": [
    "!rm history_debias.json\n",
    "!wget https://raw.githubusercontent.com/IBM/monitor-ibm-cloud-pak-with-watson-openscale/master/data/history_debias.json"
   ]
  },
  {
   "cell_type": "code",
   "execution_count": 95,
   "metadata": {},
   "outputs": [
    {
     "name": "stdout",
     "output_type": "stream",
     "text": [
      "Loading day 1\n",
      "Loading day 2\n",
      "Loading day 3\n",
      "Loading day 4\n",
      "Loading day 5\n",
      "Loading day 6\n",
      "Loading day 7\n",
      "Finished\n"
     ]
    }
   ],
   "source": [
    "iam_token = create_token()\n",
    "iam_headers = {\n",
    "    'Content-Type': 'application/json',\n",
    "    'Authorization': 'Bearer %s' % iam_token\n",
    "}\n",
    "\n",
    "with open('history_debias.json', 'r') as history_file:\n",
    "    payloads = json.load(history_file)\n",
    "\n",
    "for day in range(historyDays):\n",
    "    print('Loading day', day + 1)\n",
    "    for hour in range(24):\n",
    "        score_time = (datetime.datetime.utcnow() + datetime.timedelta(hours=(-(24*day + hour + 1)))).strftime('%Y-%m-%dT%H:%M:%SZ')\n",
    "        index = (day * 24 + hour) % len(payloads) # wrap around and reuse values if needed\n",
    "\n",
    "        qualityMetric = {\n",
    "            'metric_type': 'debiased_fairness',\n",
    "            'binding_id': binding_uid,\n",
    "            'timestamp': score_time,\n",
    "            'subscription_id': model_uid,\n",
    "            'asset_revision': model_uid,\n",
    "            'deployment_id': deployment_uid,\n",
    "            'value': payloads[index]\n",
    "        }\n",
    "\n",
    "        response = requests.post(performance_metrics_url, json=[qualityMetric], headers=iam_headers, verify=False)\n",
    "print('Finished')"
   ]
  },
  {
   "cell_type": "markdown",
   "metadata": {},
   "source": [
    "## 8.4 Insert historical quality metrics"
   ]
  },
  {
   "cell_type": "code",
   "execution_count": 96,
   "metadata": {
    "scrolled": true
   },
   "outputs": [
    {
     "name": "stdout",
     "output_type": "stream",
     "text": [
      "Day 1\n",
      "Day 2\n",
      "Day 3\n",
      "Day 4\n",
      "Day 5\n",
      "Day 6\n",
      "Day 7\n",
      "Finished\n"
     ]
    }
   ],
   "source": [
    "iam_token = create_token()\n",
    "iam_headers = {\n",
    "    'Content-Type': 'application/json',\n",
    "    'Authorization': 'Bearer %s' % iam_token\n",
    "}\n",
    "\n",
    "measurements = [0.76, 0.78, 0.68, 0.72, 0.73, 0.77, 0.80]\n",
    "for day in range(historyDays):\n",
    "    print('Day', day + 1)\n",
    "    for hour in range(24):\n",
    "        score_time = (datetime.datetime.utcnow() + datetime.timedelta(hours=(-(24*day + hour + 1)))).strftime('%Y-%m-%dT%H:%M:%SZ')\n",
    "        qualityMetric = {\n",
    "            'metric_type': 'quality',\n",
    "            'binding_id': binding_uid,\n",
    "            'timestamp': score_time,\n",
    "            'subscription_id': model_uid,\n",
    "            'asset_revision': model_uid,\n",
    "            'deployment_id': deployment_uid,\n",
    "            'value': {\n",
    "                'quality': measurements[day],\n",
    "                'threshold': 0.7,\n",
    "                'metrics': [\n",
    "                    {\n",
    "                        'name': 'auroc',\n",
    "                        'value': measurements[day],\n",
    "                        'threshold': 0.7\n",
    "                    }\n",
    "                ]\n",
    "            }\n",
    "        }\n",
    "\n",
    "        response = requests.post(performance_metrics_url, json=[qualityMetric], headers=iam_headers, verify=False)\n",
    "print('Finished')"
   ]
  },
  {
   "cell_type": "markdown",
   "metadata": {},
   "source": [
    "## 8.5 Insert historical confusion matrixes"
   ]
  },
  {
   "cell_type": "code",
   "execution_count": 97,
   "metadata": {},
   "outputs": [
    {
     "name": "stdout",
     "output_type": "stream",
     "text": [
      "rm: cannot remove 'history_quality_metrics.json': No such file or directory\n",
      "--2020-05-08 21:42:36--  https://raw.githubusercontent.com/IBM/monitor-ibm-cloud-pak-with-watson-openscale/master/data/history_quality_metrics.json\n",
      "Resolving raw.githubusercontent.com (raw.githubusercontent.com)... 151.101.48.133\n",
      "Connecting to raw.githubusercontent.com (raw.githubusercontent.com)|151.101.48.133|:443... connected.\n",
      "HTTP request sent, awaiting response... 200 OK\n",
      "Length: 80099 (78K) [text/plain]\n",
      "Saving to: 'history_quality_metrics.json'\n",
      "\n",
      "100%[======================================>] 80,099      --.-K/s   in 0.004s  \n",
      "\n",
      "2020-05-08 21:42:36 (20.1 MB/s) - 'history_quality_metrics.json' saved [80099/80099]\n",
      "\n"
     ]
    }
   ],
   "source": [
    "!rm history_quality_metrics.json\n",
    "!wget https://raw.githubusercontent.com/IBM/monitor-ibm-cloud-pak-with-watson-openscale/master/data/history_quality_metrics.json"
   ]
  },
  {
   "cell_type": "code",
   "execution_count": 98,
   "metadata": {},
   "outputs": [
    {
     "name": "stdout",
     "output_type": "stream",
     "text": [
      "https://zen-cpd-zen.omid-cp4d-v5-2bef1f4b4097001da9502000c44fc2b2-0001.us-south.containers.appdomain.cloud/v1/data_marts/00000000-0000-0000-0000-000000000000/measurements\n"
     ]
    }
   ],
   "source": [
    "measurements_url = WOS_CREDENTIALS['url'] + subscription.get_details()['metadata']['url'].split('/service_bindings')[0] + '/measurements'\n",
    "print(measurements_url)"
   ]
  },
  {
   "cell_type": "code",
   "execution_count": 99,
   "metadata": {},
   "outputs": [
    {
     "name": "stdout",
     "output_type": "stream",
     "text": [
      "Day 1\n",
      "Day 2\n",
      "Day 3\n",
      "Day 4\n",
      "Day 5\n",
      "Day 6\n",
      "Day 7\n",
      "Finished\n"
     ]
    }
   ],
   "source": [
    "with open('history_quality_metrics.json') as json_file:\n",
    "    records = json.load(json_file)\n",
    "    \n",
    "for day in range(historyDays):\n",
    "    index = 0\n",
    "    measurments = []\n",
    "    print('Day', day + 1)\n",
    "    \n",
    "    for hour in range(24):\n",
    "        score_time = (datetime.datetime.utcnow() + datetime.timedelta(hours=(-(24*day + hour + 1)))).strftime('%Y-%m-%dT%H:%M:%SZ')\n",
    "\n",
    "        measurement = {\n",
    "            \"monitor_definition_id\": 'quality',\n",
    "            \"binding_id\": subscription.binding_uid,\n",
    "            \"subscription_id\": subscription.uid,\n",
    "            \"asset_id\": subscription.source_uid,\n",
    "            'metrics': [records[index]['metrics']],\n",
    "            'sources': [records[index]['sources']],\n",
    "            'timestamp': score_time\n",
    "        }\n",
    "\n",
    "        measurments.append(measurement)\n",
    "        index+=1\n",
    "\n",
    "\n",
    "    response = requests.post(measurements_url, json=measurments, headers=ai_client._get_headers(), verify=False)\n",
    "\n",
    "print('Finished')"
   ]
  },
  {
   "cell_type": "markdown",
   "metadata": {},
   "source": [
    "## 8.6 Insert historical performance metrics"
   ]
  },
  {
   "cell_type": "code",
   "execution_count": 100,
   "metadata": {},
   "outputs": [
    {
     "name": "stdout",
     "output_type": "stream",
     "text": [
      "Day 1\n",
      "Day 2\n",
      "Day 3\n",
      "Day 4\n",
      "Day 5\n",
      "Day 6\n",
      "Day 7\n",
      "Finished\n"
     ]
    }
   ],
   "source": [
    "iam_token = create_token()\n",
    "iam_headers = {\n",
    "    'Content-Type': 'application/json',\n",
    "    'Authorization': 'Bearer %s' % iam_token\n",
    "}\n",
    "\n",
    "for day in range(historyDays):\n",
    "    print('Day', day + 1)\n",
    "    for hour in range(24):\n",
    "        score_time = (datetime.datetime.utcnow() + datetime.timedelta(hours=(-(24*day + hour + 1)))).strftime('%Y-%m-%dT%H:%M:%SZ')\n",
    "        score_count = random.randint(60, 600)\n",
    "        score_resp = random.uniform(60, 300)\n",
    "\n",
    "        performanceMetric = {\n",
    "            'metric_type': 'performance',\n",
    "            'binding_id': binding_uid,\n",
    "            'timestamp': score_time,\n",
    "            'subscription_id': model_uid,\n",
    "            'asset_revision': model_uid,\n",
    "            'deployment_id': deployment_uid,\n",
    "            'value': {\n",
    "                'response_time': score_resp,\n",
    "                'records': score_count\n",
    "            }\n",
    "        }\n",
    "\n",
    "        response = requests.post(performance_metrics_url, json=[performanceMetric], headers=iam_headers, verify=False)\n",
    "print('Finished')"
   ]
  },
  {
   "cell_type": "markdown",
   "metadata": {},
   "source": [
    "## 8.7 Insert historical manual labeling"
   ]
  },
  {
   "cell_type": "code",
   "execution_count": 101,
   "metadata": {},
   "outputs": [
    {
     "name": "stdout",
     "output_type": "stream",
     "text": [
      "https://zen-cpd-zen.omid-cp4d-v5-2bef1f4b4097001da9502000c44fc2b2-0001.us-south.containers.appdomain.cloud/v1/data_marts/00000000-0000-0000-0000-000000000000/manual_labelings\n"
     ]
    }
   ],
   "source": [
    "manual_labeling_url = WOS_CREDENTIALS['url'] + subscription.get_details()['metadata']['url'].split('/service_bindings')[0] + '/manual_labelings'\n",
    "print(manual_labeling_url)"
   ]
  },
  {
   "cell_type": "code",
   "execution_count": 102,
   "metadata": {},
   "outputs": [
    {
     "name": "stdout",
     "output_type": "stream",
     "text": [
      "rm: cannot remove 'history_manual_labeling.json': No such file or directory\n",
      "--2020-05-08 21:43:00--  https://raw.githubusercontent.com/IBM/monitor-ibm-cloud-pak-with-watson-openscale/master/data/history_manual_labeling.json\n",
      "Resolving raw.githubusercontent.com (raw.githubusercontent.com)... 199.232.8.133\n",
      "Connecting to raw.githubusercontent.com (raw.githubusercontent.com)|199.232.8.133|:443... connected.\n",
      "HTTP request sent, awaiting response... 200 OK\n",
      "Length: 947956 (926K) [text/plain]\n",
      "Saving to: 'history_manual_labeling.json'\n",
      "\n",
      "100%[======================================>] 947,956     --.-K/s   in 0.03s   \n",
      "\n",
      "2020-05-08 21:43:00 (32.1 MB/s) - 'history_manual_labeling.json' saved [947956/947956]\n",
      "\n"
     ]
    }
   ],
   "source": [
    "!rm history_manual_labeling.json\n",
    "!wget https://raw.githubusercontent.com/IBM/monitor-ibm-cloud-pak-with-watson-openscale/master/data/history_manual_labeling.json"
   ]
  },
  {
   "cell_type": "code",
   "execution_count": 103,
   "metadata": {},
   "outputs": [
    {
     "name": "stdout",
     "output_type": "stream",
     "text": [
      "Loading day 1\n",
      "Loading day 2\n",
      "Loading day 3\n",
      "Loading day 4\n",
      "Loading day 5\n",
      "Loading day 6\n",
      "Loading day 7\n",
      "Finished\n"
     ]
    }
   ],
   "source": [
    "iam_token = create_token()\n",
    "iam_headers = {\n",
    "    'Content-Type': 'application/json',\n",
    "    'Authorization': 'Bearer %s' % iam_token\n",
    "}\n",
    "\n",
    "with open('history_manual_labeling.json', 'r') as history_file:\n",
    "    records = json.load(history_file)\n",
    "\n",
    "for day in range(historyDays):\n",
    "    print('Loading day', day + 1)\n",
    "    record_json = []\n",
    "    for hour in range(24):\n",
    "        for record in records:\n",
    "            if record['fastpath_history_day'] == day and record['fastpath_history_hour'] == hour:\n",
    "                record['binding_id'] = binding_uid\n",
    "                record['subscription_id'] = model_uid\n",
    "                record['asset_revision'] = model_uid\n",
    "                record['deployment_id'] = deployment_uid\n",
    "                record['scoring_timestamp'] = (datetime.datetime.utcnow() + datetime.timedelta(hours=(-(24*day + hour + 1)))).strftime('%Y-%m-%dT%H:%M:%SZ')\n",
    "                record_json.append(record)\n",
    "    response = requests.post(manual_labeling_url, json=record_json, headers=iam_headers, verify=False)\n",
    "\n",
    "print('Finished')"
   ]
  },
  {
   "cell_type": "markdown",
   "metadata": {},
   "source": [
    "## 8.8 Additional data to help debugging"
   ]
  },
  {
   "cell_type": "code",
   "execution_count": 104,
   "metadata": {
    "scrolled": true
   },
   "outputs": [
    {
     "name": "stdout",
     "output_type": "stream",
     "text": [
      "Datamart: 00000000-0000-0000-0000-000000000000\n",
      "Model: c266d3bd-fea0-49af-87f0-77b4c07a5d30\n",
      "Deployment: 6c6c2989-c171-4ac7-8160-37a4f372ffa9\n",
      "Binding: 999\n"
     ]
    }
   ],
   "source": [
    "print('Datamart:', data_mart_id)\n",
    "print('Model:', model_uid)\n",
    "print('Deployment:', deployment_uid)\n",
    "print('Binding:', binding_uid)\n",
    "#print('Scoring URL:', credit_risk_scoring_endpoint)"
   ]
  },
  {
   "cell_type": "markdown",
   "metadata": {},
   "source": [
    "## 8.9 Identify transactions for Explainability"
   ]
  },
  {
   "cell_type": "markdown",
   "metadata": {},
   "source": [
    "Transaction IDs identified by the cells below can be copied and pasted into the Explainability tab of the OpenScale dashboard."
   ]
  },
  {
   "cell_type": "code",
   "execution_count": 105,
   "metadata": {
    "scrolled": true
   },
   "outputs": [
    {
     "data": {
      "text/html": [
       "<div>\n",
       "<style scoped>\n",
       "    .dataframe tbody tr th:only-of-type {\n",
       "        vertical-align: middle;\n",
       "    }\n",
       "\n",
       "    .dataframe tbody tr th {\n",
       "        vertical-align: top;\n",
       "    }\n",
       "\n",
       "    .dataframe thead th {\n",
       "        text-align: right;\n",
       "    }\n",
       "</style>\n",
       "<table border=\"1\" class=\"dataframe\">\n",
       "  <thead>\n",
       "    <tr style=\"text-align: right;\">\n",
       "      <th></th>\n",
       "      <th>scoring_id</th>\n",
       "      <th>predictedLabel</th>\n",
       "      <th>probability</th>\n",
       "    </tr>\n",
       "  </thead>\n",
       "  <tbody>\n",
       "    <tr>\n",
       "      <th>0</th>\n",
       "      <td>5dd2065d-f1a8-4bad-8d1e-ac4cf9f96dac-1</td>\n",
       "      <td>Risk</td>\n",
       "      <td>[0.05564218947357054, 0.9443578105264294]</td>\n",
       "    </tr>\n",
       "    <tr>\n",
       "      <th>1</th>\n",
       "      <td>5dd2065d-f1a8-4bad-8d1e-ac4cf9f96dac-2</td>\n",
       "      <td>No Risk</td>\n",
       "      <td>[0.6361112449853593, 0.3638887550146407]</td>\n",
       "    </tr>\n",
       "    <tr>\n",
       "      <th>2</th>\n",
       "      <td>5dd2065d-f1a8-4bad-8d1e-ac4cf9f96dac-3</td>\n",
       "      <td>No Risk</td>\n",
       "      <td>[0.9785386003546439, 0.021461399645356042]</td>\n",
       "    </tr>\n",
       "    <tr>\n",
       "      <th>3</th>\n",
       "      <td>5dd2065d-f1a8-4bad-8d1e-ac4cf9f96dac-4</td>\n",
       "      <td>No Risk</td>\n",
       "      <td>[0.8617174590905933, 0.13828254090940678]</td>\n",
       "    </tr>\n",
       "    <tr>\n",
       "      <th>4</th>\n",
       "      <td>5dd2065d-f1a8-4bad-8d1e-ac4cf9f96dac-5</td>\n",
       "      <td>No Risk</td>\n",
       "      <td>[0.7122228451303976, 0.28777715486960254]</td>\n",
       "    </tr>\n",
       "    <tr>\n",
       "      <th>5</th>\n",
       "      <td>5dd2065d-f1a8-4bad-8d1e-ac4cf9f96dac-6</td>\n",
       "      <td>No Risk</td>\n",
       "      <td>[0.5799025535293585, 0.4200974464706415]</td>\n",
       "    </tr>\n",
       "    <tr>\n",
       "      <th>6</th>\n",
       "      <td>5dd2065d-f1a8-4bad-8d1e-ac4cf9f96dac-7</td>\n",
       "      <td>Risk</td>\n",
       "      <td>[0.19699854933040914, 0.8030014506695908]</td>\n",
       "    </tr>\n",
       "    <tr>\n",
       "      <th>7</th>\n",
       "      <td>5dd2065d-f1a8-4bad-8d1e-ac4cf9f96dac-8</td>\n",
       "      <td>Risk</td>\n",
       "      <td>[0.44623047307212377, 0.5537695269278763]</td>\n",
       "    </tr>\n",
       "    <tr>\n",
       "      <th>8</th>\n",
       "      <td>5dd2065d-f1a8-4bad-8d1e-ac4cf9f96dac-9</td>\n",
       "      <td>No Risk</td>\n",
       "      <td>[0.8726321006303703, 0.1273678993696296]</td>\n",
       "    </tr>\n",
       "    <tr>\n",
       "      <th>9</th>\n",
       "      <td>5dd2065d-f1a8-4bad-8d1e-ac4cf9f96dac-10</td>\n",
       "      <td>No Risk</td>\n",
       "      <td>[0.8321834901011712, 0.16781650989882874]</td>\n",
       "    </tr>\n",
       "    <tr>\n",
       "      <th>10</th>\n",
       "      <td>5dd2065d-f1a8-4bad-8d1e-ac4cf9f96dac-11</td>\n",
       "      <td>No Risk</td>\n",
       "      <td>[0.5940541561259473, 0.40594584387405275]</td>\n",
       "    </tr>\n",
       "    <tr>\n",
       "      <th>11</th>\n",
       "      <td>5dd2065d-f1a8-4bad-8d1e-ac4cf9f96dac-12</td>\n",
       "      <td>No Risk</td>\n",
       "      <td>[0.6576311875679162, 0.3423688124320838]</td>\n",
       "    </tr>\n",
       "    <tr>\n",
       "      <th>12</th>\n",
       "      <td>5dd2065d-f1a8-4bad-8d1e-ac4cf9f96dac-13</td>\n",
       "      <td>Risk</td>\n",
       "      <td>[0.33591732554823756, 0.6640826744517625]</td>\n",
       "    </tr>\n",
       "    <tr>\n",
       "      <th>13</th>\n",
       "      <td>5dd2065d-f1a8-4bad-8d1e-ac4cf9f96dac-14</td>\n",
       "      <td>Risk</td>\n",
       "      <td>[0.48278983204014214, 0.5172101679598579]</td>\n",
       "    </tr>\n",
       "    <tr>\n",
       "      <th>14</th>\n",
       "      <td>5dd2065d-f1a8-4bad-8d1e-ac4cf9f96dac-15</td>\n",
       "      <td>No Risk</td>\n",
       "      <td>[0.9842792588262957, 0.015720741173704318]</td>\n",
       "    </tr>\n",
       "    <tr>\n",
       "      <th>15</th>\n",
       "      <td>5dd2065d-f1a8-4bad-8d1e-ac4cf9f96dac-16</td>\n",
       "      <td>Risk</td>\n",
       "      <td>[0.42735863467725377, 0.5726413653227462]</td>\n",
       "    </tr>\n",
       "    <tr>\n",
       "      <th>16</th>\n",
       "      <td>5dd2065d-f1a8-4bad-8d1e-ac4cf9f96dac-17</td>\n",
       "      <td>Risk</td>\n",
       "      <td>[0.14751937377542879, 0.8524806262245713]</td>\n",
       "    </tr>\n",
       "    <tr>\n",
       "      <th>17</th>\n",
       "      <td>5dd2065d-f1a8-4bad-8d1e-ac4cf9f96dac-18</td>\n",
       "      <td>No Risk</td>\n",
       "      <td>[0.9621045978551462, 0.03789540214485369]</td>\n",
       "    </tr>\n",
       "    <tr>\n",
       "      <th>18</th>\n",
       "      <td>5dd2065d-f1a8-4bad-8d1e-ac4cf9f96dac-19</td>\n",
       "      <td>No Risk</td>\n",
       "      <td>[0.71327500018511, 0.2867249998148899]</td>\n",
       "    </tr>\n",
       "    <tr>\n",
       "      <th>19</th>\n",
       "      <td>5dd2065d-f1a8-4bad-8d1e-ac4cf9f96dac-20</td>\n",
       "      <td>Risk</td>\n",
       "      <td>[0.05818880427347546, 0.9418111957265245]</td>\n",
       "    </tr>\n",
       "    <tr>\n",
       "      <th>20</th>\n",
       "      <td>5dd2065d-f1a8-4bad-8d1e-ac4cf9f96dac-21</td>\n",
       "      <td>Risk</td>\n",
       "      <td>[0.16060851037351, 0.8393914896264899]</td>\n",
       "    </tr>\n",
       "    <tr>\n",
       "      <th>21</th>\n",
       "      <td>5dd2065d-f1a8-4bad-8d1e-ac4cf9f96dac-22</td>\n",
       "      <td>No Risk</td>\n",
       "      <td>[0.8917293395939417, 0.10827066040605819]</td>\n",
       "    </tr>\n",
       "    <tr>\n",
       "      <th>22</th>\n",
       "      <td>5dd2065d-f1a8-4bad-8d1e-ac4cf9f96dac-23</td>\n",
       "      <td>No Risk</td>\n",
       "      <td>[0.779789594021213, 0.22021040597878705]</td>\n",
       "    </tr>\n",
       "    <tr>\n",
       "      <th>23</th>\n",
       "      <td>5dd2065d-f1a8-4bad-8d1e-ac4cf9f96dac-24</td>\n",
       "      <td>No Risk</td>\n",
       "      <td>[0.7141236065430216, 0.2858763934569783]</td>\n",
       "    </tr>\n",
       "    <tr>\n",
       "      <th>24</th>\n",
       "      <td>5dd2065d-f1a8-4bad-8d1e-ac4cf9f96dac-25</td>\n",
       "      <td>Risk</td>\n",
       "      <td>[0.3148954895807388, 0.6851045104192612]</td>\n",
       "    </tr>\n",
       "    <tr>\n",
       "      <th>25</th>\n",
       "      <td>5dd2065d-f1a8-4bad-8d1e-ac4cf9f96dac-26</td>\n",
       "      <td>Risk</td>\n",
       "      <td>[0.36099020614475685, 0.6390097938552433]</td>\n",
       "    </tr>\n",
       "    <tr>\n",
       "      <th>26</th>\n",
       "      <td>5dd2065d-f1a8-4bad-8d1e-ac4cf9f96dac-27</td>\n",
       "      <td>No Risk</td>\n",
       "      <td>[0.9458879629075365, 0.05411203709246348]</td>\n",
       "    </tr>\n",
       "    <tr>\n",
       "      <th>27</th>\n",
       "      <td>5dd2065d-f1a8-4bad-8d1e-ac4cf9f96dac-28</td>\n",
       "      <td>No Risk</td>\n",
       "      <td>[0.707836799710625, 0.292163200289375]</td>\n",
       "    </tr>\n",
       "    <tr>\n",
       "      <th>28</th>\n",
       "      <td>5dd2065d-f1a8-4bad-8d1e-ac4cf9f96dac-29</td>\n",
       "      <td>No Risk</td>\n",
       "      <td>[0.8888543656980881, 0.11114563430191197]</td>\n",
       "    </tr>\n",
       "    <tr>\n",
       "      <th>29</th>\n",
       "      <td>5dd2065d-f1a8-4bad-8d1e-ac4cf9f96dac-30</td>\n",
       "      <td>No Risk</td>\n",
       "      <td>[0.620350044178308, 0.3796499558216921]</td>\n",
       "    </tr>\n",
       "    <tr>\n",
       "      <th>30</th>\n",
       "      <td>5dd2065d-f1a8-4bad-8d1e-ac4cf9f96dac-31</td>\n",
       "      <td>Risk</td>\n",
       "      <td>[0.13990652813438603, 0.860093471865614]</td>\n",
       "    </tr>\n",
       "    <tr>\n",
       "      <th>31</th>\n",
       "      <td>5dd2065d-f1a8-4bad-8d1e-ac4cf9f96dac-32</td>\n",
       "      <td>Risk</td>\n",
       "      <td>[0.19334303038845732, 0.8066569696115428]</td>\n",
       "    </tr>\n",
       "    <tr>\n",
       "      <th>32</th>\n",
       "      <td>5dd2065d-f1a8-4bad-8d1e-ac4cf9f96dac-33</td>\n",
       "      <td>Risk</td>\n",
       "      <td>[0.05564218947357054, 0.9443578105264294]</td>\n",
       "    </tr>\n",
       "    <tr>\n",
       "      <th>33</th>\n",
       "      <td>5dd2065d-f1a8-4bad-8d1e-ac4cf9f96dac-34</td>\n",
       "      <td>No Risk</td>\n",
       "      <td>[0.5671980894662974, 0.43280191053370276]</td>\n",
       "    </tr>\n",
       "    <tr>\n",
       "      <th>34</th>\n",
       "      <td>5dd2065d-f1a8-4bad-8d1e-ac4cf9f96dac-35</td>\n",
       "      <td>No Risk</td>\n",
       "      <td>[0.8844266248545528, 0.11557337514544723]</td>\n",
       "    </tr>\n",
       "    <tr>\n",
       "      <th>35</th>\n",
       "      <td>5dd2065d-f1a8-4bad-8d1e-ac4cf9f96dac-36</td>\n",
       "      <td>No Risk</td>\n",
       "      <td>[0.9753242680451943, 0.024675731954805553]</td>\n",
       "    </tr>\n",
       "    <tr>\n",
       "      <th>36</th>\n",
       "      <td>5dd2065d-f1a8-4bad-8d1e-ac4cf9f96dac-37</td>\n",
       "      <td>No Risk</td>\n",
       "      <td>[0.820326826577196, 0.17967317342280395]</td>\n",
       "    </tr>\n",
       "    <tr>\n",
       "      <th>37</th>\n",
       "      <td>5dd2065d-f1a8-4bad-8d1e-ac4cf9f96dac-38</td>\n",
       "      <td>No Risk</td>\n",
       "      <td>[0.5720765369810795, 0.42792346301892054]</td>\n",
       "    </tr>\n",
       "    <tr>\n",
       "      <th>38</th>\n",
       "      <td>5dd2065d-f1a8-4bad-8d1e-ac4cf9f96dac-39</td>\n",
       "      <td>Risk</td>\n",
       "      <td>[0.43477433561377266, 0.5652256643862272]</td>\n",
       "    </tr>\n",
       "    <tr>\n",
       "      <th>39</th>\n",
       "      <td>5dd2065d-f1a8-4bad-8d1e-ac4cf9f96dac-40</td>\n",
       "      <td>No Risk</td>\n",
       "      <td>[0.548834281480881, 0.45116571851911896]</td>\n",
       "    </tr>\n",
       "    <tr>\n",
       "      <th>40</th>\n",
       "      <td>5dd2065d-f1a8-4bad-8d1e-ac4cf9f96dac-41</td>\n",
       "      <td>No Risk</td>\n",
       "      <td>[0.963485704602028, 0.036514295397972144]</td>\n",
       "    </tr>\n",
       "    <tr>\n",
       "      <th>41</th>\n",
       "      <td>5dd2065d-f1a8-4bad-8d1e-ac4cf9f96dac-42</td>\n",
       "      <td>Risk</td>\n",
       "      <td>[0.425072885954195, 0.574927114045805]</td>\n",
       "    </tr>\n",
       "    <tr>\n",
       "      <th>42</th>\n",
       "      <td>5dd2065d-f1a8-4bad-8d1e-ac4cf9f96dac-43</td>\n",
       "      <td>No Risk</td>\n",
       "      <td>[0.8254279662570323, 0.17457203374296773]</td>\n",
       "    </tr>\n",
       "    <tr>\n",
       "      <th>43</th>\n",
       "      <td>5dd2065d-f1a8-4bad-8d1e-ac4cf9f96dac-44</td>\n",
       "      <td>No Risk</td>\n",
       "      <td>[0.7879995957706567, 0.2120004042293433]</td>\n",
       "    </tr>\n",
       "    <tr>\n",
       "      <th>44</th>\n",
       "      <td>5dd2065d-f1a8-4bad-8d1e-ac4cf9f96dac-45</td>\n",
       "      <td>No Risk</td>\n",
       "      <td>[0.5052884464745597, 0.4947115535254404]</td>\n",
       "    </tr>\n",
       "    <tr>\n",
       "      <th>45</th>\n",
       "      <td>5dd2065d-f1a8-4bad-8d1e-ac4cf9f96dac-46</td>\n",
       "      <td>No Risk</td>\n",
       "      <td>[0.9087021727553529, 0.09129782724464719]</td>\n",
       "    </tr>\n",
       "    <tr>\n",
       "      <th>46</th>\n",
       "      <td>5dd2065d-f1a8-4bad-8d1e-ac4cf9f96dac-47</td>\n",
       "      <td>No Risk</td>\n",
       "      <td>[0.9230155116588799, 0.07698448834112012]</td>\n",
       "    </tr>\n",
       "    <tr>\n",
       "      <th>47</th>\n",
       "      <td>5dd2065d-f1a8-4bad-8d1e-ac4cf9f96dac-48</td>\n",
       "      <td>No Risk</td>\n",
       "      <td>[0.9593381612113845, 0.04066183878861552]</td>\n",
       "    </tr>\n",
       "    <tr>\n",
       "      <th>48</th>\n",
       "      <td>5dd2065d-f1a8-4bad-8d1e-ac4cf9f96dac-49</td>\n",
       "      <td>No Risk</td>\n",
       "      <td>[0.6642366906841957, 0.3357633093158044]</td>\n",
       "    </tr>\n",
       "    <tr>\n",
       "      <th>49</th>\n",
       "      <td>5dd2065d-f1a8-4bad-8d1e-ac4cf9f96dac-50</td>\n",
       "      <td>Risk</td>\n",
       "      <td>[0.15040886874650802, 0.849591131253492]</td>\n",
       "    </tr>\n",
       "    <tr>\n",
       "      <th>50</th>\n",
       "      <td>5dd2065d-f1a8-4bad-8d1e-ac4cf9f96dac-51</td>\n",
       "      <td>No Risk</td>\n",
       "      <td>[0.6462517820312516, 0.35374821796874845]</td>\n",
       "    </tr>\n",
       "    <tr>\n",
       "      <th>51</th>\n",
       "      <td>5dd2065d-f1a8-4bad-8d1e-ac4cf9f96dac-52</td>\n",
       "      <td>Risk</td>\n",
       "      <td>[0.488561969690842, 0.5114380303091581]</td>\n",
       "    </tr>\n",
       "    <tr>\n",
       "      <th>52</th>\n",
       "      <td>5dd2065d-f1a8-4bad-8d1e-ac4cf9f96dac-53</td>\n",
       "      <td>No Risk</td>\n",
       "      <td>[0.8196431512857858, 0.18035684871421423]</td>\n",
       "    </tr>\n",
       "    <tr>\n",
       "      <th>53</th>\n",
       "      <td>5dd2065d-f1a8-4bad-8d1e-ac4cf9f96dac-54</td>\n",
       "      <td>Risk</td>\n",
       "      <td>[0.2161012347922318, 0.7838987652077681]</td>\n",
       "    </tr>\n",
       "    <tr>\n",
       "      <th>54</th>\n",
       "      <td>5dd2065d-f1a8-4bad-8d1e-ac4cf9f96dac-55</td>\n",
       "      <td>Risk</td>\n",
       "      <td>[0.12358735367593879, 0.8764126463240614]</td>\n",
       "    </tr>\n",
       "    <tr>\n",
       "      <th>55</th>\n",
       "      <td>5dd2065d-f1a8-4bad-8d1e-ac4cf9f96dac-56</td>\n",
       "      <td>No Risk</td>\n",
       "      <td>[0.6618514919526992, 0.3381485080473007]</td>\n",
       "    </tr>\n",
       "    <tr>\n",
       "      <th>56</th>\n",
       "      <td>5dd2065d-f1a8-4bad-8d1e-ac4cf9f96dac-57</td>\n",
       "      <td>Risk</td>\n",
       "      <td>[0.46184578150952305, 0.5381542184904771]</td>\n",
       "    </tr>\n",
       "    <tr>\n",
       "      <th>57</th>\n",
       "      <td>5dd2065d-f1a8-4bad-8d1e-ac4cf9f96dac-58</td>\n",
       "      <td>No Risk</td>\n",
       "      <td>[0.9669502596940172, 0.033049740305982886]</td>\n",
       "    </tr>\n",
       "    <tr>\n",
       "      <th>58</th>\n",
       "      <td>5dd2065d-f1a8-4bad-8d1e-ac4cf9f96dac-59</td>\n",
       "      <td>No Risk</td>\n",
       "      <td>[0.9605521022267842, 0.03944789777321584]</td>\n",
       "    </tr>\n",
       "    <tr>\n",
       "      <th>59</th>\n",
       "      <td>5dd2065d-f1a8-4bad-8d1e-ac4cf9f96dac-60</td>\n",
       "      <td>No Risk</td>\n",
       "      <td>[0.7806639077476052, 0.21933609225239473]</td>\n",
       "    </tr>\n",
       "  </tbody>\n",
       "</table>\n",
       "</div>"
      ],
      "text/plain": [
       "                                 scoring_id predictedLabel  \\\n",
       "0    5dd2065d-f1a8-4bad-8d1e-ac4cf9f96dac-1           Risk   \n",
       "1    5dd2065d-f1a8-4bad-8d1e-ac4cf9f96dac-2        No Risk   \n",
       "2    5dd2065d-f1a8-4bad-8d1e-ac4cf9f96dac-3        No Risk   \n",
       "3    5dd2065d-f1a8-4bad-8d1e-ac4cf9f96dac-4        No Risk   \n",
       "4    5dd2065d-f1a8-4bad-8d1e-ac4cf9f96dac-5        No Risk   \n",
       "5    5dd2065d-f1a8-4bad-8d1e-ac4cf9f96dac-6        No Risk   \n",
       "6    5dd2065d-f1a8-4bad-8d1e-ac4cf9f96dac-7           Risk   \n",
       "7    5dd2065d-f1a8-4bad-8d1e-ac4cf9f96dac-8           Risk   \n",
       "8    5dd2065d-f1a8-4bad-8d1e-ac4cf9f96dac-9        No Risk   \n",
       "9   5dd2065d-f1a8-4bad-8d1e-ac4cf9f96dac-10        No Risk   \n",
       "10  5dd2065d-f1a8-4bad-8d1e-ac4cf9f96dac-11        No Risk   \n",
       "11  5dd2065d-f1a8-4bad-8d1e-ac4cf9f96dac-12        No Risk   \n",
       "12  5dd2065d-f1a8-4bad-8d1e-ac4cf9f96dac-13           Risk   \n",
       "13  5dd2065d-f1a8-4bad-8d1e-ac4cf9f96dac-14           Risk   \n",
       "14  5dd2065d-f1a8-4bad-8d1e-ac4cf9f96dac-15        No Risk   \n",
       "15  5dd2065d-f1a8-4bad-8d1e-ac4cf9f96dac-16           Risk   \n",
       "16  5dd2065d-f1a8-4bad-8d1e-ac4cf9f96dac-17           Risk   \n",
       "17  5dd2065d-f1a8-4bad-8d1e-ac4cf9f96dac-18        No Risk   \n",
       "18  5dd2065d-f1a8-4bad-8d1e-ac4cf9f96dac-19        No Risk   \n",
       "19  5dd2065d-f1a8-4bad-8d1e-ac4cf9f96dac-20           Risk   \n",
       "20  5dd2065d-f1a8-4bad-8d1e-ac4cf9f96dac-21           Risk   \n",
       "21  5dd2065d-f1a8-4bad-8d1e-ac4cf9f96dac-22        No Risk   \n",
       "22  5dd2065d-f1a8-4bad-8d1e-ac4cf9f96dac-23        No Risk   \n",
       "23  5dd2065d-f1a8-4bad-8d1e-ac4cf9f96dac-24        No Risk   \n",
       "24  5dd2065d-f1a8-4bad-8d1e-ac4cf9f96dac-25           Risk   \n",
       "25  5dd2065d-f1a8-4bad-8d1e-ac4cf9f96dac-26           Risk   \n",
       "26  5dd2065d-f1a8-4bad-8d1e-ac4cf9f96dac-27        No Risk   \n",
       "27  5dd2065d-f1a8-4bad-8d1e-ac4cf9f96dac-28        No Risk   \n",
       "28  5dd2065d-f1a8-4bad-8d1e-ac4cf9f96dac-29        No Risk   \n",
       "29  5dd2065d-f1a8-4bad-8d1e-ac4cf9f96dac-30        No Risk   \n",
       "30  5dd2065d-f1a8-4bad-8d1e-ac4cf9f96dac-31           Risk   \n",
       "31  5dd2065d-f1a8-4bad-8d1e-ac4cf9f96dac-32           Risk   \n",
       "32  5dd2065d-f1a8-4bad-8d1e-ac4cf9f96dac-33           Risk   \n",
       "33  5dd2065d-f1a8-4bad-8d1e-ac4cf9f96dac-34        No Risk   \n",
       "34  5dd2065d-f1a8-4bad-8d1e-ac4cf9f96dac-35        No Risk   \n",
       "35  5dd2065d-f1a8-4bad-8d1e-ac4cf9f96dac-36        No Risk   \n",
       "36  5dd2065d-f1a8-4bad-8d1e-ac4cf9f96dac-37        No Risk   \n",
       "37  5dd2065d-f1a8-4bad-8d1e-ac4cf9f96dac-38        No Risk   \n",
       "38  5dd2065d-f1a8-4bad-8d1e-ac4cf9f96dac-39           Risk   \n",
       "39  5dd2065d-f1a8-4bad-8d1e-ac4cf9f96dac-40        No Risk   \n",
       "40  5dd2065d-f1a8-4bad-8d1e-ac4cf9f96dac-41        No Risk   \n",
       "41  5dd2065d-f1a8-4bad-8d1e-ac4cf9f96dac-42           Risk   \n",
       "42  5dd2065d-f1a8-4bad-8d1e-ac4cf9f96dac-43        No Risk   \n",
       "43  5dd2065d-f1a8-4bad-8d1e-ac4cf9f96dac-44        No Risk   \n",
       "44  5dd2065d-f1a8-4bad-8d1e-ac4cf9f96dac-45        No Risk   \n",
       "45  5dd2065d-f1a8-4bad-8d1e-ac4cf9f96dac-46        No Risk   \n",
       "46  5dd2065d-f1a8-4bad-8d1e-ac4cf9f96dac-47        No Risk   \n",
       "47  5dd2065d-f1a8-4bad-8d1e-ac4cf9f96dac-48        No Risk   \n",
       "48  5dd2065d-f1a8-4bad-8d1e-ac4cf9f96dac-49        No Risk   \n",
       "49  5dd2065d-f1a8-4bad-8d1e-ac4cf9f96dac-50           Risk   \n",
       "50  5dd2065d-f1a8-4bad-8d1e-ac4cf9f96dac-51        No Risk   \n",
       "51  5dd2065d-f1a8-4bad-8d1e-ac4cf9f96dac-52           Risk   \n",
       "52  5dd2065d-f1a8-4bad-8d1e-ac4cf9f96dac-53        No Risk   \n",
       "53  5dd2065d-f1a8-4bad-8d1e-ac4cf9f96dac-54           Risk   \n",
       "54  5dd2065d-f1a8-4bad-8d1e-ac4cf9f96dac-55           Risk   \n",
       "55  5dd2065d-f1a8-4bad-8d1e-ac4cf9f96dac-56        No Risk   \n",
       "56  5dd2065d-f1a8-4bad-8d1e-ac4cf9f96dac-57           Risk   \n",
       "57  5dd2065d-f1a8-4bad-8d1e-ac4cf9f96dac-58        No Risk   \n",
       "58  5dd2065d-f1a8-4bad-8d1e-ac4cf9f96dac-59        No Risk   \n",
       "59  5dd2065d-f1a8-4bad-8d1e-ac4cf9f96dac-60        No Risk   \n",
       "\n",
       "                                   probability  \n",
       "0    [0.05564218947357054, 0.9443578105264294]  \n",
       "1     [0.6361112449853593, 0.3638887550146407]  \n",
       "2   [0.9785386003546439, 0.021461399645356042]  \n",
       "3    [0.8617174590905933, 0.13828254090940678]  \n",
       "4    [0.7122228451303976, 0.28777715486960254]  \n",
       "5     [0.5799025535293585, 0.4200974464706415]  \n",
       "6    [0.19699854933040914, 0.8030014506695908]  \n",
       "7    [0.44623047307212377, 0.5537695269278763]  \n",
       "8     [0.8726321006303703, 0.1273678993696296]  \n",
       "9    [0.8321834901011712, 0.16781650989882874]  \n",
       "10   [0.5940541561259473, 0.40594584387405275]  \n",
       "11    [0.6576311875679162, 0.3423688124320838]  \n",
       "12   [0.33591732554823756, 0.6640826744517625]  \n",
       "13   [0.48278983204014214, 0.5172101679598579]  \n",
       "14  [0.9842792588262957, 0.015720741173704318]  \n",
       "15   [0.42735863467725377, 0.5726413653227462]  \n",
       "16   [0.14751937377542879, 0.8524806262245713]  \n",
       "17   [0.9621045978551462, 0.03789540214485369]  \n",
       "18      [0.71327500018511, 0.2867249998148899]  \n",
       "19   [0.05818880427347546, 0.9418111957265245]  \n",
       "20      [0.16060851037351, 0.8393914896264899]  \n",
       "21   [0.8917293395939417, 0.10827066040605819]  \n",
       "22    [0.779789594021213, 0.22021040597878705]  \n",
       "23    [0.7141236065430216, 0.2858763934569783]  \n",
       "24    [0.3148954895807388, 0.6851045104192612]  \n",
       "25   [0.36099020614475685, 0.6390097938552433]  \n",
       "26   [0.9458879629075365, 0.05411203709246348]  \n",
       "27      [0.707836799710625, 0.292163200289375]  \n",
       "28   [0.8888543656980881, 0.11114563430191197]  \n",
       "29     [0.620350044178308, 0.3796499558216921]  \n",
       "30    [0.13990652813438603, 0.860093471865614]  \n",
       "31   [0.19334303038845732, 0.8066569696115428]  \n",
       "32   [0.05564218947357054, 0.9443578105264294]  \n",
       "33   [0.5671980894662974, 0.43280191053370276]  \n",
       "34   [0.8844266248545528, 0.11557337514544723]  \n",
       "35  [0.9753242680451943, 0.024675731954805553]  \n",
       "36    [0.820326826577196, 0.17967317342280395]  \n",
       "37   [0.5720765369810795, 0.42792346301892054]  \n",
       "38   [0.43477433561377266, 0.5652256643862272]  \n",
       "39    [0.548834281480881, 0.45116571851911896]  \n",
       "40   [0.963485704602028, 0.036514295397972144]  \n",
       "41      [0.425072885954195, 0.574927114045805]  \n",
       "42   [0.8254279662570323, 0.17457203374296773]  \n",
       "43    [0.7879995957706567, 0.2120004042293433]  \n",
       "44    [0.5052884464745597, 0.4947115535254404]  \n",
       "45   [0.9087021727553529, 0.09129782724464719]  \n",
       "46   [0.9230155116588799, 0.07698448834112012]  \n",
       "47   [0.9593381612113845, 0.04066183878861552]  \n",
       "48    [0.6642366906841957, 0.3357633093158044]  \n",
       "49    [0.15040886874650802, 0.849591131253492]  \n",
       "50   [0.6462517820312516, 0.35374821796874845]  \n",
       "51     [0.488561969690842, 0.5114380303091581]  \n",
       "52   [0.8196431512857858, 0.18035684871421423]  \n",
       "53    [0.2161012347922318, 0.7838987652077681]  \n",
       "54   [0.12358735367593879, 0.8764126463240614]  \n",
       "55    [0.6618514919526992, 0.3381485080473007]  \n",
       "56   [0.46184578150952305, 0.5381542184904771]  \n",
       "57  [0.9669502596940172, 0.033049740305982886]  \n",
       "58   [0.9605521022267842, 0.03944789777321584]  \n",
       "59   [0.7806639077476052, 0.21933609225239473]  "
      ]
     },
     "execution_count": 105,
     "metadata": {},
     "output_type": "execute_result"
    }
   ],
   "source": [
    "payload_data = subscription.payload_logging.get_table_content(limit=60)\n",
    "payload_data.filter(items=['scoring_id', 'predictedLabel', 'probability'])"
   ]
  },
  {
   "cell_type": "markdown",
   "metadata": {},
   "source": [
    "## Congratulations!\n",
    "\n",
    "You have finished the notebook for IBM Watson OpenScale. You can now view the OpenScale dashboard by going to the ICP `Home` page, and clicking `Add-ons`. Choose the `OpenScale` tile and click the menu to `Open`. Click on the tile for the model you've created to see fairness, accuracy, and performance monitors. Click on the timeseries graph to get detailed information on transactions during a specific time window.\n",
    "\n",
    "OpenScale shows model performance over time. You have two options to keep data flowing to your OpenScale graphs:\n",
    "  * Download, configure and schedule the [model feed notebook](https://raw.githubusercontent.com/emartensibm/german-credit/master/german_credit_scoring_feed.ipynb). This notebook can be set up with your WML credentials, and scheduled to provide a consistent flow of scoring requests to your model, which will appear in your OpenScale monitors.\n",
    "  * Re-run this notebook. Running this notebook from the beginning will delete and re-create the model and deployment, and re-create the historical data. Please note that the payload and measurement logs for the previous deployment will continue to be stored in your datamart, and can be deleted if necessary."
   ]
  },
  {
   "cell_type": "markdown",
   "metadata": {},
   "source": [
    "## Authors\n",
    "\n",
    "Eric Martens, is a technical specialist having expertise in analysis and description of business processes, and their translation into functional and non-functional IT requirements. He acts as the interpreter between the worlds of IT and business.\n",
    "\n",
    "Lukasz Cmielowski, PhD, is an Automation Architect and Data Scientist at IBM with a track record of developing enterprise-level applications that substantially increases clients' ability to turn data into actionable knowledge."
   ]
  }
 ],
 "metadata": {
  "kernelspec": {
   "display_name": "Python 3.6",
   "language": "python",
   "name": "python3"
  },
  "language_info": {
   "codemirror_mode": {
    "name": "ipython",
    "version": 3
   },
   "file_extension": ".py",
   "mimetype": "text/x-python",
   "name": "python",
   "nbconvert_exporter": "python",
   "pygments_lexer": "ipython3",
   "version": "3.6.8"
  }
 },
 "nbformat": 4,
 "nbformat_minor": 1
}